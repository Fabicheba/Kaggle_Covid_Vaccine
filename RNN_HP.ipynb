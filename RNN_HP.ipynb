{
  "nbformat": 4,
  "nbformat_minor": 0,
  "metadata": {
    "colab": {
      "name": "RNN_HP",
      "provenance": [],
      "collapsed_sections": []
    },
    "kernelspec": {
      "name": "python3",
      "display_name": "Python 3"
    },
    "accelerator": "GPU"
  },
  "cells": [
    {
      "cell_type": "code",
      "metadata": {
        "id": "bLVmN7USLfF6"
      },
      "source": [
        "from google.colab import files\n",
        "import io\n",
        "\n",
        "import numpy as np\n",
        "import pandas as pd\n",
        "import random\n",
        "\n",
        "import tensorflow as tf\n",
        "from tensorflow import keras\n",
        "from tensorflow.keras import callbacks\n",
        "from tensorflow.keras import layers as L\n",
        "from sklearn import preprocessing\n",
        "\n",
        "\n",
        "import matplotlib\n",
        "import matplotlib.pyplot as plt\n",
        "\n",
        "# %load_ext tensorboard\n",
        "# !rm -rf ./logs/\n",
        "# from tensorflow.keras.callbacks import TensorBoard\n",
        "# from tensorboard.plugins.hparams import api as hp\n"
      ],
      "execution_count": 1,
      "outputs": []
    },
    {
      "cell_type": "code",
      "metadata": {
        "id": "HxcJxmccLlzT",
        "outputId": "d217159e-06de-47eb-877d-5b90630b9f96",
        "colab": {
          "resources": {
            "http://localhost:8080/nbextensions/google.colab/files.js": {
              "data": "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",
              "ok": true,
              "headers": [
                [
                  "content-type",
                  "application/javascript"
                ]
              ],
              "status": 200,
              "status_text": ""
            }
          },
          "base_uri": "https://localhost:8080/",
          "height": 72
        }
      },
      "source": [
        "uploaded = files.upload()"
      ],
      "execution_count": 2,
      "outputs": [
        {
          "output_type": "display_data",
          "data": {
            "text/html": [
              "\n",
              "     <input type=\"file\" id=\"files-81fc9f87-28fc-4154-8fe7-fdc2d59b91ce\" name=\"files[]\" multiple disabled\n",
              "        style=\"border:none\" />\n",
              "     <output id=\"result-81fc9f87-28fc-4154-8fe7-fdc2d59b91ce\">\n",
              "      Upload widget is only available when the cell has been executed in the\n",
              "      current browser session. Please rerun this cell to enable.\n",
              "      </output>\n",
              "      <script src=\"/nbextensions/google.colab/files.js\"></script> "
            ],
            "text/plain": [
              "<IPython.core.display.HTML object>"
            ]
          },
          "metadata": {
            "tags": []
          }
        },
        {
          "output_type": "stream",
          "text": [
            "Saving train.json to train (1).json\n"
          ],
          "name": "stdout"
        }
      ]
    },
    {
      "cell_type": "code",
      "metadata": {
        "id": "ihPGNS4wLl25"
      },
      "source": [
        "train = pd.read_json(io.BytesIO(uploaded['train.json']),lines=True)\n",
        "train = train[train.SN_filter == 1]\n",
        "pred_cols = ['reactivity', 'deg_Mg_pH10', 'deg_Mg_50C']\n",
        "input_cols = ['sequence', 'structure', 'predicted_loop_type']"
      ],
      "execution_count": 3,
      "outputs": []
    },
    {
      "cell_type": "code",
      "metadata": {
        "id": "CdVIvoaDLl5w"
      },
      "source": [
        "def preprocess_inputs(df,input_cols):\n",
        "    \"\"\"\n",
        "    Converts inputs into one-hot\n",
        "    \"\"\"\n",
        "    output = []\n",
        "    for i in range(len(input_cols)):\n",
        "        tokenizer = keras.preprocessing.text.Tokenizer(char_level=True)\n",
        "        tokenizer.fit_on_texts(np.asarray(df[input_cols[i]]))\n",
        "        tmp = tokenizer.texts_to_sequences(np.asarray(df[input_cols[i]]))\n",
        "        new_var = np.asarray(keras.utils.to_categorical(tmp)[:,:,1:])\n",
        "        if new_var.shape[1] != 130:\n",
        "            longer = np.full((new_var.shape[0], 130, new_var.shape[2]), np.float32(0))\n",
        "            for seq_index in range(len(new_var)):\n",
        "                tmp = new_var[seq_index]\n",
        "                row_len = len(tmp[0])\n",
        "                new_line = np.full(row_len, -10, np.float32)\n",
        "                while len(tmp) != 130:\n",
        "                    tmp = np.vstack((tmp, new_line))\n",
        "                longer[seq_index] = tmp\n",
        "            output.append(longer)\n",
        "        else:\n",
        "            output.append(new_var)\n",
        "    return output\n",
        "\n",
        "\n",
        "\n",
        "def merge_inputs(inputs):\n",
        "    \"\"\"\n",
        "    Merges the one-hot inputs by columns\n",
        "    transform in numpy array\n",
        "    \"\"\"\n",
        "    size = len(inputs[0])\n",
        "    output = []\n",
        "    for i in range(size):\n",
        "        output.append(np.concatenate((inputs[0][i], inputs[1][i], inputs[2][i]), axis = 1))\n",
        "    return np.asarray(output)\n",
        "\n",
        "\n",
        "def preprocess_results(df, results, train = True):\n",
        "    \"\"\"\n",
        "    Makes sure that the results are in the appropriate format:\n",
        "        [layers,lines,columns] in an np array\n",
        "    \"\"\"\n",
        "    tmp = np.asarray(df[results])\n",
        "    size = len(tmp[0])\n",
        "    output = np.zeros((len(tmp),len(tmp[0][0]),len(results)))\n",
        "    for i in range(len(results)):\n",
        "        for j in range(size):\n",
        "            tmp[i,j] = np.asarray(tmp[i,j])\n",
        "    for i in range(len(tmp)):\n",
        "        output[i] = np.vstack((tmp[i,0], tmp[i,1], tmp[i,2]))[:,:].T\n",
        "    return output\n",
        "\n",
        "\n",
        "\n",
        "def MCRMSE(y_true, y_pred):\n",
        "    colwise_mse = tf.reduce_mean(tf.square(y_true - y_pred), axis=(0, 1))\n",
        "    return tf.reduce_mean(tf.sqrt(colwise_mse), axis=-1)"
      ],
      "execution_count": 4,
      "outputs": []
    },
    {
      "cell_type": "code",
      "metadata": {
        "id": "9ZsRS6O7Ll9C"
      },
      "source": [
        "inputs_ohe = preprocess_inputs(train, input_cols)\n",
        "inputs_array = merge_inputs(inputs_ohe)\n",
        "expected_results = preprocess_results(train, pred_cols)"
      ],
      "execution_count": 5,
      "outputs": []
    },
    {
      "cell_type": "code",
      "metadata": {
        "id": "hXBaAG_lLl_-"
      },
      "source": [
        "#### MODEL GRU Bidirectionnal ####\n",
        "\n",
        "def build_gru(output_length, lr, dropout1, dropout2, dropout3,\n",
        "              input_shape = (130,14), \n",
        "              space_dropout = 0.2,\n",
        "              masking_val = np.float32(-10)) :\n",
        "    \n",
        "    opt = tf.keras.optimizers.Adam(learning_rate = lr)\n",
        "\n",
        "    inputs = L.Input(shape = input_shape)\n",
        "    mask   = L.Masking(mask_value=np.float32(masking_val))(inputs)\n",
        "    mask   = L.SpatialDropout1D(space_dropout)(mask)\n",
        "    \n",
        "    x1 = L.Bidirectional(L.GRU(units = 300, dropout = dropout1, return_sequences = True))(mask)\n",
        "    \n",
        "    x2 = L.Bidirectional(L.GRU(units = 150, dropout = dropout2, return_sequences = True))(x1)\n",
        "    x3 = L.Bidirectional(L.GRU(units = 70,  dropout = dropout3, return_sequences = True))(x2)\n",
        "    \n",
        "    # cut masking values\n",
        "    sliced_layer = x3[:, :output_length]\n",
        "    out_layer = L.Dense(3, activation = 'linear')(sliced_layer)\n",
        "    \n",
        "    model_gru = tf.keras.Model(inputs = inputs, outputs = out_layer)\n",
        "    model_gru.compile(opt, loss = 'mse', metrics = MCRMSE) #[keras.metrics.RootMeanSquaredError()]\n",
        "    \n",
        "    return model_gru"
      ],
      "execution_count": 7,
      "outputs": []
    },
    {
      "cell_type": "code",
      "metadata": {
        "id": "-FK2Vc_ILmDe"
      },
      "source": [
        "####### Variation du LR de 1e-7 à 1e-1 ######\n",
        "\n",
        "dropout = 0.5\n",
        "output_length=68\n",
        "batch_size=64\n",
        "epochs=100\n",
        "validation_split = 0.1\n",
        "\n",
        "\n",
        "model_LR01 = build_gru(output_length, lr=0.1, dropout1=dropout, dropout2=dropout, dropout3=dropout)\n",
        "model_LR02 = build_gru(output_length, lr=0.01, dropout1=dropout, dropout2=dropout, dropout3=dropout)\n",
        "model_LR03 = build_gru(output_length, lr=0.001, dropout1=dropout, dropout2=dropout, dropout3=dropout)\n",
        "model_LR04 = build_gru(output_length, lr=0.0001, dropout1=dropout, dropout2=dropout, dropout3=dropout)\n",
        "model_LR05 = build_gru(output_length, lr=0.000001, dropout1=dropout, dropout2=dropout, dropout3=dropout)\n",
        "model_LR06 = build_gru(output_length, lr=0.0000001, dropout1=dropout, dropout2=dropout, dropout3=dropout)\n",
        "\n",
        "history_LR01 = model_LR01.fit(inputs_array, expected_results, batch_size, epochs, validation_split, shuffle = True)\n",
        "history_LR02 = model_LR02.fit(inputs_array, expected_results, batch_size, epochs, validation_split, shuffle = True)\n",
        "history_LR03 = model_LR03.fit(inputs_array, expected_results, batch_size, epochs, validation_split, shuffle = True)\n",
        "history_LR04 = model_LR04.fit(inputs_array, expected_results, batch_size, epochs, validation_split, shuffle = True)\n",
        "history_LR05 = model_LR05.fit(inputs_array, expected_results, batch_size, epochs, validation_split, shuffle = True)\n",
        "history_LR06 = model_LR06.fit(inputs_array, expected_results, batch_size, epochs, validation_split, shuffle = True)\n"
      ],
      "execution_count": null,
      "outputs": []
    },
    {
      "cell_type": "code",
      "metadata": {
        "id": "ptAMJ6-B0BfV",
        "outputId": "f9703f2f-9e0c-4dcc-e043-ccec33c0cf43",
        "colab": {
          "base_uri": "https://localhost:8080/",
          "height": 34
        }
      },
      "source": [
        "print(history_LR03.history.keys())"
      ],
      "execution_count": 16,
      "outputs": [
        {
          "output_type": "stream",
          "text": [
            "dict_keys(['loss', 'MCRMSE'])\n"
          ],
          "name": "stdout"
        }
      ]
    },
    {
      "cell_type": "code",
      "metadata": {
        "id": "_b-6bqlfO9Xg",
        "outputId": "50ec260d-3520-434f-a38f-8b72d0db6c6e",
        "colab": {
          "base_uri": "https://localhost:8080/",
          "height": 527
        }
      },
      "source": [
        "\n",
        "score_LR01 = model_LR01.evaluate(inputs_array, expected_results, verbose =0)\n",
        "score_LR02 = model_LR02.evaluate(inputs_array, expected_results, verbose =0)\n",
        "score_LR03 = model_LR03.evaluate(inputs_array, expected_results, verbose =0)\n",
        "score_LR04 = model_LR04.evaluate(inputs_array, expected_results, verbose =0)\n",
        "score_LR05 = model_LR05.evaluate(inputs_array, expected_results, verbose =0)\n",
        "score_LR06 = model_LR06.evaluate(inputs_array, expected_results, verbose =0)\n",
        "\n",
        "print('LR = 1e-1')\n",
        "print('Test loss:', score_LR01[0])\n",
        "print('Test MCRMSE:', score_LR01[1])\n",
        "print('==============================\\n')\n",
        "print('LR = 1e-2')\n",
        "print('Test loss:', score_LR02[0])\n",
        "print('Test MCRMSE:', score_LR02[1])\n",
        "print('==============================\\n')\n",
        "print('LR = 1e-3')\n",
        "print('Test loss:', score_LR03[0])\n",
        "print('Test MCRMSE:', score_LR03[1])\n",
        "print('==============================\\n')\n",
        "print('LR = 1e-4')\n",
        "print('Test loss:', score_LR04[0])\n",
        "print('Test MCRMSE:', score_LR04[1])\n",
        "print('==============================\\n')\n",
        "print('LR = 1e-5')\n",
        "print('Test loss:', score_LR05[0])\n",
        "print('Test MCRMSE:', score_LR05[1])\n",
        "print('==============================\\n')\n",
        "print('LR = 1e-6')\n",
        "print('Test loss:', score_LR06[0])\n",
        "print('Test MCRMSE:', score_LR06[1])\n",
        "print('==============================\\n')\n"
      ],
      "execution_count": 34,
      "outputs": [
        {
          "output_type": "stream",
          "text": [
            "LR = 1e-1\n",
            "Test loss: 0.28751689195632935\n",
            "Test MCRMSE: 0.5309927463531494\n",
            "==============================\n",
            "\n",
            "LR = 1e-2\n",
            "Test loss: 0.10164948552846909\n",
            "Test MCRMSE: 0.3174300789833069\n",
            "==============================\n",
            "\n",
            "LR = 1e-3\n",
            "Test loss: 0.0641423761844635\n",
            "Test MCRMSE: 0.2520054280757904\n",
            "==============================\n",
            "\n",
            "LR = 1e-4\n",
            "Test loss: 0.10539068281650543\n",
            "Test MCRMSE: 0.3230680823326111\n",
            "==============================\n",
            "\n",
            "LR = 1e-5\n",
            "Test loss: 0.19227443635463715\n",
            "Test MCRMSE: 0.43601086735725403\n",
            "==============================\n",
            "\n",
            "LR = 1e-6\n",
            "Test loss: 0.2890998125076294\n",
            "Test MCRMSE: 0.5346815586090088\n",
            "==============================\n",
            "\n"
          ],
          "name": "stdout"
        }
      ]
    },
    {
      "cell_type": "code",
      "metadata": {
        "id": "XdKy0YD424oM",
        "outputId": "14e3f2c1-2be9-4200-b3bb-cbe84465b130",
        "colab": {
          "base_uri": "https://localhost:8080/",
          "height": 281
        }
      },
      "source": [
        "loss1 = history_LR01.history['loss']\n",
        "loss2 = history_LR02.history['loss']\n",
        "loss3 = history_LR03.history['loss']\n",
        "loss4 = history_LR04.history['loss']\n",
        "loss5 = history_LR05.history['loss']\n",
        "loss6 = history_LR06.history['loss']\n",
        "\n",
        "epochs = range(len(loss2))\n",
        "plt.figure()\n",
        "\n",
        "plt.plot(epochs, loss1, 'b', label='LR = 1e-1')\n",
        "plt.plot(epochs, loss2, 'r', label='LR = 1e-2')\n",
        "plt.plot(epochs, loss3, 'g', label='LR = 1e-3')\n",
        "plt.plot(epochs, loss4, 'k', label='LR = 1e-4')\n",
        "plt.plot(epochs, loss5, 'c', label='LR = 1e-5')\n",
        "plt.plot(epochs, loss6, 'm', label='LR = 1e-6')\n",
        "\n",
        "plt.title('Evaluation de la loss en fonction du learning rate')\n",
        "\n",
        "axes = plt.gca()\n",
        "axes.set_ylim(0, 1)\n",
        "\n",
        "plt.legend()\n",
        "plt.show()\n",
        "#.savefig('foo.png', bbox_inches='tight') \n",
        "\n",
        "\n"
      ],
      "execution_count": 43,
      "outputs": [
        {
          "output_type": "display_data",
          "data": {
            "image/png": "[encoded data removed]",
            "text/plain": [
              "<Figure size 432x288 with 1 Axes>"
            ]
          },
          "metadata": {
            "tags": [],
            "needs_background": "light"
          }
        }
      ]
    },
    {
      "cell_type": "code",
      "metadata": {
        "id": "aR7xT4Be33LA",
        "outputId": "87190fa4-19eb-4c4a-e92a-76ad776e1c05",
        "colab": {
          "base_uri": "https://localhost:8080/",
          "height": 281
        }
      },
      "source": [
        "MCRMSE1 = history_LR01.history['MCRMSE']\n",
        "MCRMSE2 = history_LR02.history['MCRMSE']\n",
        "MCRMSE3 = history_LR03.history['MCRMSE']\n",
        "MCRMSE4 = history_LR04.history['MCRMSE']\n",
        "MCRMSE5 = history_LR05.history['MCRMSE']\n",
        "MCRMSE6 = history_LR06.history['MCRMSE']\n",
        "\n",
        "epochs = range(len(loss2))\n",
        "plt.figure()\n",
        "\n",
        "plt.plot(epochs, MCRMSE1, 'b', label='LR = 1e-1')\n",
        "plt.plot(epochs, MCRMSE2, 'r', label='LR = 1e-2')\n",
        "plt.plot(epochs, MCRMSE3, 'g', label='LR = 1e-3')\n",
        "plt.plot(epochs, MCRMSE4, 'k', label='LR = 1e-4')\n",
        "plt.plot(epochs, MCRMSE5, 'c', label='LR = 1e-5')\n",
        "plt.plot(epochs, MCRMSE6, 'm', label='LR = 1e-6')\n",
        "\n",
        "plt.title('Evaluation du MCRMSE en fonction du learning rate')\n",
        "axes = plt.gca()\n",
        "axes.set_ylim(0, 1)\n",
        "\n",
        "plt.legend()\n",
        "plt.show()"
      ],
      "execution_count": 50,
      "outputs": [
        {
          "output_type": "display_data",
          "data": {
            "image/png": "[encoded data removed]",
            "text/plain": [
              "<Figure size 432x288 with 1 Axes>"
            ]
          },
          "metadata": {
            "tags": [],
            "needs_background": "light"
          }
        }
      ]
    },
    {
      "cell_type": "code",
      "metadata": {
        "id": "psZJWk9_bPgA"
      },
      "source": [
        "lr=0.001\n",
        "output_length=68\n",
        "batch_size=64\n",
        "epochs=100\n",
        "validation_split = 0.1\n",
        "\n",
        "\n",
        "model_LR03_DP01 = build_gru(output_length, lr, dropout1=0.1, dropout2=0.1, dropout3=0.1)\n",
        "model_LR03_DP02 = build_gru(output_length, lr, dropout1=0.2, dropout2=0.2, dropout3=0.2)\n",
        "model_LR03_DP03 = build_gru(output_length, lr, dropout1=0.3, dropout2=0.3, dropout3=0.3)\n",
        "model_LR03_DP04 = build_gru(output_length, lr, dropout1=0.4, dropout2=0.4, dropout3=0.4)\n",
        "model_LR03_DPmix = build_gru(output_length, lr, dropout1=0.4, dropout2=0.3, dropout3=0.3)\n",
        "\n",
        "history_LR03_DP01 = model_LR03_DP01.fit(inputs_array, expected_results, batch_size, epochs, validation_split, shuffle = True)\n",
        "history_LR03_DP02 = model_LR03_DP02.fit(inputs_array, expected_results, batch_size, epochs, validation_split, shuffle = True)\n",
        "history_LR03_DP03 = model_LR03_DP03.fit(inputs_array, expected_results, batch_size, epochs, validation_split, shuffle = True)\n",
        "history_LR03_DP04 = model_LR03_DP04.fit(inputs_array, expected_results, batch_size, epochs, validation_split, shuffle = True)\n",
        "history_LR03_DPmix = model_LR03_DPmix.fit(inputs_array, expected_results, batch_size, epochs, validation_split, shuffle = True)"
      ],
      "execution_count": null,
      "outputs": []
    },
    {
      "cell_type": "code",
      "metadata": {
        "id": "iZff1z98-mrC"
      },
      "source": [
        "model_LR03_DP05 = build_gru(output_length, lr, dropout1=0.5, dropout2=0.5, dropout3=0.5)\n",
        "history_LR03_DP05 = model_LR03_DP05.fit(inputs_array, expected_results, batch_size, epochs, validation_split, shuffle = True)"
      ],
      "execution_count": null,
      "outputs": []
    },
    {
      "cell_type": "code",
      "metadata": {
        "id": "-lOLQFO68rni",
        "outputId": "f0adf31f-ac5b-437a-b1c9-97006e1a17c1",
        "colab": {
          "base_uri": "https://localhost:8080/",
          "height": 527
        }
      },
      "source": [
        "score_LR03_DP01 = model_LR03_DP01.evaluate(inputs_array, expected_results, verbose =0)\n",
        "score_LR03_DP02 = model_LR03_DP02.evaluate(inputs_array, expected_results, verbose =0)\n",
        "score_LR03_DP03 = model_LR03_DP03.evaluate(inputs_array, expected_results, verbose =0)\n",
        "score_LR03_DP04 = model_LR03_DP04.evaluate(inputs_array, expected_results, verbose =0)\n",
        "score_LR03_DPmix = model_LR03_DPmix.evaluate(inputs_array, expected_results, verbose =0)\n",
        "score_LR03_DP05 = model_LR03_DP05.evaluate(inputs_array, expected_results, verbose =0)\n",
        "\n",
        "\n",
        "print('Dropout = .1')\n",
        "print('Test loss:', score_LR03_DP01[0])\n",
        "print('Test MCRMSE:', score_LR03_DP01[1])\n",
        "print('==============================\\n')\n",
        "print('Dropout = .2')\n",
        "print('Test loss:', score_LR03_DP02[0])\n",
        "print('Test MCRMSE:', score_LR03_DP02[1])\n",
        "print('==============================\\n')\n",
        "print('Dropout = .3')\n",
        "print('Test loss:', score_LR03_DP03[0])\n",
        "print('Test MCRMSE:', score_LR03_DP03[1])\n",
        "print('==============================\\n')\n",
        "print('Dropout = .4')\n",
        "print('Test loss:', score_LR03_DP04[0])\n",
        "print('Test MCRMSE:', score_LR03_DP04[1])\n",
        "print('==============================\\n')\n",
        "print('dropout = .4, .3, .3')\n",
        "print('Test loss:', score_LR03_DPmix[0])\n",
        "print('Test MCRMSE:', score_LR03_DPmix[1])\n",
        "print('==============================\\n')\n",
        "print('dropout = .5')\n",
        "print('Test loss:', score_LR03_DP05[0])\n",
        "print('Test MCRMSE:', score_LR03_DP05[1])\n",
        "print('==============================\\n')"
      ],
      "execution_count": 57,
      "outputs": [
        {
          "output_type": "stream",
          "text": [
            "Dropout = .1\n",
            "Test loss: 0.029928429052233696\n",
            "Test MCRMSE: 0.1723891645669937\n",
            "==============================\n",
            "\n",
            "Dropout = .2\n",
            "Test loss: 0.03653255105018616\n",
            "Test MCRMSE: 0.190310999751091\n",
            "==============================\n",
            "\n",
            "Dropout = .3\n",
            "Test loss: 0.04480522498488426\n",
            "Test MCRMSE: 0.2106109857559204\n",
            "==============================\n",
            "\n",
            "Dropout = .4\n",
            "Test loss: 0.05194021388888359\n",
            "Test MCRMSE: 0.22677358984947205\n",
            "==============================\n",
            "\n",
            "dropout = .4, .3, .3\n",
            "Test loss: 0.050470393151044846\n",
            "Test MCRMSE: 0.2235080748796463\n",
            "==============================\n",
            "\n",
            "dropout = .5\n",
            "Test loss: 0.06158575415611267\n",
            "Test MCRMSE: 0.24676044285297394\n",
            "==============================\n",
            "\n"
          ],
          "name": "stdout"
        }
      ]
    },
    {
      "cell_type": "code",
      "metadata": {
        "id": "ORQNKvSSBLo7",
        "outputId": "94970a5f-2f9d-4df1-e2ae-45d652360b2f",
        "colab": {
          "base_uri": "https://localhost:8080/",
          "height": 281
        }
      },
      "source": [
        "loss1 = history_LR03_DP01.history['loss']\n",
        "loss2 = history_LR03_DP02.history['loss']\n",
        "loss3 = history_LR03_DP03.history['loss']\n",
        "loss4 = history_LR03_DP04.history['loss']\n",
        "loss5 = history_LR03_DPmix.history['loss']\n",
        "loss6 = history_LR03_DP05.history['loss']\n",
        "\n",
        "epochs = range(len(loss2))\n",
        "plt.figure()\n",
        "\n",
        "plt.plot(epochs, loss1, 'b', label='Dropout = .1')\n",
        "plt.plot(epochs, loss2, 'r', label='Dropout = .2')\n",
        "plt.plot(epochs, loss3, 'g', label='Dropout = .3')\n",
        "plt.plot(epochs, loss4, 'k', label='Dropout = .4')\n",
        "plt.plot(epochs, loss5, 'c', label='Dropout = .4, .3, .3')\n",
        "plt.plot(epochs, loss6, 'm', label='Dropout = .1')\n",
        "\n",
        "plt.title('Evaluation de la loss en fonction du dropout')\n",
        "\n",
        "axes = plt.gca()\n",
        "axes.set_ylim(0, 0.3)\n",
        "\n",
        "plt.legend()\n",
        "plt.show()\n",
        "#.savefig('foo.png', bbox_inches='tight')"
      ],
      "execution_count": 62,
      "outputs": [
        {
          "output_type": "display_data",
          "data": {
            "image/png": "[encoded data removed]",
            "text/plain": [
              "<Figure size 432x288 with 1 Axes>"
            ]
          },
          "metadata": {
            "tags": [],
            "needs_background": "light"
          }
        }
      ]
    },
    {
      "cell_type": "code",
      "metadata": {
        "id": "nj7EjHGqCzdP",
        "outputId": "158a6a89-3f13-47c2-d2da-3fc8b53d8261",
        "colab": {
          "base_uri": "https://localhost:8080/",
          "height": 281
        }
      },
      "source": [
        "MCRMSE1 = history_LR03_DP01.history['MCRMSE']\n",
        "MCRMSE2 = history_LR03_DP02.history['MCRMSE']\n",
        "MCRMSE3 = history_LR03_DP03.history['MCRMSE']\n",
        "MCRMSE4 = history_LR03_DP04.history['MCRMSE']\n",
        "MCRMSE5 = history_LR03_DPmix.history['MCRMSE']\n",
        "MCRMSE6 = history_LR03_DP05.history['MCRMSE']\n",
        "\n",
        "epochs = range(len(loss2))\n",
        "plt.figure()\n",
        "\n",
        "plt.plot(epochs, MCRMSE1, 'b', label='Dropout = .1')\n",
        "plt.plot(epochs, MCRMSE2, 'r', label='Dropout = .2')\n",
        "plt.plot(epochs, MCRMSE3, 'g', label='Dropout = .3')\n",
        "plt.plot(epochs, MCRMSE4, 'k', label='Dropout = .4')\n",
        "plt.plot(epochs, MCRMSE5, 'c', label='Dropout = .4, .3, .3')\n",
        "plt.plot(epochs, MCRMSE6, 'm', label='Dropout = .1')\n",
        "\n",
        "plt.title('Evaluation du MCRMSE en fonction du dropout')\n",
        "axes = plt.gca()\n",
        "axes.set_ylim(0, .6)\n",
        "\n",
        "plt.legend()\n",
        "plt.show()"
      ],
      "execution_count": 64,
      "outputs": [
        {
          "output_type": "display_data",
          "data": {
            "image/png": "[encoded data removed]",
            "text/plain": [
              "<Figure size 432x288 with 1 Axes>"
            ]
          },
          "metadata": {
            "tags": [],
            "needs_background": "light"
          }
        }
      ]
    },
    {
      "cell_type": "code",
      "metadata": {
        "id": "HLwRXnNbbPiV"
      },
      "source": [
        "#### MODEL GRU Bidirectionnal ####\n",
        "\n",
        "def build_gru(output_length, act, dropout1 = .1, dropout2 = .1, dropout3 = .1,\n",
        "              input_shape = (130,14), \n",
        "              space_dropout = 0.2,\n",
        "              masking_val = np.float32(-10)) :\n",
        "    \n",
        "    opt = tf.keras.optimizers.Adam(learning_rate = 0.001)\n",
        "\n",
        "    inputs = L.Input(shape = input_shape)\n",
        "    mask   = L.Masking(mask_value=np.float32(masking_val))(inputs)\n",
        "    mask   = L.SpatialDropout1D(space_dropout)(mask)\n",
        "    \n",
        "    x1 = L.Bidirectional(L.GRU(units = 300, dropout = dropout1, return_sequences = True))(mask)\n",
        "    \n",
        "    x2 = L.Bidirectional(L.GRU(units = 150, dropout = dropout2, return_sequences = True))(x1)\n",
        "    x3 = L.Bidirectional(L.GRU(units = 70,  dropout = dropout3, return_sequences = True))(x2)\n",
        "    \n",
        "    # cut masking values\n",
        "    sliced_layer = x3[:, :output_length]\n",
        "    out_layer = L.Dense(3, activation = act)(sliced_layer)\n",
        "    \n",
        "    model_gru = tf.keras.Model(inputs = inputs, outputs = out_layer)\n",
        "    model_gru.compile(opt, loss = 'mse', metrics = MCRMSE) #[keras.metrics.RootMeanSquaredError()]\n",
        "    \n",
        "    return model_gru"
      ],
      "execution_count": 6,
      "outputs": []
    },
    {
      "cell_type": "code",
      "metadata": {
        "id": "mDYwTjL3bPnc"
      },
      "source": [
        "output_length=68\n",
        "batch_size=64\n",
        "epochs=100\n",
        "validation_split = 0.1\n",
        "\n",
        "\n",
        "model_softmax = build_gru(output_length, 'softmax')\n",
        "model_linear = build_gru(output_length, 'linear')\n",
        "\n",
        "history_softmax = model_softmax.fit(inputs_array, expected_results, batch_size, epochs, validation_split, shuffle = True)\n",
        "history_linear = model_linear.fit(inputs_array, expected_results, batch_size, epochs, validation_split, shuffle = True)\n"
      ],
      "execution_count": null,
      "outputs": []
    },
    {
      "cell_type": "code",
      "metadata": {
        "id": "WkUqxKjNbPma",
        "outputId": "8440a432-8b40-446b-fce5-a2d3eba846ce",
        "colab": {
          "base_uri": "https://localhost:8080/",
          "height": 187
        }
      },
      "source": [
        "score_softmax = model_softmax.evaluate(inputs_array, expected_results, verbose =0)\n",
        "score_linear = model_linear.evaluate(inputs_array, expected_results, verbose =0)\n",
        "\n",
        "\n",
        "print('activation = softmax')\n",
        "print('Test loss:', score_softmax[0])\n",
        "print('Test MCRMSE:', score_softmax[1])\n",
        "print('==============================\\n')\n",
        "print('activation = linear')\n",
        "print('Test loss:', score_linear[0])\n",
        "print('Test MCRMSE:', score_linear[1])\n",
        "print('==============================\\n')"
      ],
      "execution_count": 8,
      "outputs": [
        {
          "output_type": "stream",
          "text": [
            "activation = softmax\n",
            "Test loss: 0.21929678320884705\n",
            "Test MCRMSE: 0.4671992063522339\n",
            "==============================\n",
            "\n",
            "activation = linear\n",
            "Test loss: 0.030014652758836746\n",
            "Test MCRMSE: 0.17261318862438202\n",
            "==============================\n",
            "\n"
          ],
          "name": "stdout"
        }
      ]
    },
    {
      "cell_type": "code",
      "metadata": {
        "id": "6Ws5DNaQbPbq"
      },
      "source": [
        ""
      ],
      "execution_count": null,
      "outputs": []
    },
    {
      "cell_type": "code",
      "metadata": {
        "id": "BhaY1kEvLmGH"
      },
      "source": [
        "# HP_DROPOUT = hp.HParam('dropout', hp.RealInterval(0.1, 0.5))\n",
        "# HP_OPTIMIZER = hp.HParam('optimizer', hp.Discrete(['adam', 'sgd', 'rmsprop', 'adadelta', 'adagrad']))\n",
        "# HP_L_RATE = hp.HParam('learning_rate', hp.Discrete([0.1, 0.01, 0.001, 0.0001, 0.00001]))\n",
        "\n",
        "# METRIC_ACCURACY = MCRMSE\n",
        "\n",
        "# with tf.summary.create_file_writer('logs/hparam_tuning').as_default():\n",
        "#   hp.hparams_config(\n",
        "#     hparams=[HP_DROPOUT, HP_OPTIMIZER, HP_L_RATE],\n",
        "#     metrics=[hp.Metric(METRIC_ACCURACY, display_name=MCRMSE)],\n",
        "#   )\n",
        "\n",
        "# ######### HP MODEL #############@\n",
        "\n",
        "# def build_HP(hparams) :\n",
        "\n",
        "#     inputs = L.Input(shape = (130,14))\n",
        "#     mask   = L.Masking(mask_value=np.float32(np.float32(-10)))(inputs)\n",
        "#     mask   = L.SpatialDropout1D(hparams[HP_DROPOUT])(mask)\n",
        "    \n",
        "#     x1 = L.Bidirectional(L.GRU(units = 300, hparams[HP_DROPOUT], return_sequences = True))(mask)\n",
        "    \n",
        "#     x2 = L.Bidirectional(L.GRU(units = 150, hparams[HP_DROPOUT], return_sequences = True))(x1)\n",
        "#     x3 = L.Bidirectional(L.GRU(units = 70,  hparams[HP_DROPOUT], return_sequences = True))(x2)\n",
        "    \n",
        "#     # cut masking values\n",
        "#     sliced_layer = x3[:, :68]\n",
        "#     out_layer = L.Dense(3, activation = 'linear')(sliced_layer)\n",
        "    \n",
        "#     model_gru = tf.keras.Model(inputs = inputs, outputs = out_layer)\n",
        "#     model_gru.compile(hparams[HP_OPTIMIZER], loss = 'mse', metrics = [MCRMSE])\n",
        "    \n",
        "#     if hparams[HP_OPTIMIZER] == \"adam\":\n",
        "#         optimizer = tf.keras.optimizers.Adam(learning_rate=hparams[HP_L_RATE])\n",
        "#     elif hparams[HP_OPTIMIZER] == \"sgd\":\n",
        "#         optimizer = tf.keras.optimizers.SGD(learning_rate=hparams[HP_L_RATE])\n",
        "#     elif hparams[HP_OPTIMIZER] == \"rmsprop\":\n",
        "#         optimizer = tf.keras.optimizers.SGD(learning_rate=hparams[HP_L_RATE])\n",
        "#     elif hparams[HP_OPTIMIZER] == \"adadelta\":\n",
        "#         optimizer = tf.keras.optimizers.SGD(learning_rate=hparams[HP_L_RATE])\n",
        "#     elif hparams[HP_OPTIMIZER] == \"adagrad\":\n",
        "#         optimizer = tf.keras.optimizers.SGD(learning_rate=hparams[HP_L_RATE])        \n",
        "#     else:\n",
        "#         raise ValueError(\"unexpected optimizer name: %r\" % (hparams[HP_OPTIMIZER],))\n",
        "\n",
        "#     model_gru.compile(optimizer=hparams[HP_OPTIMIZER],loss='mse',metrics=[MCRMSE])\n",
        "    \n",
        "#     model_gru.fit(inputs_array, expected_results, batch_size=64, epochs=5, validation_split=0.1, shuffle = True)\n",
        "#   _, MCRMSE = model.evaluate(expected_results)\n",
        "  \n",
        "#   return loss\n",
        "\n",
        "\n",
        "# def run(run_dir, hparams):\n",
        "#   with tf.summary.create_file_writer(run_dir).as_default():\n",
        "#     hp.hparams(hparams)  # record the values used in this trial\n",
        "#     MCRMSE = build_HP(hparams)\n",
        "#     tf.summary.scalar(METRIC_ACCURACY, MCRMSE, step=1)\n"
      ],
      "execution_count": null,
      "outputs": []
    },
    {
      "cell_type": "code",
      "metadata": {
        "id": "lwD0LVeoLmJW"
      },
      "source": [
        ""
      ],
      "execution_count": null,
      "outputs": []
    },
    {
      "cell_type": "code",
      "metadata": {
        "id": "WrepUXC4LmM2"
      },
      "source": [
        ""
      ],
      "execution_count": null,
      "outputs": []
    },
    {
      "cell_type": "code",
      "metadata": {
        "id": "mje3PDenLmPv"
      },
      "source": [
        ""
      ],
      "execution_count": null,
      "outputs": []
    },
    {
      "cell_type": "code",
      "metadata": {
        "id": "wU2ym4QeLmSW"
      },
      "source": [
        ""
      ],
      "execution_count": null,
      "outputs": []
    },
    {
      "cell_type": "code",
      "metadata": {
        "id": "76iDlEiMLmV2"
      },
      "source": [
        ""
      ],
      "execution_count": null,
      "outputs": []
    }
  ]
}