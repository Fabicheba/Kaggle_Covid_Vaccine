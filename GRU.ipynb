{
 "cells": [
  {
   "cell_type": "code",
   "execution_count": 1,
   "metadata": {},
   "outputs": [],
   "source": [
    "import numpy as np\n",
    "import pandas as pd\n",
    "import os\n",
    "import tensorflow as tf\n",
    "from tensorflow import keras\n",
    "from tensorflow.keras import layers as L\n",
    "from sklearn import preprocessing\n",
    "from sklearn.model_selection import train_test_split\n",
    "import plotly.express as px"
   ]
  },
  {
   "cell_type": "code",
   "execution_count": 2,
   "metadata": {},
   "outputs": [
    {
     "data": {
      "text/plain": [
       "(1589, 19)"
      ]
     },
     "execution_count": 2,
     "metadata": {},
     "output_type": "execute_result"
    }
   ],
   "source": [
    "PATH = './stanford-covid-vaccine/'\n",
    "train = pd.read_json(os.path.join(PATH,'train.json'),lines=True)\n",
    "train = train[train.SN_filter == 1]\n",
    "train.shape"
   ]
  },
  {
   "cell_type": "code",
   "execution_count": 3,
   "metadata": {},
   "outputs": [
    {
     "data": {
      "text/html": [
       "<div>\n",
       "<style scoped>\n",
       "    .dataframe tbody tr th:only-of-type {\n",
       "        vertical-align: middle;\n",
       "    }\n",
       "\n",
       "    .dataframe tbody tr th {\n",
       "        vertical-align: top;\n",
       "    }\n",
       "\n",
       "    .dataframe thead th {\n",
       "        text-align: right;\n",
       "    }\n",
       "</style>\n",
       "<table border=\"1\" class=\"dataframe\">\n",
       "  <thead>\n",
       "    <tr style=\"text-align: right;\">\n",
       "      <th></th>\n",
       "      <th>index</th>\n",
       "      <th>id</th>\n",
       "      <th>sequence</th>\n",
       "      <th>structure</th>\n",
       "      <th>predicted_loop_type</th>\n",
       "      <th>signal_to_noise</th>\n",
       "      <th>SN_filter</th>\n",
       "      <th>seq_length</th>\n",
       "      <th>seq_scored</th>\n",
       "      <th>reactivity_error</th>\n",
       "      <th>deg_error_Mg_pH10</th>\n",
       "      <th>deg_error_pH10</th>\n",
       "      <th>deg_error_Mg_50C</th>\n",
       "      <th>deg_error_50C</th>\n",
       "      <th>reactivity</th>\n",
       "      <th>deg_Mg_pH10</th>\n",
       "      <th>deg_pH10</th>\n",
       "      <th>deg_Mg_50C</th>\n",
       "      <th>deg_50C</th>\n",
       "    </tr>\n",
       "  </thead>\n",
       "  <tbody>\n",
       "    <tr>\n",
       "      <th>0</th>\n",
       "      <td>0</td>\n",
       "      <td>id_001f94081</td>\n",
       "      <td>GGAAAAGCUCUAAUAACAGGAGACUAGGACUACGUAUUUCUAGGUA...</td>\n",
       "      <td>.....((((((.......)))).)).((.....((..((((((......</td>\n",
       "      <td>EEEEESSSSSSHHHHHHHSSSSBSSXSSIIIIISSIISSSSSSHHH...</td>\n",
       "      <td>6.894</td>\n",
       "      <td>1</td>\n",
       "      <td>107</td>\n",
       "      <td>68</td>\n",
       "      <td>[0.1359, 0.20700000000000002, 0.1633, 0.1452, ...</td>\n",
       "      <td>[0.26130000000000003, 0.38420000000000004, 0.1...</td>\n",
       "      <td>[0.2631, 0.28600000000000003, 0.0964, 0.1574, ...</td>\n",
       "      <td>[0.1501, 0.275, 0.0947, 0.18660000000000002, 0...</td>\n",
       "      <td>[0.2167, 0.34750000000000003, 0.188, 0.2124, 0...</td>\n",
       "      <td>[0.3297, 1.5693000000000001, 1.1227, 0.8686, 0...</td>\n",
       "      <td>[0.7556, 2.983, 0.2526, 1.3789, 0.637600000000...</td>\n",
       "      <td>[2.3375, 3.5060000000000002, 0.3008, 1.0108, 0...</td>\n",
       "      <td>[0.35810000000000003, 2.9683, 0.2589, 1.4552, ...</td>\n",
       "      <td>[0.6382, 3.4773, 0.9988, 1.3228, 0.78770000000...</td>\n",
       "    </tr>\n",
       "    <tr>\n",
       "      <th>2</th>\n",
       "      <td>2</td>\n",
       "      <td>id_006f36f57</td>\n",
       "      <td>GGAAAGUGCUCAGAUAAGCUAAGCUCGAAUAGCAAUCGAAUAGAAU...</td>\n",
       "      <td>.....((((.((.....((((.(((.....)))..((((......)...</td>\n",
       "      <td>EEEEESSSSISSIIIIISSSSMSSSHHHHHSSSMMSSSSHHHHHHS...</td>\n",
       "      <td>8.800</td>\n",
       "      <td>1</td>\n",
       "      <td>107</td>\n",
       "      <td>68</td>\n",
       "      <td>[0.0931, 0.13290000000000002, 0.11280000000000...</td>\n",
       "      <td>[0.1365, 0.2237, 0.1812, 0.1333, 0.1148, 0.160...</td>\n",
       "      <td>[0.17020000000000002, 0.178, 0.111, 0.091, 0.0...</td>\n",
       "      <td>[0.1033, 0.1464, 0.1126, 0.09620000000000001, ...</td>\n",
       "      <td>[0.14980000000000002, 0.1761, 0.1517, 0.116700...</td>\n",
       "      <td>[0.44820000000000004, 1.4822, 1.1819, 0.743400...</td>\n",
       "      <td>[0.2504, 1.4021, 0.9804, 0.49670000000000003, ...</td>\n",
       "      <td>[2.243, 2.9361, 1.0553, 0.721, 0.6396000000000...</td>\n",
       "      <td>[0.5163, 1.6823000000000001, 1.0426, 0.7902, 0...</td>\n",
       "      <td>[0.9501000000000001, 1.7974999999999999, 1.499...</td>\n",
       "    </tr>\n",
       "  </tbody>\n",
       "</table>\n",
       "</div>"
      ],
      "text/plain": [
       "   index            id                                           sequence  \\\n",
       "0      0  id_001f94081  GGAAAAGCUCUAAUAACAGGAGACUAGGACUACGUAUUUCUAGGUA...   \n",
       "2      2  id_006f36f57  GGAAAGUGCUCAGAUAAGCUAAGCUCGAAUAGCAAUCGAAUAGAAU...   \n",
       "\n",
       "                                           structure  \\\n",
       "0  .....((((((.......)))).)).((.....((..((((((......   \n",
       "2  .....((((.((.....((((.(((.....)))..((((......)...   \n",
       "\n",
       "                                 predicted_loop_type  signal_to_noise  \\\n",
       "0  EEEEESSSSSSHHHHHHHSSSSBSSXSSIIIIISSIISSSSSSHHH...            6.894   \n",
       "2  EEEEESSSSISSIIIIISSSSMSSSHHHHHSSSMMSSSSHHHHHHS...            8.800   \n",
       "\n",
       "   SN_filter  seq_length  seq_scored  \\\n",
       "0          1         107          68   \n",
       "2          1         107          68   \n",
       "\n",
       "                                    reactivity_error  \\\n",
       "0  [0.1359, 0.20700000000000002, 0.1633, 0.1452, ...   \n",
       "2  [0.0931, 0.13290000000000002, 0.11280000000000...   \n",
       "\n",
       "                                   deg_error_Mg_pH10  \\\n",
       "0  [0.26130000000000003, 0.38420000000000004, 0.1...   \n",
       "2  [0.1365, 0.2237, 0.1812, 0.1333, 0.1148, 0.160...   \n",
       "\n",
       "                                      deg_error_pH10  \\\n",
       "0  [0.2631, 0.28600000000000003, 0.0964, 0.1574, ...   \n",
       "2  [0.17020000000000002, 0.178, 0.111, 0.091, 0.0...   \n",
       "\n",
       "                                    deg_error_Mg_50C  \\\n",
       "0  [0.1501, 0.275, 0.0947, 0.18660000000000002, 0...   \n",
       "2  [0.1033, 0.1464, 0.1126, 0.09620000000000001, ...   \n",
       "\n",
       "                                       deg_error_50C  \\\n",
       "0  [0.2167, 0.34750000000000003, 0.188, 0.2124, 0...   \n",
       "2  [0.14980000000000002, 0.1761, 0.1517, 0.116700...   \n",
       "\n",
       "                                          reactivity  \\\n",
       "0  [0.3297, 1.5693000000000001, 1.1227, 0.8686, 0...   \n",
       "2  [0.44820000000000004, 1.4822, 1.1819, 0.743400...   \n",
       "\n",
       "                                         deg_Mg_pH10  \\\n",
       "0  [0.7556, 2.983, 0.2526, 1.3789, 0.637600000000...   \n",
       "2  [0.2504, 1.4021, 0.9804, 0.49670000000000003, ...   \n",
       "\n",
       "                                            deg_pH10  \\\n",
       "0  [2.3375, 3.5060000000000002, 0.3008, 1.0108, 0...   \n",
       "2  [2.243, 2.9361, 1.0553, 0.721, 0.6396000000000...   \n",
       "\n",
       "                                          deg_Mg_50C  \\\n",
       "0  [0.35810000000000003, 2.9683, 0.2589, 1.4552, ...   \n",
       "2  [0.5163, 1.6823000000000001, 1.0426, 0.7902, 0...   \n",
       "\n",
       "                                             deg_50C  \n",
       "0  [0.6382, 3.4773, 0.9988, 1.3228, 0.78770000000...  \n",
       "2  [0.9501000000000001, 1.7974999999999999, 1.499...  "
      ]
     },
     "execution_count": 3,
     "metadata": {},
     "output_type": "execute_result"
    }
   ],
   "source": [
    "train.head(2)"
   ]
  },
  {
   "cell_type": "markdown",
   "metadata": {},
   "source": [
    "# Reshape des data pour Deeplearning\n",
    "\n",
    "### Dictionnaire référençant chaque caractères des inputs (seq, structure, loop)"
   ]
  },
  {
   "cell_type": "code",
   "execution_count": 4,
   "metadata": {},
   "outputs": [
    {
     "name": "stdout",
     "output_type": "stream",
     "text": [
      "{'(': 0, ')': 1, '.': 2, 'A': 3, 'C': 4, 'G': 5, 'U': 6, 'B': 7, 'E': 8, 'H': 9, 'I': 10, 'M': 11, 'S': 12, 'X': 13}\n"
     ]
    }
   ],
   "source": [
    "# key : caractères, value : chiffre de 0 à 13\n",
    "inputs_dict = {x:i for i, x in enumerate('().ACGUBEHIMSX')}\n",
    "print(inputs_dict)"
   ]
  },
  {
   "cell_type": "markdown",
   "metadata": {},
   "source": [
    "### 3 inputs et 3 outputs"
   ]
  },
  {
   "cell_type": "code",
   "execution_count": 5,
   "metadata": {},
   "outputs": [
    {
     "name": "stdout",
     "output_type": "stream",
     "text": [
      "                                               sequence  \\\n",
      "0     GGAAAAGCUCUAAUAACAGGAGACUAGGACUACGUAUUUCUAGGUA...   \n",
      "2     GGAAAGUGCUCAGAUAAGCUAAGCUCGAAUAGCAAUCGAAUAGAAU...   \n",
      "5     GGAAAGCGCCGCGGCGGUAGCGGCAGCGAGGAGCGCUACCAAGGCA...   \n",
      "6     GGAAAACAAUUGCAUCGUUAGUACGACUCCACAGCGUAAGCUGUGG...   \n",
      "7     GGAAAUCAUCGAGGACGGGUCCGUUCAGCACGCGAAAGCGUCGUGA...   \n",
      "...                                                 ...   \n",
      "2392  GGAAACUCCACAUCUCUACGCCACGAAAGUGGGUAGGAUGGGAGAG...   \n",
      "2393  GGAAAAGAUCGAUAGGUACGUGGGUUCAUGUAGGAAACUAGCUGGC...   \n",
      "2395  GGAAAAUAGCAGAGGAAAUACUAGAGCAAUUGCAAAGGCCGAUCAU...   \n",
      "2396  GGAAAACAAAAACAAACAACAAAAACAAACAACAAAAACAAACAAC...   \n",
      "2399  GGAAAGCUAGGACGUGGGAGCGUAGCUCUCCACACGGGUACGCCAA...   \n",
      "\n",
      "                                              structure  \\\n",
      "0     .....((((((.......)))).)).((.....((..((((((......   \n",
      "2     .....((((.((.....((((.(((.....)))..((((......)...   \n",
      "5     .....(.(((((.(((((((((...........)))))))..(((....   \n",
      "6     .........((((((((......((((((((((((....)))))))...   \n",
      "7     .....(((((((((((..(((((((((..((((....))))..)))...   \n",
      "...                                                 ...   \n",
      "2392  .....((((.((((.((((.((((....)))))))))))))))).(...   \n",
      "2393  ......((((....(((((((((((.((..(((....)))..))))...   \n",
      "2395  ........((..((......))...)).........(((..........   \n",
      "2396  .................................................   \n",
      "2399  .....((((((((((((((((...)))).)))).((((((((((.....   \n",
      "\n",
      "                                    predicted_loop_type  \n",
      "0     EEEEESSSSSSHHHHHHHSSSSBSSXSSIIIIISSIISSSSSSHHH...  \n",
      "2     EEEEESSSSISSIIIIISSSSMSSSHHHHHSSSMMSSSSHHHHHHS...  \n",
      "5     EEEEESISSSSSISSSSSSSSSHHHHHHHHHHHSSSSSSSMMSSSH...  \n",
      "6     EEEEEEEEESSSSSSSSIIIIIISSSSSSSSSSSSHHHHSSSSSSS...  \n",
      "7     EEEEESSSSSSSSSSSIISSSSSSSSSIISSSSHHHHSSSSIISSS...  \n",
      "...                                                 ...  \n",
      "2392  EEEEESSSSBSSSSBSSSSBSSSSHHHHSSSSSSSSSSSSSSSSMS...  \n",
      "2393  EEEEEESSSSIIIISSSSSSSSSSSBSSIISSSHHHHSSSIISSSS...  \n",
      "2395  EEEEEEEESSIISSHHHHHHSSIIISSXXXXXXXXXSSSHHHHHHH...  \n",
      "2396  EEEEEEEEEEEEEEEEEEEEEEEEEEEEEEEEEEEEEEEEEEEEEE...  \n",
      "2399  EEEEESSSSSSSSSSSSSSSSHHHSSSSBSSSSMSSSSSSSSSSHH...  \n",
      "\n",
      "[1589 rows x 3 columns]\n"
     ]
    }
   ],
   "source": [
    "# on selectionne les colonnes inputs et outputs dans les data\n",
    "outputs = ['reactivity', 'deg_Mg_pH10', 'deg_Mg_50C']\n",
    "inputs = ['sequence', 'structure', 'predicted_loop_type']\n",
    "\n",
    "train_labels = train[outputs]\n",
    "train_inputs = train[inputs]\n",
    "\n",
    "print(train_inputs)"
   ]
  },
  {
   "cell_type": "code",
   "execution_count": 6,
   "metadata": {},
   "outputs": [],
   "source": [
    "# pour tester le modèle on ne sélectionne pas toutes les data\n",
    "#SEED = 1\n",
    "#tf.random.set_seed(SEED)\n",
    "#np.random.seed(SEED)\n",
    "#n = 200\n",
    "#train_labels = train_labels.sample(n)\n",
    "#train_inputs = train_inputs.sample(n)\n",
    "#train_labels = train_labels.head(10)\n",
    "#train_inputs = train_inputs.head(10)"
   ]
  },
  {
   "cell_type": "markdown",
   "metadata": {},
   "source": [
    "### Transforme numpy to array et les caractères en chiffres"
   ]
  },
  {
   "cell_type": "code",
   "execution_count": 8,
   "metadata": {},
   "outputs": [],
   "source": [
    "def preprocess_inputs(df,input_cols):\n",
    "    \"\"\"\n",
    "    Converts inputs into one-hot\n",
    "    \"\"\"\n",
    "    output = []\n",
    "    for i in range(len(input_cols)):\n",
    "        tokenizer = keras.preprocessing.text.Tokenizer(char_level=True)\n",
    "        tokenizer.fit_on_texts(np.asarray(df[input_cols[i]]))\n",
    "        tmp = tokenizer.texts_to_sequences(np.asarray(df[input_cols[i]]))\n",
    "        output.append(np.asarray(keras.utils.to_categorical(tmp)[:,:,1:]))\n",
    "    return output"
   ]
  },
  {
   "cell_type": "code",
   "execution_count": null,
   "metadata": {},
   "outputs": [],
   "source": [
    "inputs = preprocess_inputs(train,input_cols)"
   ]
  },
  {
   "cell_type": "code",
   "execution_count": null,
   "metadata": {},
   "outputs": [],
   "source": []
  },
  {
   "cell_type": "code",
   "execution_count": 18,
   "metadata": {},
   "outputs": [
    {
     "data": {
      "text/plain": [
       "((1589, 107, 3), (1589, 68, 3))"
      ]
     },
     "execution_count": 18,
     "metadata": {},
     "output_type": "execute_result"
    }
   ],
   "source": [
    "train_inputs.shape, train_labels.shape"
   ]
  },
  {
   "cell_type": "code",
   "execution_count": 19,
   "metadata": {},
   "outputs": [],
   "source": [
    "x_train, x_val, y_train, y_val = train_test_split(train_inputs, train_labels, test_size=.1, random_state=34)"
   ]
  },
  {
   "cell_type": "code",
   "execution_count": 20,
   "metadata": {},
   "outputs": [
    {
     "name": "stdout",
     "output_type": "stream",
     "text": [
      "x_train = (1430, 107, 3)\n",
      "x_val   = (159, 107, 3)\n",
      "y_train = (1430, 68, 3)\n",
      "y_val   = (159, 68, 3)\n"
     ]
    }
   ],
   "source": [
    "print(f\"x_train = {x_train.shape}\")\n",
    "print(f\"x_val   = {x_val.shape}\")\n",
    "print(f\"y_train = {y_train.shape}\") # il va falloir enlever bases de 68 à 107\n",
    "print(f\"y_val   = {y_val.shape}\")"
   ]
  },
  {
   "cell_type": "code",
   "execution_count": 11,
   "metadata": {},
   "outputs": [],
   "source": [
    "#Define Loss Function\n",
    "def MCRMSE(y_true, y_pred):\n",
    "    colwise_mse = tf.reduce_mean(tf.square(y_true - y_pred), axis=(0, 1))\n",
    "    return tf.reduce_mean(tf.sqrt(colwise_mse), axis=-1)"
   ]
  },
  {
   "cell_type": "markdown",
   "metadata": {},
   "source": [
    "### Construction des modèles (GRU, GRU bidirectionnel, LSTM et LSTM bidirectionnel)"
   ]
  },
  {
   "cell_type": "code",
   "execution_count": 12,
   "metadata": {},
   "outputs": [
    {
     "name": "stdout",
     "output_type": "stream",
     "text": [
      "Model: \"model\"\n",
      "_________________________________________________________________\n",
      "Layer (type)                 Output Shape              Param #   \n",
      "=================================================================\n",
      "input_1 (InputLayer)         [(None, 107, 3)]          0         \n",
      "_________________________________________________________________\n",
      "bidirectional (Bidirectional (None, 107, 512)          400896    \n",
      "_________________________________________________________________\n",
      "bidirectional_1 (Bidirection (None, 107, 512)          1182720   \n",
      "_________________________________________________________________\n",
      "tf_op_layer_strided_slice (T [(None, 68, 512)]         0         \n",
      "_________________________________________________________________\n",
      "dense (Dense)                (None, 68, 3)             1539      \n",
      "=================================================================\n",
      "Total params: 1,585,155\n",
      "Trainable params: 1,585,155\n",
      "Non-trainable params: 0\n",
      "_________________________________________________________________\n"
     ]
    }
   ],
   "source": [
    "seq_len=107\n",
    "hidden_dim= ?\n",
    "dropout = 0.5\n",
    "pred_len= 68\n",
    "embed_size = len(inputs_dict)\n",
    "output_dim = ?\n",
    "out_dim = 3\n",
    "\n",
    "inputs = L.Input(shape = (seq_len, 3))\n",
    "embed_layer = L.Embedding(input_dim = embed_size, output_dim = output_dim)(inputs)\n",
    "x1 = L.Bidirectional(L.GRU(hidden_dim, dropout = dropout, return_sequences = True))(inputs)\n",
    "x2 = L.Bidirectional(L.GRU(hidden_dim, dropout = dropout, return_sequences = True))(x1)\n",
    "x3 = L.Bidirectional(L.GRU(hidden_dim, dropout = dropout, return_sequences = True))(x2)\n",
    "truncated = x2[:, :pred_len]\n",
    "out_layer = L.Dense(out_dim, activation = 'linear')(truncated)\n",
    "\n",
    "model = tf.keras.Model(inputs = inputs, outputs = out)\n",
    "model.compile(keras.optimizers.Adam(), loss = 'accuracy')\n",
    "#model.compile(keras.optimizers.Adam(), loss = MCRMSE)\n",
    "model.summary()"
   ]
  },
  {
   "cell_type": "code",
   "execution_count": null,
   "metadata": {},
   "outputs": [
    {
     "name": "stdout",
     "output_type": "stream",
     "text": [
      "Train on 180 samples, validate on 20 samples\n",
      "Epoch 1/75\n",
      "180/180 - 23s - loss: 1.6640 - val_loss: 1.2598\n",
      "Epoch 2/75\n",
      "180/180 - 10s - loss: 1.0232 - val_loss: 1.2249\n",
      "Epoch 3/75\n",
      "180/180 - 9s - loss: 0.8937 - val_loss: 0.6768\n",
      "Epoch 4/75\n",
      "180/180 - 9s - loss: 0.7177 - val_loss: 0.9435\n",
      "Epoch 5/75\n",
      "180/180 - 10s - loss: 0.6347 - val_loss: 0.5367\n",
      "Epoch 6/75\n",
      "180/180 - 11s - loss: 0.6123 - val_loss: 0.6500\n",
      "Epoch 7/75\n",
      "180/180 - 10s - loss: 0.5659 - val_loss: 0.5524\n",
      "Epoch 8/75\n",
      "180/180 - 12s - loss: 0.5535 - val_loss: 0.6133\n",
      "Epoch 9/75\n",
      "180/180 - 10s - loss: 0.5295 - val_loss: 0.5490\n",
      "Epoch 10/75\n",
      "180/180 - 11s - loss: 0.5206 - val_loss: 0.5103\n",
      "Epoch 11/75\n",
      "180/180 - 11s - loss: 0.5121 - val_loss: 0.5436\n",
      "Epoch 12/75\n",
      "180/180 - 10s - loss: 0.5055 - val_loss: 0.5870\n",
      "Epoch 13/75\n",
      "180/180 - 10s - loss: 0.4965 - val_loss: 0.5011\n",
      "Epoch 14/75\n",
      "180/180 - 11s - loss: 0.4904 - val_loss: 0.5335\n",
      "Epoch 15/75\n",
      "180/180 - 10s - loss: 0.4894 - val_loss: 0.5215\n",
      "Epoch 16/75\n",
      "180/180 - 10s - loss: 0.4849 - val_loss: 0.5326\n",
      "Epoch 17/75\n",
      "180/180 - 11s - loss: 0.4827 - val_loss: 0.5052\n",
      "Epoch 18/75\n"
     ]
    }
   ],
   "source": [
    "history = model.fit(\n",
    "    x_train, y_train,\n",
    "    validation_data=(x_val, y_val),\n",
    "    batch_size=64,\n",
    "    epochs=75,\n",
    "    verbose=2\n",
    ")"
   ]
  },
  {
   "cell_type": "code",
   "execution_count": null,
   "metadata": {},
   "outputs": [],
   "source": [
    "fig = px.line(\n",
    "    history.history, \n",
    "    y=['loss', 'val_loss'],\n",
    "    labels={'index': 'epoch', 'value': 'MCRMSE'}, \n",
    "    title='BiGRU Training History'\n",
    ")\n",
    "fig.show()"
   ]
  },
  {
   "cell_type": "code",
   "execution_count": null,
   "metadata": {},
   "outputs": [],
   "source": []
  }
 ],
 "metadata": {
  "kernelspec": {
   "display_name": "Python 3",
   "language": "python",
   "name": "python3"
  },
  "language_info": {
   "codemirror_mode": {
    "name": "ipython",
    "version": 3
   },
   "file_extension": ".py",
   "mimetype": "text/x-python",
   "name": "python",
   "nbconvert_exporter": "python",
   "pygments_lexer": "ipython3",
   "version": "3.7.4"
  }
 },
 "nbformat": 4,
 "nbformat_minor": 4
}
