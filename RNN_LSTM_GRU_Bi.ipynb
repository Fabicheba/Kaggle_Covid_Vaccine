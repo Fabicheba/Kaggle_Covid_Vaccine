{
 "cells": [
  {
   "cell_type": "code",
   "execution_count": 1,
   "metadata": {},
   "outputs": [],
   "source": [
    "import numpy as np\n",
    "import pandas as pd\n",
    "import os\n",
    "import tensorflow as tf\n",
    "from tensorflow import keras\n",
    "from tensorflow.keras import layers as L\n",
    "from sklearn import preprocessing\n",
    "from sklearn.model_selection import train_test_split"
   ]
  },
  {
   "cell_type": "code",
   "execution_count": 2,
   "metadata": {},
   "outputs": [
    {
     "data": {
      "text/plain": [
       "(1589, 19)"
      ]
     },
     "execution_count": 2,
     "metadata": {},
     "output_type": "execute_result"
    }
   ],
   "source": [
    "PATH = './stanford-covid-vaccine/'\n",
    "train = pd.read_json(os.path.join(PATH,'train.json'),lines=True)\n",
    "train = train[train.SN_filter == 1]\n",
    "train.shape"
   ]
  },
  {
   "cell_type": "code",
   "execution_count": 3,
   "metadata": {},
   "outputs": [
    {
     "data": {
      "text/html": [
       "<div>\n",
       "<style scoped>\n",
       "    .dataframe tbody tr th:only-of-type {\n",
       "        vertical-align: middle;\n",
       "    }\n",
       "\n",
       "    .dataframe tbody tr th {\n",
       "        vertical-align: top;\n",
       "    }\n",
       "\n",
       "    .dataframe thead th {\n",
       "        text-align: right;\n",
       "    }\n",
       "</style>\n",
       "<table border=\"1\" class=\"dataframe\">\n",
       "  <thead>\n",
       "    <tr style=\"text-align: right;\">\n",
       "      <th></th>\n",
       "      <th>index</th>\n",
       "      <th>id</th>\n",
       "      <th>sequence</th>\n",
       "      <th>structure</th>\n",
       "      <th>predicted_loop_type</th>\n",
       "      <th>signal_to_noise</th>\n",
       "      <th>SN_filter</th>\n",
       "      <th>seq_length</th>\n",
       "      <th>seq_scored</th>\n",
       "      <th>reactivity_error</th>\n",
       "      <th>deg_error_Mg_pH10</th>\n",
       "      <th>deg_error_pH10</th>\n",
       "      <th>deg_error_Mg_50C</th>\n",
       "      <th>deg_error_50C</th>\n",
       "      <th>reactivity</th>\n",
       "      <th>deg_Mg_pH10</th>\n",
       "      <th>deg_pH10</th>\n",
       "      <th>deg_Mg_50C</th>\n",
       "      <th>deg_50C</th>\n",
       "    </tr>\n",
       "  </thead>\n",
       "  <tbody>\n",
       "    <tr>\n",
       "      <th>0</th>\n",
       "      <td>0</td>\n",
       "      <td>id_001f94081</td>\n",
       "      <td>GGAAAAGCUCUAAUAACAGGAGACUAGGACUACGUAUUUCUAGGUA...</td>\n",
       "      <td>.....((((((.......)))).)).((.....((..((((((......</td>\n",
       "      <td>EEEEESSSSSSHHHHHHHSSSSBSSXSSIIIIISSIISSSSSSHHH...</td>\n",
       "      <td>6.894</td>\n",
       "      <td>1</td>\n",
       "      <td>107</td>\n",
       "      <td>68</td>\n",
       "      <td>[0.1359, 0.20700000000000002, 0.1633, 0.1452, ...</td>\n",
       "      <td>[0.26130000000000003, 0.38420000000000004, 0.1...</td>\n",
       "      <td>[0.2631, 0.28600000000000003, 0.0964, 0.1574, ...</td>\n",
       "      <td>[0.1501, 0.275, 0.0947, 0.18660000000000002, 0...</td>\n",
       "      <td>[0.2167, 0.34750000000000003, 0.188, 0.2124, 0...</td>\n",
       "      <td>[0.3297, 1.5693000000000001, 1.1227, 0.8686, 0...</td>\n",
       "      <td>[0.7556, 2.983, 0.2526, 1.3789, 0.637600000000...</td>\n",
       "      <td>[2.3375, 3.5060000000000002, 0.3008, 1.0108, 0...</td>\n",
       "      <td>[0.35810000000000003, 2.9683, 0.2589, 1.4552, ...</td>\n",
       "      <td>[0.6382, 3.4773, 0.9988, 1.3228, 0.78770000000...</td>\n",
       "    </tr>\n",
       "    <tr>\n",
       "      <th>2</th>\n",
       "      <td>2</td>\n",
       "      <td>id_006f36f57</td>\n",
       "      <td>GGAAAGUGCUCAGAUAAGCUAAGCUCGAAUAGCAAUCGAAUAGAAU...</td>\n",
       "      <td>.....((((.((.....((((.(((.....)))..((((......)...</td>\n",
       "      <td>EEEEESSSSISSIIIIISSSSMSSSHHHHHSSSMMSSSSHHHHHHS...</td>\n",
       "      <td>8.800</td>\n",
       "      <td>1</td>\n",
       "      <td>107</td>\n",
       "      <td>68</td>\n",
       "      <td>[0.0931, 0.13290000000000002, 0.11280000000000...</td>\n",
       "      <td>[0.1365, 0.2237, 0.1812, 0.1333, 0.1148, 0.160...</td>\n",
       "      <td>[0.17020000000000002, 0.178, 0.111, 0.091, 0.0...</td>\n",
       "      <td>[0.1033, 0.1464, 0.1126, 0.09620000000000001, ...</td>\n",
       "      <td>[0.14980000000000002, 0.1761, 0.1517, 0.116700...</td>\n",
       "      <td>[0.44820000000000004, 1.4822, 1.1819, 0.743400...</td>\n",
       "      <td>[0.2504, 1.4021, 0.9804, 0.49670000000000003, ...</td>\n",
       "      <td>[2.243, 2.9361, 1.0553, 0.721, 0.6396000000000...</td>\n",
       "      <td>[0.5163, 1.6823000000000001, 1.0426, 0.7902, 0...</td>\n",
       "      <td>[0.9501000000000001, 1.7974999999999999, 1.499...</td>\n",
       "    </tr>\n",
       "  </tbody>\n",
       "</table>\n",
       "</div>"
      ],
      "text/plain": [
       "   index            id                                           sequence  \\\n",
       "0      0  id_001f94081  GGAAAAGCUCUAAUAACAGGAGACUAGGACUACGUAUUUCUAGGUA...   \n",
       "2      2  id_006f36f57  GGAAAGUGCUCAGAUAAGCUAAGCUCGAAUAGCAAUCGAAUAGAAU...   \n",
       "\n",
       "                                           structure  \\\n",
       "0  .....((((((.......)))).)).((.....((..((((((......   \n",
       "2  .....((((.((.....((((.(((.....)))..((((......)...   \n",
       "\n",
       "                                 predicted_loop_type  signal_to_noise  \\\n",
       "0  EEEEESSSSSSHHHHHHHSSSSBSSXSSIIIIISSIISSSSSSHHH...            6.894   \n",
       "2  EEEEESSSSISSIIIIISSSSMSSSHHHHHSSSMMSSSSHHHHHHS...            8.800   \n",
       "\n",
       "   SN_filter  seq_length  seq_scored  \\\n",
       "0          1         107          68   \n",
       "2          1         107          68   \n",
       "\n",
       "                                    reactivity_error  \\\n",
       "0  [0.1359, 0.20700000000000002, 0.1633, 0.1452, ...   \n",
       "2  [0.0931, 0.13290000000000002, 0.11280000000000...   \n",
       "\n",
       "                                   deg_error_Mg_pH10  \\\n",
       "0  [0.26130000000000003, 0.38420000000000004, 0.1...   \n",
       "2  [0.1365, 0.2237, 0.1812, 0.1333, 0.1148, 0.160...   \n",
       "\n",
       "                                      deg_error_pH10  \\\n",
       "0  [0.2631, 0.28600000000000003, 0.0964, 0.1574, ...   \n",
       "2  [0.17020000000000002, 0.178, 0.111, 0.091, 0.0...   \n",
       "\n",
       "                                    deg_error_Mg_50C  \\\n",
       "0  [0.1501, 0.275, 0.0947, 0.18660000000000002, 0...   \n",
       "2  [0.1033, 0.1464, 0.1126, 0.09620000000000001, ...   \n",
       "\n",
       "                                       deg_error_50C  \\\n",
       "0  [0.2167, 0.34750000000000003, 0.188, 0.2124, 0...   \n",
       "2  [0.14980000000000002, 0.1761, 0.1517, 0.116700...   \n",
       "\n",
       "                                          reactivity  \\\n",
       "0  [0.3297, 1.5693000000000001, 1.1227, 0.8686, 0...   \n",
       "2  [0.44820000000000004, 1.4822, 1.1819, 0.743400...   \n",
       "\n",
       "                                         deg_Mg_pH10  \\\n",
       "0  [0.7556, 2.983, 0.2526, 1.3789, 0.637600000000...   \n",
       "2  [0.2504, 1.4021, 0.9804, 0.49670000000000003, ...   \n",
       "\n",
       "                                            deg_pH10  \\\n",
       "0  [2.3375, 3.5060000000000002, 0.3008, 1.0108, 0...   \n",
       "2  [2.243, 2.9361, 1.0553, 0.721, 0.6396000000000...   \n",
       "\n",
       "                                          deg_Mg_50C  \\\n",
       "0  [0.35810000000000003, 2.9683, 0.2589, 1.4552, ...   \n",
       "2  [0.5163, 1.6823000000000001, 1.0426, 0.7902, 0...   \n",
       "\n",
       "                                             deg_50C  \n",
       "0  [0.6382, 3.4773, 0.9988, 1.3228, 0.78770000000...  \n",
       "2  [0.9501000000000001, 1.7974999999999999, 1.499...  "
      ]
     },
     "execution_count": 3,
     "metadata": {},
     "output_type": "execute_result"
    }
   ],
   "source": [
    "train.head(2)"
   ]
  },
  {
   "cell_type": "markdown",
   "metadata": {},
   "source": [
    "# Reshape des data pour Deeplearning\n",
    "\n",
    "### Dictionnaire référençant chaque caractères des inputs (seq, structure, loop)"
   ]
  },
  {
   "cell_type": "code",
   "execution_count": 4,
   "metadata": {},
   "outputs": [
    {
     "name": "stdout",
     "output_type": "stream",
     "text": [
      "{'(': 0, ')': 1, '.': 2, 'A': 3, 'C': 4, 'G': 5, 'U': 6, 'B': 7, 'E': 8, 'H': 9, 'I': 10, 'M': 11, 'S': 12, 'X': 13}\n"
     ]
    }
   ],
   "source": [
    "# key : caractères, value : chiffre de 0 à 13\n",
    "inputs_dict = {x:i for i, x in enumerate('().ACGUBEHIMSX')}\n",
    "print(inputs_dict)"
   ]
  },
  {
   "cell_type": "markdown",
   "metadata": {},
   "source": [
    "### 3 inputs et 3 outputs"
   ]
  },
  {
   "cell_type": "code",
   "execution_count": 5,
   "metadata": {},
   "outputs": [],
   "source": [
    "# on selectionne les colonnes inputs et outputs dans les data\n",
    "outputs = ['reactivity', 'deg_Mg_pH10', 'deg_Mg_50C']\n",
    "inputs = ['sequence', 'structure', 'predicted_loop_type']\n",
    "\n",
    "train_labels = train[outputs]\n",
    "train_inputs = train[inputs]"
   ]
  },
  {
   "cell_type": "code",
   "execution_count": 6,
   "metadata": {},
   "outputs": [],
   "source": [
    "# pour tester le modèle on ne sélectionne pas toutes les data\n",
    "SEED = 1\n",
    "tf.random.set_seed(SEED)\n",
    "np.random.seed(SEED)\n",
    "n = 100\n",
    "train_labels = train_labels.sample(n)\n",
    "train_inputs = train_inputs.sample(n)\n",
    "#train_labels = train_labels.head(10)\n",
    "#train_inputs = train_inputs.head(10)"
   ]
  },
  {
   "cell_type": "markdown",
   "metadata": {},
   "source": [
    "### Transforme numpy to array et les caractères en chiffre (et onehot ?)"
   ]
  },
  {
   "cell_type": "code",
   "execution_count": 7,
   "metadata": {},
   "outputs": [],
   "source": [
    "train_inputs = np.transpose(\n",
    "    np.array(\n",
    "        train_inputs.applymap(\n",
    "            lambda seq: [inputs_dict[x] for x in seq]).values.tolist(\n",
    "        )),(0, 2, 1))\n",
    "train_labels = np.transpose(\n",
    "    np.array(\n",
    "        train_labels.values.tolist(\n",
    "        )),(0, 2, 1))"
   ]
  },
  {
   "cell_type": "code",
   "execution_count": 8,
   "metadata": {},
   "outputs": [
    {
     "data": {
      "text/plain": [
       "((100, 107, 3), (100, 68, 3))"
      ]
     },
     "execution_count": 8,
     "metadata": {},
     "output_type": "execute_result"
    }
   ],
   "source": [
    "train_inputs.shape, train_labels.shape"
   ]
  },
  {
   "cell_type": "code",
   "execution_count": 9,
   "metadata": {},
   "outputs": [],
   "source": [
    "x_train, x_val, y_train, y_val = train_test_split(train_inputs, train_labels, test_size=.1, random_state=34)"
   ]
  },
  {
   "cell_type": "code",
   "execution_count": 10,
   "metadata": {},
   "outputs": [
    {
     "name": "stdout",
     "output_type": "stream",
     "text": [
      "x_train = (90, 107, 3)\n",
      "x_val   = (10, 107, 3)\n",
      "y_train = (90, 68, 3)\n",
      "y_val   = (10, 68, 3)\n"
     ]
    }
   ],
   "source": [
    "print(f\"x_train = {x_train.shape}\")\n",
    "print(f\"x_val   = {x_val.shape}\")\n",
    "print(f\"y_train = {y_train.shape}\") # il va falloir enlever bases de 68 à 107\n",
    "print(f\"y_val   = {y_val.shape}\")"
   ]
  },
  {
   "cell_type": "code",
   "execution_count": 11,
   "metadata": {},
   "outputs": [],
   "source": [
    "#Define Loss Function\n",
    "def MCRMSE(y_true, y_pred):\n",
    "    colwise_mse = tf.reduce_mean(tf.square(y_true - y_pred), axis=(0, 1))\n",
    "    return tf.reduce_mean(tf.sqrt(colwise_mse), axis=-1)"
   ]
  },
  {
   "cell_type": "markdown",
   "metadata": {},
   "source": [
    "### Construction des modèles (GRU, GRU bidirectionnel, LSTM et LSTM bidirectionnel)"
   ]
  },
  {
   "cell_type": "code",
   "execution_count": 13,
   "metadata": {},
   "outputs": [],
   "source": [
    "def bi_gru_layer(hidden_dim, dropout):\n",
    "    return L.Bidirectional(L.GRU(hidden_dim, dropout=dropout, return_sequences=True, kernel_initializer='orthogonal'))\n",
    "#  statistical distribution or function to use for initialising the weights"
   ]
  },
  {
   "cell_type": "code",
   "execution_count": 14,
   "metadata": {},
   "outputs": [],
   "source": [
    "def gru_layer(hidden_dim, dropout):\n",
    "    return L.GRU(hidden_dim, dropout=dropout, return_sequences=True, kernel_initializer='orthogonal')"
   ]
  },
  {
   "cell_type": "code",
   "execution_count": 15,
   "metadata": {},
   "outputs": [],
   "source": [
    "def lstm_layer(hidden_dim, dropout):\n",
    "    return L.LSTM(hidden_dim, dropout=dropout, return_sequences=True, kernel_initializer='orthogonal')   "
   ]
  },
  {
   "cell_type": "code",
   "execution_count": 16,
   "metadata": {},
   "outputs": [],
   "source": [
    "def bi_lstm_layer(hidden_dim, dropout):\n",
    "    return L.Bidirectional(L.LSTM(hidden_dim, dropout=dropout, return_sequences=True, kernel_initializer='orthogonal'))"
   ]
  },
  {
   "cell_type": "code",
   "execution_count": 17,
   "metadata": {},
   "outputs": [],
   "source": [
    "'''\n",
    "\n",
    "1 couche input\n",
    "1 couche Embedding\n",
    "1 couche Reshape\n",
    "1 couche Dropout ou SpatialDropout1D\n",
    "3 couches    \n",
    "    1 couche model \n",
    "    1 couche Hidden dropout\n",
    "Passage de 107 à 68\n",
    "1 couche de sortie Dense\n",
    "\n",
    "'''\n",
    "def build_gru_model(embed_size, \n",
    "                seq_len=107, \n",
    "                pred_len=68, \n",
    "                dropout=0.5, \n",
    "                sp_dropout=0.2, \n",
    "                embed_dim=200, \n",
    "                hidden_dim=256, \n",
    "                n_layers=3, \n",
    "                output_dim = 3):\n",
    "    \n",
    "    inputs = L.Input(shape=(seq_len, 3))\n",
    "    embed = L.Embedding(input_dim=embed_size, output_dim=embed_dim)(inputs)\n",
    "    \n",
    "    reshaped = tf.reshape(\n",
    "        embed, shape=(-1, embed.shape[1],  embed.shape[2] * embed.shape[3])\n",
    "    )\n",
    "    hidden = L.SpatialDropout1D(sp_dropout)(reshaped)\n",
    "    # comme dropout mais mieux ... ?? comprend pas trop\n",
    "    # https://stackoverflow.com/questions/50393666/how-to-understand-spatialdropout1d-and-when-to-use-it\n",
    "    \n",
    "    for x in range(n_layers):\n",
    "        hidden = gru_layer(hidden_dim, dropout)(hidden)\n",
    "    \n",
    "    truncated = hidden[:, :pred_len]\n",
    "    out = L.Dense(output_dim, activation='linear')(truncated)\n",
    "    \n",
    "    model = tf.keras.Model(inputs=inputs, outputs=out)\n",
    "    model.compile(keras.optimizers.Adam(), loss=MCRMSE)\n",
    "    \n",
    "    return model"
   ]
  },
  {
   "cell_type": "code",
   "execution_count": 18,
   "metadata": {},
   "outputs": [],
   "source": [
    "def build_bi_gru_model(embed_size, \n",
    "                seq_len=107, \n",
    "                pred_len=68, \n",
    "                dropout=0.5, \n",
    "                sp_dropout=0.2, \n",
    "                embed_dim=200, \n",
    "                hidden_dim=256, \n",
    "                n_layers=3, \n",
    "                output_dim = 3):\n",
    "    \n",
    "    inputs = L.Input(shape=(seq_len, 3))\n",
    "    embed = L.Embedding(input_dim=embed_size, output_dim=embed_dim)(inputs)\n",
    "    \n",
    "    reshaped = tf.reshape(\n",
    "        embed, shape=(-1, embed.shape[1],  embed.shape[2] * embed.shape[3])\n",
    "    )\n",
    "    hidden = L.SpatialDropout1D(sp_dropout)(reshaped)\n",
    "    \n",
    "    for x in range(n_layers):\n",
    "        hidden = bi_gru_layer(hidden_dim, dropout)(hidden)\n",
    "    \n",
    "    truncated = hidden[:, :pred_len]\n",
    "    out = L.Dense(output_dim, activation='linear')(truncated)\n",
    "    \n",
    "    model = tf.keras.Model(inputs=inputs, outputs=out)\n",
    "    model.compile(keras.optimizers.Adam(), loss=MCRMSE)\n",
    "    \n",
    "    return model"
   ]
  },
  {
   "cell_type": "code",
   "execution_count": 19,
   "metadata": {},
   "outputs": [],
   "source": [
    "def build_bi_lstm_model(embed_size, \n",
    "                seq_len=107, \n",
    "                pred_len=68, \n",
    "                dropout=0.5, \n",
    "                sp_dropout=0.2, \n",
    "                embed_dim=200, \n",
    "                hidden_dim=256, \n",
    "                n_layers=3, \n",
    "                output_dim = 3):\n",
    "    \n",
    "    inputs = L.Input(shape=(seq_len, 3))\n",
    "    embed = L.Embedding(input_dim=embed_size, output_dim=embed_dim)(inputs)\n",
    "    \n",
    "    reshaped = tf.reshape(\n",
    "        embed, shape=(-1, embed.shape[1],  embed.shape[2] * embed.shape[3])\n",
    "    )\n",
    "    hidden = L.SpatialDropout1D(sp_dropout)(reshaped)\n",
    "    \n",
    "    for x in range(n_layers):\n",
    "        hidden = bi_lstm_layer(hidden_dim, dropout)(hidden)\n",
    "    \n",
    "    truncated = hidden[:, :pred_len]\n",
    "    out = L.Dense(output_dim, activation='linear')(truncated)\n",
    "    \n",
    "    model = tf.keras.Model(inputs=inputs, outputs=out)\n",
    "    model.compile(keras.optimizers.Adam(), loss=MCRMSE)\n",
    "    \n",
    "    return model"
   ]
  },
  {
   "cell_type": "code",
   "execution_count": 20,
   "metadata": {},
   "outputs": [],
   "source": [
    "def build_lstm_model(embed_size, \n",
    "                seq_len=107, \n",
    "                pred_len=68, \n",
    "                dropout=0.5, \n",
    "                sp_dropout=0.2, \n",
    "                embed_dim=200, \n",
    "                hidden_dim=256, \n",
    "                n_layers=3, \n",
    "                output_dim = 3):\n",
    "    \n",
    "    inputs = L.Input(shape=(seq_len, 3))\n",
    "    embed = L.Embedding(input_dim=embed_size, output_dim=embed_dim)(inputs)\n",
    "    \n",
    "    reshaped = tf.reshape(\n",
    "        embed, shape=(-1, embed.shape[1],  embed.shape[2] * embed.shape[3])\n",
    "    )\n",
    "    hidden = L.SpatialDropout1D(sp_dropout)(reshaped)\n",
    "    \n",
    "    for x in range(n_layers):\n",
    "        hidden = lstm_layer(hidden_dim, dropout)(hidden)\n",
    "    \n",
    "    truncated = hidden[:, :pred_len]\n",
    "    out = L.Dense(output_dim, activation='linear')(truncated)\n",
    "    \n",
    "    model = tf.keras.Model(inputs=inputs, outputs=out)\n",
    "    model.compile(keras.optimizers.Adam(), loss=MCRMSE)\n",
    "    \n",
    "    return model"
   ]
  },
  {
   "cell_type": "code",
   "execution_count": 21,
   "metadata": {},
   "outputs": [
    {
     "name": "stdout",
     "output_type": "stream",
     "text": [
      "Model: \"model\"\n",
      "_________________________________________________________________\n",
      "Layer (type)                 Output Shape              Param #   \n",
      "=================================================================\n",
      "input_1 (InputLayer)         [(None, 107, 3)]          0         \n",
      "_________________________________________________________________\n",
      "embedding (Embedding)        (None, 107, 3, 200)       2800      \n",
      "_________________________________________________________________\n",
      "tf_op_layer_Reshape (TensorF [(None, 107, 600)]        0         \n",
      "_________________________________________________________________\n",
      "spatial_dropout1d (SpatialDr (None, 107, 600)          0         \n",
      "_________________________________________________________________\n",
      "gru (GRU)                    (None, 107, 256)          658944    \n",
      "_________________________________________________________________\n",
      "gru_1 (GRU)                  (None, 107, 256)          394752    \n",
      "_________________________________________________________________\n",
      "gru_2 (GRU)                  (None, 107, 256)          394752    \n",
      "_________________________________________________________________\n",
      "tf_op_layer_strided_slice (T [(None, 68, 256)]         0         \n",
      "_________________________________________________________________\n",
      "dense (Dense)                (None, 68, 3)             771       \n",
      "=================================================================\n",
      "Total params: 1,452,019\n",
      "Trainable params: 1,452,019\n",
      "Non-trainable params: 0\n",
      "_________________________________________________________________\n"
     ]
    }
   ],
   "source": [
    "model_gru = build_gru_model(embed_size=len(inputs_dict))\n",
    "model_gru.summary()"
   ]
  },
  {
   "cell_type": "code",
   "execution_count": 22,
   "metadata": {},
   "outputs": [
    {
     "name": "stdout",
     "output_type": "stream",
     "text": [
      "Model: \"model_1\"\n",
      "_________________________________________________________________\n",
      "Layer (type)                 Output Shape              Param #   \n",
      "=================================================================\n",
      "input_2 (InputLayer)         [(None, 107, 3)]          0         \n",
      "_________________________________________________________________\n",
      "embedding_1 (Embedding)      (None, 107, 3, 200)       2800      \n",
      "_________________________________________________________________\n",
      "tf_op_layer_Reshape_1 (Tenso [(None, 107, 600)]        0         \n",
      "_________________________________________________________________\n",
      "spatial_dropout1d_1 (Spatial (None, 107, 600)          0         \n",
      "_________________________________________________________________\n",
      "lstm (LSTM)                  (None, 107, 256)          877568    \n",
      "_________________________________________________________________\n",
      "lstm_1 (LSTM)                (None, 107, 256)          525312    \n",
      "_________________________________________________________________\n",
      "lstm_2 (LSTM)                (None, 107, 256)          525312    \n",
      "_________________________________________________________________\n",
      "tf_op_layer_strided_slice_1  [(None, 68, 256)]         0         \n",
      "_________________________________________________________________\n",
      "dense_1 (Dense)              (None, 68, 3)             771       \n",
      "=================================================================\n",
      "Total params: 1,931,763\n",
      "Trainable params: 1,931,763\n",
      "Non-trainable params: 0\n",
      "_________________________________________________________________\n"
     ]
    }
   ],
   "source": [
    "model_lstm = build_lstm_model(embed_size=len(inputs_dict))\n",
    "model_lstm.summary()"
   ]
  },
  {
   "cell_type": "code",
   "execution_count": 23,
   "metadata": {},
   "outputs": [
    {
     "name": "stdout",
     "output_type": "stream",
     "text": [
      "Model: \"model_2\"\n",
      "_________________________________________________________________\n",
      "Layer (type)                 Output Shape              Param #   \n",
      "=================================================================\n",
      "input_3 (InputLayer)         [(None, 107, 3)]          0         \n",
      "_________________________________________________________________\n",
      "embedding_2 (Embedding)      (None, 107, 3, 200)       2800      \n",
      "_________________________________________________________________\n",
      "tf_op_layer_Reshape_2 (Tenso [(None, 107, 600)]        0         \n",
      "_________________________________________________________________\n",
      "spatial_dropout1d_2 (Spatial (None, 107, 600)          0         \n",
      "_________________________________________________________________\n",
      "bidirectional (Bidirectional (None, 107, 512)          1317888   \n",
      "_________________________________________________________________\n",
      "bidirectional_1 (Bidirection (None, 107, 512)          1182720   \n",
      "_________________________________________________________________\n",
      "bidirectional_2 (Bidirection (None, 107, 512)          1182720   \n",
      "_________________________________________________________________\n",
      "tf_op_layer_strided_slice_2  [(None, 68, 512)]         0         \n",
      "_________________________________________________________________\n",
      "dense_2 (Dense)              (None, 68, 3)             1539      \n",
      "=================================================================\n",
      "Total params: 3,687,667\n",
      "Trainable params: 3,687,667\n",
      "Non-trainable params: 0\n",
      "_________________________________________________________________\n"
     ]
    }
   ],
   "source": [
    "model_bi_gru = build_bi_gru_model(embed_size=len(inputs_dict))\n",
    "model_bi_gru.summary()"
   ]
  },
  {
   "cell_type": "code",
   "execution_count": 24,
   "metadata": {},
   "outputs": [
    {
     "name": "stdout",
     "output_type": "stream",
     "text": [
      "Model: \"model_3\"\n",
      "_________________________________________________________________\n",
      "Layer (type)                 Output Shape              Param #   \n",
      "=================================================================\n",
      "input_4 (InputLayer)         [(None, 107, 3)]          0         \n",
      "_________________________________________________________________\n",
      "embedding_3 (Embedding)      (None, 107, 3, 200)       2800      \n",
      "_________________________________________________________________\n",
      "tf_op_layer_Reshape_3 (Tenso [(None, 107, 600)]        0         \n",
      "_________________________________________________________________\n",
      "spatial_dropout1d_3 (Spatial (None, 107, 600)          0         \n",
      "_________________________________________________________________\n",
      "bidirectional_3 (Bidirection (None, 107, 512)          1755136   \n",
      "_________________________________________________________________\n",
      "bidirectional_4 (Bidirection (None, 107, 512)          1574912   \n",
      "_________________________________________________________________\n",
      "bidirectional_5 (Bidirection (None, 107, 512)          1574912   \n",
      "_________________________________________________________________\n",
      "tf_op_layer_strided_slice_3  [(None, 68, 512)]         0         \n",
      "_________________________________________________________________\n",
      "dense_3 (Dense)              (None, 68, 3)             1539      \n",
      "=================================================================\n",
      "Total params: 4,909,299\n",
      "Trainable params: 4,909,299\n",
      "Non-trainable params: 0\n",
      "_________________________________________________________________\n"
     ]
    }
   ],
   "source": [
    "model_bi_lstm = build_bi_lstm_model(embed_size=len(inputs_dict))\n",
    "model_bi_lstm.summary()"
   ]
  },
  {
   "cell_type": "code",
   "execution_count": 25,
   "metadata": {},
   "outputs": [
    {
     "name": "stdout",
     "output_type": "stream",
     "text": [
      "Train on 90 samples, validate on 10 samples\n",
      "Epoch 1/75\n",
      "90/90 - 20s - loss: 0.6267 - val_loss: 0.5822\n",
      "Epoch 2/75\n",
      "90/90 - 6s - loss: 0.5627 - val_loss: 0.5730\n",
      "Epoch 3/75\n",
      "90/90 - 6s - loss: 0.5243 - val_loss: 0.6041\n",
      "Epoch 4/75\n",
      "90/90 - 6s - loss: 0.5440 - val_loss: 0.6035\n",
      "Epoch 5/75\n",
      "90/90 - 6s - loss: 0.5393 - val_loss: 0.5746\n",
      "Epoch 6/75\n",
      "90/90 - 6s - loss: 0.5125 - val_loss: 0.5555\n",
      "Epoch 7/75\n",
      "90/90 - 6s - loss: 0.5016 - val_loss: 0.5640\n",
      "Epoch 8/75\n",
      "90/90 - 6s - loss: 0.5015 - val_loss: 0.5503\n",
      "Epoch 9/75\n",
      "90/90 - 6s - loss: 0.4905 - val_loss: 0.5456\n",
      "Epoch 10/75\n",
      "90/90 - 6s - loss: 0.4867 - val_loss: 0.5448\n",
      "Epoch 11/75\n",
      "90/90 - 6s - loss: 0.4816 - val_loss: 0.5453\n",
      "Epoch 12/75\n",
      "90/90 - 6s - loss: 0.4768 - val_loss: 0.5448\n",
      "Epoch 13/75\n",
      "90/90 - 6s - loss: 0.4696 - val_loss: 0.5428\n",
      "Epoch 14/75\n",
      "90/90 - 6s - loss: 0.4668 - val_loss: 0.5386\n",
      "Epoch 15/75\n",
      "90/90 - 6s - loss: 0.4647 - val_loss: 0.5332\n",
      "Epoch 16/75\n",
      "90/90 - 6s - loss: 0.4589 - val_loss: 0.5371\n",
      "Epoch 17/75\n",
      "90/90 - 6s - loss: 0.4596 - val_loss: 0.5376\n",
      "Epoch 18/75\n",
      "90/90 - 6s - loss: 0.4598 - val_loss: 0.5301\n",
      "Epoch 19/75\n",
      "90/90 - 6s - loss: 0.4565 - val_loss: 0.5288\n",
      "Epoch 20/75\n",
      "90/90 - 6s - loss: 0.4547 - val_loss: 0.5256\n",
      "Epoch 21/75\n",
      "90/90 - 6s - loss: 0.4507 - val_loss: 0.5245\n",
      "Epoch 22/75\n",
      "90/90 - 6s - loss: 0.4512 - val_loss: 0.5231\n",
      "Epoch 23/75\n",
      "90/90 - 6s - loss: 0.4508 - val_loss: 0.5202\n",
      "Epoch 24/75\n",
      "90/90 - 6s - loss: 0.4481 - val_loss: 0.5183\n",
      "Epoch 25/75\n",
      "90/90 - 6s - loss: 0.4480 - val_loss: 0.5173\n",
      "Epoch 26/75\n",
      "90/90 - 6s - loss: 0.4485 - val_loss: 0.5159\n",
      "Epoch 27/75\n",
      "90/90 - 6s - loss: 0.4462 - val_loss: 0.5143\n",
      "Epoch 28/75\n",
      "90/90 - 6s - loss: 0.4466 - val_loss: 0.5143\n",
      "Epoch 29/75\n",
      "90/90 - 6s - loss: 0.4459 - val_loss: 0.5116\n",
      "Epoch 30/75\n",
      "90/90 - 6s - loss: 0.4443 - val_loss: 0.5111\n",
      "Epoch 31/75\n",
      "90/90 - 6s - loss: 0.4445 - val_loss: 0.5103\n",
      "Epoch 32/75\n",
      "90/90 - 6s - loss: 0.4452 - val_loss: 0.5088\n",
      "Epoch 33/75\n",
      "90/90 - 6s - loss: 0.4440 - val_loss: 0.5086\n",
      "Epoch 34/75\n",
      "90/90 - 5s - loss: 0.4419 - val_loss: 0.5080\n",
      "Epoch 35/75\n",
      "90/90 - 6s - loss: 0.4398 - val_loss: 0.5070\n",
      "Epoch 36/75\n",
      "90/90 - 5s - loss: 0.4430 - val_loss: 0.5052\n",
      "Epoch 37/75\n",
      "90/90 - 6s - loss: 0.4401 - val_loss: 0.5123\n",
      "Epoch 38/75\n",
      "90/90 - 5s - loss: 0.4417 - val_loss: 0.5018\n",
      "Epoch 39/75\n",
      "90/90 - 5s - loss: 0.4388 - val_loss: 0.5010\n",
      "Epoch 40/75\n",
      "90/90 - 6s - loss: 0.4393 - val_loss: 0.5043\n",
      "Epoch 41/75\n",
      "90/90 - 5s - loss: 0.4406 - val_loss: 0.5036\n",
      "Epoch 42/75\n",
      "90/90 - 5s - loss: 0.4391 - val_loss: 0.4975\n",
      "Epoch 43/75\n",
      "90/90 - 6s - loss: 0.4374 - val_loss: 0.5017\n",
      "Epoch 44/75\n",
      "90/90 - 6s - loss: 0.4378 - val_loss: 0.5027\n",
      "Epoch 45/75\n",
      "90/90 - 5s - loss: 0.4368 - val_loss: 0.4968\n",
      "Epoch 46/75\n",
      "90/90 - 5s - loss: 0.4359 - val_loss: 0.4959\n",
      "Epoch 47/75\n",
      "90/90 - 5s - loss: 0.4354 - val_loss: 0.4964\n",
      "Epoch 48/75\n",
      "90/90 - 5s - loss: 0.4343 - val_loss: 0.4945\n",
      "Epoch 49/75\n",
      "90/90 - 5s - loss: 0.4340 - val_loss: 0.4959\n",
      "Epoch 50/75\n",
      "90/90 - 6s - loss: 0.4334 - val_loss: 0.4948\n",
      "Epoch 51/75\n",
      "90/90 - 5s - loss: 0.4338 - val_loss: 0.4922\n",
      "Epoch 52/75\n",
      "90/90 - 5s - loss: 0.4339 - val_loss: 0.4942\n",
      "Epoch 53/75\n",
      "90/90 - 6s - loss: 0.4334 - val_loss: 0.4965\n",
      "Epoch 54/75\n",
      "90/90 - 6s - loss: 0.4329 - val_loss: 0.4961\n",
      "Epoch 55/75\n",
      "90/90 - 5s - loss: 0.4331 - val_loss: 0.4935\n",
      "Epoch 56/75\n",
      "90/90 - 5s - loss: 0.4342 - val_loss: 0.4947\n",
      "Epoch 57/75\n",
      "90/90 - 5s - loss: 0.4331 - val_loss: 0.4966\n",
      "Epoch 58/75\n",
      "90/90 - 5s - loss: 0.4315 - val_loss: 0.4917\n",
      "Epoch 59/75\n",
      "90/90 - 5s - loss: 0.4322 - val_loss: 0.4886\n",
      "Epoch 60/75\n",
      "90/90 - 5s - loss: 0.4316 - val_loss: 0.4915\n",
      "Epoch 61/75\n",
      "90/90 - 5s - loss: 0.4310 - val_loss: 0.4929\n",
      "Epoch 62/75\n",
      "90/90 - 5s - loss: 0.4318 - val_loss: 0.4902\n",
      "Epoch 63/75\n",
      "90/90 - 5s - loss: 0.4314 - val_loss: 0.4912\n",
      "Epoch 64/75\n",
      "90/90 - 5s - loss: 0.4306 - val_loss: 0.4937\n",
      "Epoch 65/75\n",
      "90/90 - 6s - loss: 0.4323 - val_loss: 0.4908\n",
      "Epoch 66/75\n",
      "90/90 - 5s - loss: 0.4304 - val_loss: 0.4905\n",
      "Epoch 67/75\n",
      "90/90 - 5s - loss: 0.4325 - val_loss: 0.4944\n",
      "Epoch 68/75\n",
      "90/90 - 5s - loss: 0.4301 - val_loss: 0.4886\n",
      "Epoch 69/75\n",
      "90/90 - 6s - loss: 0.4301 - val_loss: 0.4876\n",
      "Epoch 70/75\n",
      "90/90 - 5s - loss: 0.4330 - val_loss: 0.4908\n",
      "Epoch 71/75\n",
      "90/90 - 5s - loss: 0.4289 - val_loss: 0.4917\n",
      "Epoch 72/75\n",
      "90/90 - 5s - loss: 0.4301 - val_loss: 0.4892\n",
      "Epoch 73/75\n",
      "90/90 - 5s - loss: 0.4308 - val_loss: 0.4896\n",
      "Epoch 74/75\n",
      "90/90 - 5s - loss: 0.4309 - val_loss: 0.4923\n",
      "Epoch 75/75\n",
      "90/90 - 6s - loss: 0.4288 - val_loss: 0.4920\n"
     ]
    }
   ],
   "source": [
    "history_gru = model_gru.fit(\n",
    "    x_train, y_train,\n",
    "    validation_data=(x_val, y_val),\n",
    "    batch_size=64,\n",
    "    epochs=75,\n",
    "    verbose=2\n",
    ")\n",
    "#callbacks pour arrêter quand sur-apprentissage"
   ]
  },
  {
   "cell_type": "code",
   "execution_count": 26,
   "metadata": {},
   "outputs": [
    {
     "name": "stdout",
     "output_type": "stream",
     "text": [
      "Train on 90 samples, validate on 10 samples\n",
      "Epoch 1/75\n",
      "90/90 - 19s - loss: 0.6306 - val_loss: 0.6166\n",
      "Epoch 2/75\n",
      "90/90 - 6s - loss: 0.5466 - val_loss: 0.6138\n",
      "Epoch 3/75\n",
      "90/90 - 6s - loss: 0.5445 - val_loss: 0.5917\n",
      "Epoch 4/75\n",
      "90/90 - 7s - loss: 0.5325 - val_loss: 0.5855\n",
      "Epoch 5/75\n",
      "90/90 - 7s - loss: 0.5238 - val_loss: 0.5875\n",
      "Epoch 6/75\n",
      "90/90 - 6s - loss: 0.5276 - val_loss: 0.5756\n",
      "Epoch 7/75\n",
      "90/90 - 6s - loss: 0.5182 - val_loss: 0.5724\n",
      "Epoch 8/75\n",
      "90/90 - 6s - loss: 0.5150 - val_loss: 0.5649\n",
      "Epoch 9/75\n",
      "90/90 - 6s - loss: 0.5092 - val_loss: 0.5624\n",
      "Epoch 10/75\n",
      "90/90 - 6s - loss: 0.5068 - val_loss: 0.5552\n",
      "Epoch 11/75\n",
      "90/90 - 6s - loss: 0.5004 - val_loss: 0.5510\n",
      "Epoch 12/75\n",
      "90/90 - 6s - loss: 0.4983 - val_loss: 0.5441\n",
      "Epoch 13/75\n",
      "90/90 - 6s - loss: 0.4900 - val_loss: 0.5413\n",
      "Epoch 14/75\n",
      "90/90 - 6s - loss: 0.4858 - val_loss: 0.5364\n",
      "Epoch 15/75\n",
      "90/90 - 6s - loss: 0.4798 - val_loss: 0.5343\n",
      "Epoch 16/75\n",
      "90/90 - 6s - loss: 0.4737 - val_loss: 0.5329\n",
      "Epoch 17/75\n",
      "90/90 - 6s - loss: 0.4682 - val_loss: 0.5328\n",
      "Epoch 18/75\n",
      "90/90 - 6s - loss: 0.4627 - val_loss: 0.5312\n",
      "Epoch 19/75\n",
      "90/90 - 6s - loss: 0.4591 - val_loss: 0.5280\n",
      "Epoch 20/75\n",
      "90/90 - 6s - loss: 0.4521 - val_loss: 0.5236\n",
      "Epoch 21/75\n",
      "90/90 - 6s - loss: 0.4503 - val_loss: 0.5165\n",
      "Epoch 22/75\n",
      "90/90 - 6s - loss: 0.4465 - val_loss: 0.5088\n",
      "Epoch 23/75\n",
      "90/90 - 6s - loss: 0.4413 - val_loss: 0.5037\n",
      "Epoch 24/75\n",
      "90/90 - 6s - loss: 0.4406 - val_loss: 0.4991\n",
      "Epoch 25/75\n",
      "90/90 - 6s - loss: 0.4397 - val_loss: 0.4953\n",
      "Epoch 26/75\n",
      "90/90 - 6s - loss: 0.4409 - val_loss: 0.4944\n",
      "Epoch 27/75\n",
      "90/90 - 6s - loss: 0.4385 - val_loss: 0.4956\n",
      "Epoch 28/75\n",
      "90/90 - 6s - loss: 0.4370 - val_loss: 0.5008\n",
      "Epoch 29/75\n",
      "90/90 - 6s - loss: 0.4379 - val_loss: 0.4937\n",
      "Epoch 30/75\n",
      "90/90 - 6s - loss: 0.4374 - val_loss: 0.4987\n",
      "Epoch 31/75\n",
      "90/90 - 6s - loss: 0.4367 - val_loss: 0.4947\n",
      "Epoch 32/75\n",
      "90/90 - 6s - loss: 0.4351 - val_loss: 0.4952\n",
      "Epoch 33/75\n",
      "90/90 - 6s - loss: 0.4364 - val_loss: 0.4974\n",
      "Epoch 34/75\n",
      "90/90 - 6s - loss: 0.4351 - val_loss: 0.4928\n",
      "Epoch 35/75\n",
      "90/90 - 6s - loss: 0.4358 - val_loss: 0.4946\n",
      "Epoch 36/75\n",
      "90/90 - 6s - loss: 0.4355 - val_loss: 0.4973\n",
      "Epoch 37/75\n",
      "90/90 - 6s - loss: 0.4349 - val_loss: 0.4944\n",
      "Epoch 38/75\n",
      "90/90 - 6s - loss: 0.4337 - val_loss: 0.4916\n",
      "Epoch 39/75\n",
      "90/90 - 6s - loss: 0.4343 - val_loss: 0.4906\n",
      "Epoch 40/75\n",
      "90/90 - 7s - loss: 0.4349 - val_loss: 0.4914\n",
      "Epoch 41/75\n",
      "90/90 - 7s - loss: 0.4323 - val_loss: 0.4934\n",
      "Epoch 42/75\n",
      "90/90 - 6s - loss: 0.4327 - val_loss: 0.4920\n",
      "Epoch 43/75\n",
      "90/90 - 6s - loss: 0.4331 - val_loss: 0.4929\n",
      "Epoch 44/75\n",
      "90/90 - 6s - loss: 0.4335 - val_loss: 0.4905\n",
      "Epoch 45/75\n",
      "90/90 - 6s - loss: 0.4309 - val_loss: 0.4905\n",
      "Epoch 46/75\n",
      "90/90 - 6s - loss: 0.4328 - val_loss: 0.4929\n",
      "Epoch 47/75\n",
      "90/90 - 6s - loss: 0.4299 - val_loss: 0.4916\n",
      "Epoch 48/75\n",
      "90/90 - 6s - loss: 0.4317 - val_loss: 0.4918\n",
      "Epoch 49/75\n",
      "90/90 - 6s - loss: 0.4303 - val_loss: 0.4929\n",
      "Epoch 50/75\n",
      "90/90 - 6s - loss: 0.4308 - val_loss: 0.4899\n",
      "Epoch 51/75\n",
      "90/90 - 6s - loss: 0.4307 - val_loss: 0.4897\n",
      "Epoch 52/75\n",
      "90/90 - 6s - loss: 0.4310 - val_loss: 0.4913\n",
      "Epoch 53/75\n",
      "90/90 - 6s - loss: 0.4310 - val_loss: 0.4891\n",
      "Epoch 54/75\n",
      "90/90 - 6s - loss: 0.4328 - val_loss: 0.4915\n",
      "Epoch 55/75\n",
      "90/90 - 7s - loss: 0.4311 - val_loss: 0.4916\n",
      "Epoch 56/75\n",
      "90/90 - 6s - loss: 0.4297 - val_loss: 0.4906\n",
      "Epoch 57/75\n",
      "90/90 - 6s - loss: 0.4302 - val_loss: 0.4900\n",
      "Epoch 58/75\n",
      "90/90 - 6s - loss: 0.4323 - val_loss: 0.4901\n",
      "Epoch 59/75\n",
      "90/90 - 6s - loss: 0.4294 - val_loss: 0.4891\n",
      "Epoch 60/75\n",
      "90/90 - 6s - loss: 0.4291 - val_loss: 0.4909\n",
      "Epoch 61/75\n",
      "90/90 - 6s - loss: 0.4305 - val_loss: 0.4902\n",
      "Epoch 62/75\n",
      "90/90 - 7s - loss: 0.4294 - val_loss: 0.4884\n",
      "Epoch 63/75\n",
      "90/90 - 6s - loss: 0.4296 - val_loss: 0.4906\n",
      "Epoch 64/75\n",
      "90/90 - 6s - loss: 0.4291 - val_loss: 0.4921\n",
      "Epoch 65/75\n",
      "90/90 - 6s - loss: 0.4301 - val_loss: 0.4909\n",
      "Epoch 66/75\n",
      "90/90 - 6s - loss: 0.4304 - val_loss: 0.4923\n",
      "Epoch 67/75\n",
      "90/90 - 6s - loss: 0.4308 - val_loss: 0.4890\n",
      "Epoch 68/75\n",
      "90/90 - 6s - loss: 0.4312 - val_loss: 0.4885\n",
      "Epoch 69/75\n",
      "90/90 - 6s - loss: 0.4291 - val_loss: 0.4915\n",
      "Epoch 70/75\n",
      "90/90 - 6s - loss: 0.4283 - val_loss: 0.4889\n",
      "Epoch 71/75\n",
      "90/90 - 7s - loss: 0.4292 - val_loss: 0.4893\n",
      "Epoch 72/75\n",
      "90/90 - 6s - loss: 0.4276 - val_loss: 0.4941\n",
      "Epoch 73/75\n",
      "90/90 - 6s - loss: 0.4286 - val_loss: 0.4884\n",
      "Epoch 74/75\n",
      "90/90 - 6s - loss: 0.4290 - val_loss: 0.4895\n",
      "Epoch 75/75\n",
      "90/90 - 6s - loss: 0.4281 - val_loss: 0.4958\n"
     ]
    }
   ],
   "source": [
    "history_lstm = model_lstm.fit(\n",
    "    x_train, y_train,\n",
    "    validation_data=(x_val, y_val),\n",
    "    batch_size=64,\n",
    "    epochs=75,\n",
    "    verbose=2\n",
    ")"
   ]
  },
  {
   "cell_type": "code",
   "execution_count": 27,
   "metadata": {},
   "outputs": [
    {
     "name": "stdout",
     "output_type": "stream",
     "text": [
      "Train on 90 samples, validate on 10 samples\n",
      "Epoch 1/75\n",
      "90/90 - 33s - loss: 0.6067 - val_loss: 0.6087\n",
      "Epoch 2/75\n",
      "90/90 - 10s - loss: 0.5441 - val_loss: 0.5963\n",
      "Epoch 3/75\n",
      "90/90 - 11s - loss: 0.5260 - val_loss: 0.5426\n",
      "Epoch 4/75\n",
      "90/90 - 11s - loss: 0.4818 - val_loss: 0.5571\n",
      "Epoch 5/75\n",
      "90/90 - 10s - loss: 0.4791 - val_loss: 0.5435\n",
      "Epoch 6/75\n",
      "90/90 - 12s - loss: 0.4787 - val_loss: 0.5450\n",
      "Epoch 7/75\n",
      "90/90 - 11s - loss: 0.4741 - val_loss: 0.5458\n",
      "Epoch 8/75\n",
      "90/90 - 10s - loss: 0.4629 - val_loss: 0.5535\n",
      "Epoch 9/75\n",
      "90/90 - 11s - loss: 0.4629 - val_loss: 0.5347\n",
      "Epoch 10/75\n",
      "90/90 - 11s - loss: 0.4571 - val_loss: 0.5345\n",
      "Epoch 11/75\n",
      "90/90 - 10s - loss: 0.4563 - val_loss: 0.5350\n",
      "Epoch 12/75\n",
      "90/90 - 11s - loss: 0.4535 - val_loss: 0.5437\n",
      "Epoch 13/75\n",
      "90/90 - 10s - loss: 0.4552 - val_loss: 0.5317\n",
      "Epoch 14/75\n",
      "90/90 - 11s - loss: 0.4492 - val_loss: 0.5306\n",
      "Epoch 15/75\n",
      "90/90 - 10s - loss: 0.4504 - val_loss: 0.5257\n",
      "Epoch 16/75\n",
      "90/90 - 11s - loss: 0.4485 - val_loss: 0.5237\n",
      "Epoch 17/75\n",
      "90/90 - 11s - loss: 0.4509 - val_loss: 0.5228\n",
      "Epoch 18/75\n",
      "90/90 - 11s - loss: 0.4457 - val_loss: 0.5262\n",
      "Epoch 19/75\n",
      "90/90 - 11s - loss: 0.4475 - val_loss: 0.5185\n",
      "Epoch 20/75\n",
      "90/90 - 11s - loss: 0.4455 - val_loss: 0.5157\n",
      "Epoch 21/75\n",
      "90/90 - 11s - loss: 0.4429 - val_loss: 0.5270\n",
      "Epoch 22/75\n",
      "90/90 - 11s - loss: 0.4474 - val_loss: 0.5238\n",
      "Epoch 23/75\n",
      "90/90 - 11s - loss: 0.4437 - val_loss: 0.5149\n",
      "Epoch 24/75\n",
      "90/90 - 11s - loss: 0.4438 - val_loss: 0.5201\n",
      "Epoch 25/75\n",
      "90/90 - 11s - loss: 0.4444 - val_loss: 0.5174\n",
      "Epoch 26/75\n",
      "90/90 - 11s - loss: 0.4437 - val_loss: 0.5113\n",
      "Epoch 27/75\n",
      "90/90 - 10s - loss: 0.4439 - val_loss: 0.5160\n",
      "Epoch 28/75\n",
      "90/90 - 11s - loss: 0.4440 - val_loss: 0.5234\n",
      "Epoch 29/75\n",
      "90/90 - 11s - loss: 0.4433 - val_loss: 0.5195\n",
      "Epoch 30/75\n",
      "90/90 - 11s - loss: 0.4420 - val_loss: 0.5154\n",
      "Epoch 31/75\n",
      "90/90 - 11s - loss: 0.4412 - val_loss: 0.5113\n",
      "Epoch 32/75\n",
      "90/90 - 11s - loss: 0.4396 - val_loss: 0.5111\n",
      "Epoch 33/75\n",
      "90/90 - 11s - loss: 0.4396 - val_loss: 0.5138\n",
      "Epoch 34/75\n",
      "90/90 - 11s - loss: 0.4393 - val_loss: 0.5107\n",
      "Epoch 35/75\n",
      "90/90 - 11s - loss: 0.4382 - val_loss: 0.5192\n",
      "Epoch 36/75\n",
      "90/90 - 11s - loss: 0.4386 - val_loss: 0.5169\n",
      "Epoch 37/75\n",
      "90/90 - 11s - loss: 0.4389 - val_loss: 0.5041\n",
      "Epoch 38/75\n",
      "90/90 - 11s - loss: 0.4376 - val_loss: 0.5036\n",
      "Epoch 39/75\n",
      "90/90 - 10s - loss: 0.4381 - val_loss: 0.5035\n",
      "Epoch 40/75\n",
      "90/90 - 11s - loss: 0.4358 - val_loss: 0.5076\n",
      "Epoch 41/75\n",
      "90/90 - 11s - loss: 0.4348 - val_loss: 0.5183\n",
      "Epoch 42/75\n",
      "90/90 - 11s - loss: 0.4357 - val_loss: 0.5087\n",
      "Epoch 43/75\n",
      "90/90 - 11s - loss: 0.4364 - val_loss: 0.4939\n",
      "Epoch 44/75\n",
      "90/90 - 10s - loss: 0.4326 - val_loss: 0.5083\n",
      "Epoch 45/75\n",
      "90/90 - 11s - loss: 0.4343 - val_loss: 0.4990\n",
      "Epoch 46/75\n",
      "90/90 - 11s - loss: 0.4310 - val_loss: 0.4965\n",
      "Epoch 47/75\n",
      "90/90 - 11s - loss: 0.4330 - val_loss: 0.5238\n",
      "Epoch 48/75\n",
      "90/90 - 11s - loss: 0.4354 - val_loss: 0.4947\n",
      "Epoch 49/75\n",
      "90/90 - 11s - loss: 0.4302 - val_loss: 0.4957\n",
      "Epoch 50/75\n",
      "90/90 - 11s - loss: 0.4307 - val_loss: 0.4980\n",
      "Epoch 51/75\n",
      "90/90 - 11s - loss: 0.4304 - val_loss: 0.4944\n",
      "Epoch 52/75\n",
      "90/90 - 10s - loss: 0.4306 - val_loss: 0.4953\n",
      "Epoch 53/75\n",
      "90/90 - 11s - loss: 0.4294 - val_loss: 0.4948\n",
      "Epoch 54/75\n",
      "90/90 - 11s - loss: 0.4275 - val_loss: 0.5004\n",
      "Epoch 55/75\n",
      "90/90 - 11s - loss: 0.4308 - val_loss: 0.4931\n",
      "Epoch 56/75\n",
      "90/90 - 11s - loss: 0.4269 - val_loss: 0.4921\n",
      "Epoch 57/75\n",
      "90/90 - 11s - loss: 0.4278 - val_loss: 0.4925\n",
      "Epoch 58/75\n",
      "90/90 - 11s - loss: 0.4273 - val_loss: 0.5030\n",
      "Epoch 59/75\n",
      "90/90 - 12s - loss: 0.4276 - val_loss: 0.4988\n",
      "Epoch 60/75\n",
      "90/90 - 11s - loss: 0.4266 - val_loss: 0.4902\n",
      "Epoch 61/75\n",
      "90/90 - 12s - loss: 0.4277 - val_loss: 0.4901\n",
      "Epoch 62/75\n",
      "90/90 - 12s - loss: 0.4280 - val_loss: 0.4911\n",
      "Epoch 63/75\n",
      "90/90 - 11s - loss: 0.4260 - val_loss: 0.4977\n",
      "Epoch 64/75\n",
      "90/90 - 10s - loss: 0.4276 - val_loss: 0.4970\n",
      "Epoch 65/75\n",
      "90/90 - 11s - loss: 0.4274 - val_loss: 0.4912\n",
      "Epoch 66/75\n",
      "90/90 - 11s - loss: 0.4285 - val_loss: 0.4955\n",
      "Epoch 67/75\n",
      "90/90 - 11s - loss: 0.4268 - val_loss: 0.4979\n",
      "Epoch 68/75\n",
      "90/90 - 10s - loss: 0.4285 - val_loss: 0.4908\n",
      "Epoch 69/75\n",
      "90/90 - 11s - loss: 0.4288 - val_loss: 0.4900\n",
      "Epoch 70/75\n",
      "90/90 - 11s - loss: 0.4284 - val_loss: 0.4960\n",
      "Epoch 71/75\n",
      "90/90 - 11s - loss: 0.4274 - val_loss: 0.4913\n",
      "Epoch 72/75\n",
      "90/90 - 11s - loss: 0.4263 - val_loss: 0.4919\n",
      "Epoch 73/75\n",
      "90/90 - 11s - loss: 0.4246 - val_loss: 0.4957\n",
      "Epoch 74/75\n",
      "90/90 - 11s - loss: 0.4253 - val_loss: 0.4925\n",
      "Epoch 75/75\n",
      "90/90 - 11s - loss: 0.4238 - val_loss: 0.4940\n"
     ]
    }
   ],
   "source": [
    "history_bi_gru = model_bi_gru.fit(\n",
    "    x_train, y_train,\n",
    "    validation_data=(x_val, y_val),\n",
    "    batch_size=64,\n",
    "    epochs=75,\n",
    "    verbose=2\n",
    ")"
   ]
  },
  {
   "cell_type": "code",
   "execution_count": 28,
   "metadata": {},
   "outputs": [
    {
     "name": "stdout",
     "output_type": "stream",
     "text": [
      "Train on 90 samples, validate on 10 samples\n",
      "Epoch 1/75\n",
      "90/90 - 37s - loss: 0.6095 - val_loss: 0.9998\n",
      "Epoch 2/75\n",
      "90/90 - 14s - loss: 0.8469 - val_loss: 0.6611\n",
      "Epoch 3/75\n",
      "90/90 - 12s - loss: 0.5930 - val_loss: 0.6311\n",
      "Epoch 4/75\n",
      "90/90 - 12s - loss: 0.5522 - val_loss: 0.5685\n",
      "Epoch 5/75\n",
      "90/90 - 12s - loss: 0.5119 - val_loss: 0.5588\n",
      "Epoch 6/75\n",
      "90/90 - 12s - loss: 0.5033 - val_loss: 0.5653\n",
      "Epoch 7/75\n",
      "90/90 - 12s - loss: 0.5026 - val_loss: 0.5462\n",
      "Epoch 8/75\n",
      "90/90 - 12s - loss: 0.4861 - val_loss: 0.5486\n",
      "Epoch 9/75\n",
      "90/90 - 13s - loss: 0.4879 - val_loss: 0.5367\n",
      "Epoch 10/75\n",
      "90/90 - 12s - loss: 0.4760 - val_loss: 0.5396\n",
      "Epoch 11/75\n",
      "90/90 - 12s - loss: 0.4767 - val_loss: 0.5370\n",
      "Epoch 12/75\n",
      "90/90 - 13s - loss: 0.4716 - val_loss: 0.5334\n",
      "Epoch 13/75\n",
      "90/90 - 12s - loss: 0.4654 - val_loss: 0.5304\n",
      "Epoch 14/75\n",
      "90/90 - 12s - loss: 0.4638 - val_loss: 0.5257\n",
      "Epoch 15/75\n",
      "90/90 - 13s - loss: 0.4574 - val_loss: 0.5312\n",
      "Epoch 16/75\n",
      "90/90 - 12s - loss: 0.4581 - val_loss: 0.5317\n",
      "Epoch 17/75\n",
      "90/90 - 12s - loss: 0.4542 - val_loss: 0.5308\n",
      "Epoch 18/75\n",
      "90/90 - 13s - loss: 0.4539 - val_loss: 0.5276\n",
      "Epoch 19/75\n",
      "90/90 - 12s - loss: 0.4505 - val_loss: 0.5334\n",
      "Epoch 20/75\n",
      "90/90 - 13s - loss: 0.4534 - val_loss: 0.5254\n",
      "Epoch 21/75\n",
      "90/90 - 12s - loss: 0.4485 - val_loss: 0.5296\n",
      "Epoch 22/75\n",
      "90/90 - 12s - loss: 0.4508 - val_loss: 0.5228\n",
      "Epoch 23/75\n",
      "90/90 - 12s - loss: 0.4480 - val_loss: 0.5229\n",
      "Epoch 24/75\n",
      "90/90 - 13s - loss: 0.4465 - val_loss: 0.5297\n",
      "Epoch 25/75\n",
      "90/90 - 13s - loss: 0.4477 - val_loss: 0.5191\n",
      "Epoch 26/75\n",
      "90/90 - 15s - loss: 0.4474 - val_loss: 0.5163\n",
      "Epoch 27/75\n",
      "90/90 - 14s - loss: 0.4454 - val_loss: 0.5163\n",
      "Epoch 28/75\n",
      "90/90 - 15s - loss: 0.4453 - val_loss: 0.5170\n",
      "Epoch 29/75\n",
      "90/90 - 17s - loss: 0.4432 - val_loss: 0.5194\n",
      "Epoch 30/75\n",
      "90/90 - 17s - loss: 0.4445 - val_loss: 0.5189\n",
      "Epoch 31/75\n",
      "90/90 - 19s - loss: 0.4435 - val_loss: 0.5186\n",
      "Epoch 32/75\n",
      "90/90 - 16s - loss: 0.4431 - val_loss: 0.5230\n",
      "Epoch 33/75\n",
      "90/90 - 21s - loss: 0.4430 - val_loss: 0.5199\n",
      "Epoch 34/75\n",
      "90/90 - 19s - loss: 0.4426 - val_loss: 0.5180\n",
      "Epoch 35/75\n",
      "90/90 - 19s - loss: 0.4431 - val_loss: 0.5203\n",
      "Epoch 36/75\n",
      "90/90 - 21s - loss: 0.4415 - val_loss: 0.5189\n",
      "Epoch 37/75\n",
      "90/90 - 21s - loss: 0.4415 - val_loss: 0.5222\n",
      "Epoch 38/75\n",
      "90/90 - 24s - loss: 0.4427 - val_loss: 0.5173\n",
      "Epoch 39/75\n",
      "90/90 - 23s - loss: 0.4406 - val_loss: 0.5144\n",
      "Epoch 40/75\n",
      "90/90 - 24s - loss: 0.4418 - val_loss: 0.5184\n",
      "Epoch 41/75\n",
      "90/90 - 27s - loss: 0.4431 - val_loss: 0.5138\n",
      "Epoch 42/75\n",
      "90/90 - 23s - loss: 0.4420 - val_loss: 0.5189\n",
      "Epoch 43/75\n",
      "90/90 - 25s - loss: 0.4407 - val_loss: 0.5262\n",
      "Epoch 44/75\n",
      "90/90 - 12s - loss: 0.4423 - val_loss: 0.5169\n",
      "Epoch 45/75\n",
      "90/90 - 13s - loss: 0.4414 - val_loss: 0.5202\n",
      "Epoch 46/75\n",
      "90/90 - 13s - loss: 0.4403 - val_loss: 0.5191\n",
      "Epoch 47/75\n",
      "90/90 - 13s - loss: 0.4394 - val_loss: 0.5152\n",
      "Epoch 48/75\n",
      "90/90 - 13s - loss: 0.4395 - val_loss: 0.5176\n",
      "Epoch 49/75\n",
      "90/90 - 13s - loss: 0.4394 - val_loss: 0.5178\n",
      "Epoch 50/75\n",
      "90/90 - 13s - loss: 0.4386 - val_loss: 0.5146\n",
      "Epoch 51/75\n",
      "90/90 - 13s - loss: 0.4398 - val_loss: 0.5144\n",
      "Epoch 52/75\n",
      "90/90 - 13s - loss: 0.4395 - val_loss: 0.5151\n",
      "Epoch 53/75\n",
      "90/90 - 13s - loss: 0.4378 - val_loss: 0.5130\n",
      "Epoch 54/75\n",
      "90/90 - 13s - loss: 0.4370 - val_loss: 0.5151\n",
      "Epoch 55/75\n",
      "90/90 - 13s - loss: 0.4370 - val_loss: 0.5143\n",
      "Epoch 56/75\n",
      "90/90 - 13s - loss: 0.4369 - val_loss: 0.5120\n",
      "Epoch 57/75\n",
      "90/90 - 13s - loss: 0.4354 - val_loss: 0.5093\n",
      "Epoch 58/75\n",
      "90/90 - 13s - loss: 0.4356 - val_loss: 0.5107\n",
      "Epoch 59/75\n",
      "90/90 - 13s - loss: 0.4362 - val_loss: 0.5148\n",
      "Epoch 60/75\n",
      "90/90 - 13s - loss: 0.4351 - val_loss: 0.5148\n",
      "Epoch 61/75\n",
      "90/90 - 13s - loss: 0.4351 - val_loss: 0.5108\n",
      "Epoch 62/75\n",
      "90/90 - 13s - loss: 0.4349 - val_loss: 0.5060\n",
      "Epoch 63/75\n",
      "90/90 - 13s - loss: 0.4336 - val_loss: 0.5064\n",
      "Epoch 64/75\n",
      "90/90 - 13s - loss: 0.4346 - val_loss: 0.5079\n",
      "Epoch 65/75\n",
      "90/90 - 12s - loss: 0.4345 - val_loss: 0.5048\n",
      "Epoch 66/75\n",
      "90/90 - 13s - loss: 0.4328 - val_loss: 0.5087\n",
      "Epoch 67/75\n",
      "90/90 - 13s - loss: 0.4324 - val_loss: 0.5111\n",
      "Epoch 68/75\n",
      "90/90 - 13s - loss: 0.4329 - val_loss: 0.5077\n",
      "Epoch 69/75\n",
      "90/90 - 13s - loss: 0.4307 - val_loss: 0.5031\n",
      "Epoch 70/75\n",
      "90/90 - 14s - loss: 0.4303 - val_loss: 0.4994\n",
      "Epoch 71/75\n",
      "90/90 - 13s - loss: 0.4289 - val_loss: 0.4987\n",
      "Epoch 72/75\n",
      "90/90 - 13s - loss: 0.4276 - val_loss: 0.5036\n",
      "Epoch 73/75\n",
      "90/90 - 13s - loss: 0.4295 - val_loss: 0.5005\n",
      "Epoch 74/75\n",
      "90/90 - 13s - loss: 0.4255 - val_loss: 0.5003\n",
      "Epoch 75/75\n",
      "90/90 - 13s - loss: 0.4261 - val_loss: 0.5067\n"
     ]
    }
   ],
   "source": [
    "history_bi_lstm = model_bi_lstm.fit(\n",
    "    x_train, y_train,\n",
    "    validation_data=(x_val, y_val),\n",
    "    batch_size=64,\n",
    "    epochs=75,\n",
    "    verbose=2\n",
    ")"
   ]
  },
  {
   "cell_type": "code",
   "execution_count": 47,
   "metadata": {},
   "outputs": [
    {
     "data": {
      "application/vnd.plotly.v1+json": {
       "config": {
        "plotlyServerURL": "https://plot.ly"
       },
       "data": [
        {
         "hovertemplate": "variable=loss<br>epoch=%{x}<br>MCRMSE=%{y}<extra></extra>",
         "legendgroup": "loss",
         "line": {
          "color": "#636efa",
          "dash": "solid"
         },
         "mode": "lines",
         "name": "loss",
         "orientation": "v",
         "showlegend": true,
         "type": "scatter",
         "x": [
          0,
          1,
          2,
          3,
          4,
          5,
          6,
          7,
          8,
          9,
          10,
          11,
          12,
          13,
          14,
          15,
          16,
          17,
          18,
          19,
          20,
          21,
          22,
          23,
          24,
          25,
          26,
          27,
          28,
          29,
          30,
          31,
          32,
          33,
          34,
          35,
          36,
          37,
          38,
          39,
          40,
          41,
          42,
          43,
          44,
          45,
          46,
          47,
          48,
          49,
          50,
          51,
          52,
          53,
          54,
          55,
          56,
          57,
          58,
          59,
          60,
          61,
          62,
          63,
          64,
          65,
          66,
          67,
          68,
          69,
          70,
          71,
          72,
          73,
          74
         ],
         "xaxis": "x",
         "y": [
          0.6266656133863661,
          0.5627255400021871,
          0.5243103663126628,
          0.5439604745970832,
          0.5393402404255337,
          0.5124810457229614,
          0.501636262734731,
          0.5015423072708978,
          0.4905468781789144,
          0.48669954140981037,
          0.4815567413965861,
          0.4768480016125573,
          0.4696356084611681,
          0.4668262130684323,
          0.46474599838256836,
          0.45890550348493786,
          0.4595838732189602,
          0.4597645315859053,
          0.45646146734555565,
          0.45471597843699985,
          0.45066299769613477,
          0.451195713546541,
          0.45082605944739446,
          0.4481042570537991,
          0.4479792402850257,
          0.44851168990135193,
          0.4462038854757945,
          0.4466272241539425,
          0.4458874682585398,
          0.4442552838060591,
          0.4445486022366418,
          0.44515760739644367,
          0.44397637579176163,
          0.44193966388702394,
          0.4397853818204668,
          0.4429879665374756,
          0.44005760153134665,
          0.441651764843199,
          0.43882553047604034,
          0.4393292897277408,
          0.4406492120689816,
          0.4390898989306556,
          0.43743922180599637,
          0.43783611191643607,
          0.43675840430789525,
          0.4359410232967801,
          0.43542822268274095,
          0.4343433565563626,
          0.43404920564757454,
          0.4334070516957177,
          0.4337677220503489,
          0.4338975105020735,
          0.43342340456114875,
          0.432936903503206,
          0.43313246766726177,
          0.4342412213484446,
          0.43305069274372526,
          0.43153979513380264,
          0.43222377498944603,
          0.4316337691413032,
          0.430990113152398,
          0.4317658245563507,
          0.43143722150060865,
          0.4306318011548784,
          0.4323034445444743,
          0.4304073068830702,
          0.4325011922253503,
          0.43006478879186844,
          0.4301085286670261,
          0.43304632835918,
          0.42885291112793816,
          0.4301377435525258,
          0.4308141569296519,
          0.4309164603551229,
          0.4287923706902398
         ],
         "yaxis": "y"
        },
        {
         "hovertemplate": "variable=val_loss<br>epoch=%{x}<br>MCRMSE=%{y}<extra></extra>",
         "legendgroup": "val_loss",
         "line": {
          "color": "#EF553B",
          "dash": "solid"
         },
         "mode": "lines",
         "name": "val_loss",
         "orientation": "v",
         "showlegend": true,
         "type": "scatter",
         "x": [
          0,
          1,
          2,
          3,
          4,
          5,
          6,
          7,
          8,
          9,
          10,
          11,
          12,
          13,
          14,
          15,
          16,
          17,
          18,
          19,
          20,
          21,
          22,
          23,
          24,
          25,
          26,
          27,
          28,
          29,
          30,
          31,
          32,
          33,
          34,
          35,
          36,
          37,
          38,
          39,
          40,
          41,
          42,
          43,
          44,
          45,
          46,
          47,
          48,
          49,
          50,
          51,
          52,
          53,
          54,
          55,
          56,
          57,
          58,
          59,
          60,
          61,
          62,
          63,
          64,
          65,
          66,
          67,
          68,
          69,
          70,
          71,
          72,
          73,
          74
         ],
         "xaxis": "x",
         "y": [
          0.582249104976654,
          0.5729928612709045,
          0.6040611863136292,
          0.6035202145576477,
          0.5746387839317322,
          0.5555012226104736,
          0.5640354156494141,
          0.5503268241882324,
          0.545588493347168,
          0.5447508692741394,
          0.5453335642814636,
          0.5447688102722168,
          0.5428374409675598,
          0.538635790348053,
          0.5331503748893738,
          0.537073016166687,
          0.5375989079475403,
          0.530060350894928,
          0.5287908315658569,
          0.5256229043006897,
          0.5244587063789368,
          0.5231030583381653,
          0.5201635360717773,
          0.5183496475219727,
          0.5173240303993225,
          0.5158618688583374,
          0.514347493648529,
          0.5143317580223083,
          0.511617124080658,
          0.5110586881637573,
          0.5103181004524231,
          0.5088281631469727,
          0.5086165070533752,
          0.5079882740974426,
          0.5069587230682373,
          0.5051965117454529,
          0.5122670531272888,
          0.5017595291137695,
          0.5009879469871521,
          0.5042800903320312,
          0.5036048293113708,
          0.49752652645111084,
          0.5016583800315857,
          0.5026981830596924,
          0.4967879354953766,
          0.4958520233631134,
          0.49637818336486816,
          0.4945037364959717,
          0.495878130197525,
          0.4948023855686188,
          0.49220010638237,
          0.49424219131469727,
          0.49654582142829895,
          0.49614667892456055,
          0.4935425817966461,
          0.49474677443504333,
          0.4965989887714386,
          0.49168315529823303,
          0.48860159516334534,
          0.49150606989860535,
          0.49290919303894043,
          0.49022674560546875,
          0.4911612272262573,
          0.4936520755290985,
          0.49081340432167053,
          0.4904884099960327,
          0.4944499731063843,
          0.48860272765159607,
          0.4876058101654053,
          0.4907531440258026,
          0.4917011559009552,
          0.4891885817050934,
          0.48957014083862305,
          0.4922628700733185,
          0.49196484684944153
         ],
         "yaxis": "y"
        }
       ],
       "layout": {
        "autosize": true,
        "legend": {
         "title": {
          "text": "variable"
         },
         "tracegroupgap": 0
        },
        "template": {
         "data": {
          "bar": [
           {
            "error_x": {
             "color": "#2a3f5f"
            },
            "error_y": {
             "color": "#2a3f5f"
            },
            "marker": {
             "line": {
              "color": "#E5ECF6",
              "width": 0.5
             }
            },
            "type": "bar"
           }
          ],
          "barpolar": [
           {
            "marker": {
             "line": {
              "color": "#E5ECF6",
              "width": 0.5
             }
            },
            "type": "barpolar"
           }
          ],
          "carpet": [
           {
            "aaxis": {
             "endlinecolor": "#2a3f5f",
             "gridcolor": "white",
             "linecolor": "white",
             "minorgridcolor": "white",
             "startlinecolor": "#2a3f5f"
            },
            "baxis": {
             "endlinecolor": "#2a3f5f",
             "gridcolor": "white",
             "linecolor": "white",
             "minorgridcolor": "white",
             "startlinecolor": "#2a3f5f"
            },
            "type": "carpet"
           }
          ],
          "choropleth": [
           {
            "colorbar": {
             "outlinewidth": 0,
             "ticks": ""
            },
            "type": "choropleth"
           }
          ],
          "contour": [
           {
            "colorbar": {
             "outlinewidth": 0,
             "ticks": ""
            },
            "colorscale": [
             [
              0,
              "#0d0887"
             ],
             [
              0.1111111111111111,
              "#46039f"
             ],
             [
              0.2222222222222222,
              "#7201a8"
             ],
             [
              0.3333333333333333,
              "#9c179e"
             ],
             [
              0.4444444444444444,
              "#bd3786"
             ],
             [
              0.5555555555555556,
              "#d8576b"
             ],
             [
              0.6666666666666666,
              "#ed7953"
             ],
             [
              0.7777777777777778,
              "#fb9f3a"
             ],
             [
              0.8888888888888888,
              "#fdca26"
             ],
             [
              1,
              "#f0f921"
             ]
            ],
            "type": "contour"
           }
          ],
          "contourcarpet": [
           {
            "colorbar": {
             "outlinewidth": 0,
             "ticks": ""
            },
            "type": "contourcarpet"
           }
          ],
          "heatmap": [
           {
            "colorbar": {
             "outlinewidth": 0,
             "ticks": ""
            },
            "colorscale": [
             [
              0,
              "#0d0887"
             ],
             [
              0.1111111111111111,
              "#46039f"
             ],
             [
              0.2222222222222222,
              "#7201a8"
             ],
             [
              0.3333333333333333,
              "#9c179e"
             ],
             [
              0.4444444444444444,
              "#bd3786"
             ],
             [
              0.5555555555555556,
              "#d8576b"
             ],
             [
              0.6666666666666666,
              "#ed7953"
             ],
             [
              0.7777777777777778,
              "#fb9f3a"
             ],
             [
              0.8888888888888888,
              "#fdca26"
             ],
             [
              1,
              "#f0f921"
             ]
            ],
            "type": "heatmap"
           }
          ],
          "heatmapgl": [
           {
            "colorbar": {
             "outlinewidth": 0,
             "ticks": ""
            },
            "colorscale": [
             [
              0,
              "#0d0887"
             ],
             [
              0.1111111111111111,
              "#46039f"
             ],
             [
              0.2222222222222222,
              "#7201a8"
             ],
             [
              0.3333333333333333,
              "#9c179e"
             ],
             [
              0.4444444444444444,
              "#bd3786"
             ],
             [
              0.5555555555555556,
              "#d8576b"
             ],
             [
              0.6666666666666666,
              "#ed7953"
             ],
             [
              0.7777777777777778,
              "#fb9f3a"
             ],
             [
              0.8888888888888888,
              "#fdca26"
             ],
             [
              1,
              "#f0f921"
             ]
            ],
            "type": "heatmapgl"
           }
          ],
          "histogram": [
           {
            "marker": {
             "colorbar": {
              "outlinewidth": 0,
              "ticks": ""
             }
            },
            "type": "histogram"
           }
          ],
          "histogram2d": [
           {
            "colorbar": {
             "outlinewidth": 0,
             "ticks": ""
            },
            "colorscale": [
             [
              0,
              "#0d0887"
             ],
             [
              0.1111111111111111,
              "#46039f"
             ],
             [
              0.2222222222222222,
              "#7201a8"
             ],
             [
              0.3333333333333333,
              "#9c179e"
             ],
             [
              0.4444444444444444,
              "#bd3786"
             ],
             [
              0.5555555555555556,
              "#d8576b"
             ],
             [
              0.6666666666666666,
              "#ed7953"
             ],
             [
              0.7777777777777778,
              "#fb9f3a"
             ],
             [
              0.8888888888888888,
              "#fdca26"
             ],
             [
              1,
              "#f0f921"
             ]
            ],
            "type": "histogram2d"
           }
          ],
          "histogram2dcontour": [
           {
            "colorbar": {
             "outlinewidth": 0,
             "ticks": ""
            },
            "colorscale": [
             [
              0,
              "#0d0887"
             ],
             [
              0.1111111111111111,
              "#46039f"
             ],
             [
              0.2222222222222222,
              "#7201a8"
             ],
             [
              0.3333333333333333,
              "#9c179e"
             ],
             [
              0.4444444444444444,
              "#bd3786"
             ],
             [
              0.5555555555555556,
              "#d8576b"
             ],
             [
              0.6666666666666666,
              "#ed7953"
             ],
             [
              0.7777777777777778,
              "#fb9f3a"
             ],
             [
              0.8888888888888888,
              "#fdca26"
             ],
             [
              1,
              "#f0f921"
             ]
            ],
            "type": "histogram2dcontour"
           }
          ],
          "mesh3d": [
           {
            "colorbar": {
             "outlinewidth": 0,
             "ticks": ""
            },
            "type": "mesh3d"
           }
          ],
          "parcoords": [
           {
            "line": {
             "colorbar": {
              "outlinewidth": 0,
              "ticks": ""
             }
            },
            "type": "parcoords"
           }
          ],
          "pie": [
           {
            "automargin": true,
            "type": "pie"
           }
          ],
          "scatter": [
           {
            "marker": {
             "colorbar": {
              "outlinewidth": 0,
              "ticks": ""
             }
            },
            "type": "scatter"
           }
          ],
          "scatter3d": [
           {
            "line": {
             "colorbar": {
              "outlinewidth": 0,
              "ticks": ""
             }
            },
            "marker": {
             "colorbar": {
              "outlinewidth": 0,
              "ticks": ""
             }
            },
            "type": "scatter3d"
           }
          ],
          "scattercarpet": [
           {
            "marker": {
             "colorbar": {
              "outlinewidth": 0,
              "ticks": ""
             }
            },
            "type": "scattercarpet"
           }
          ],
          "scattergeo": [
           {
            "marker": {
             "colorbar": {
              "outlinewidth": 0,
              "ticks": ""
             }
            },
            "type": "scattergeo"
           }
          ],
          "scattergl": [
           {
            "marker": {
             "colorbar": {
              "outlinewidth": 0,
              "ticks": ""
             }
            },
            "type": "scattergl"
           }
          ],
          "scattermapbox": [
           {
            "marker": {
             "colorbar": {
              "outlinewidth": 0,
              "ticks": ""
             }
            },
            "type": "scattermapbox"
           }
          ],
          "scatterpolar": [
           {
            "marker": {
             "colorbar": {
              "outlinewidth": 0,
              "ticks": ""
             }
            },
            "type": "scatterpolar"
           }
          ],
          "scatterpolargl": [
           {
            "marker": {
             "colorbar": {
              "outlinewidth": 0,
              "ticks": ""
             }
            },
            "type": "scatterpolargl"
           }
          ],
          "scatterternary": [
           {
            "marker": {
             "colorbar": {
              "outlinewidth": 0,
              "ticks": ""
             }
            },
            "type": "scatterternary"
           }
          ],
          "surface": [
           {
            "colorbar": {
             "outlinewidth": 0,
             "ticks": ""
            },
            "colorscale": [
             [
              0,
              "#0d0887"
             ],
             [
              0.1111111111111111,
              "#46039f"
             ],
             [
              0.2222222222222222,
              "#7201a8"
             ],
             [
              0.3333333333333333,
              "#9c179e"
             ],
             [
              0.4444444444444444,
              "#bd3786"
             ],
             [
              0.5555555555555556,
              "#d8576b"
             ],
             [
              0.6666666666666666,
              "#ed7953"
             ],
             [
              0.7777777777777778,
              "#fb9f3a"
             ],
             [
              0.8888888888888888,
              "#fdca26"
             ],
             [
              1,
              "#f0f921"
             ]
            ],
            "type": "surface"
           }
          ],
          "table": [
           {
            "cells": {
             "fill": {
              "color": "#EBF0F8"
             },
             "line": {
              "color": "white"
             }
            },
            "header": {
             "fill": {
              "color": "#C8D4E3"
             },
             "line": {
              "color": "white"
             }
            },
            "type": "table"
           }
          ]
         },
         "layout": {
          "annotationdefaults": {
           "arrowcolor": "#2a3f5f",
           "arrowhead": 0,
           "arrowwidth": 1
          },
          "coloraxis": {
           "colorbar": {
            "outlinewidth": 0,
            "ticks": ""
           }
          },
          "colorscale": {
           "diverging": [
            [
             0,
             "#8e0152"
            ],
            [
             0.1,
             "#c51b7d"
            ],
            [
             0.2,
             "#de77ae"
            ],
            [
             0.3,
             "#f1b6da"
            ],
            [
             0.4,
             "#fde0ef"
            ],
            [
             0.5,
             "#f7f7f7"
            ],
            [
             0.6,
             "#e6f5d0"
            ],
            [
             0.7,
             "#b8e186"
            ],
            [
             0.8,
             "#7fbc41"
            ],
            [
             0.9,
             "#4d9221"
            ],
            [
             1,
             "#276419"
            ]
           ],
           "sequential": [
            [
             0,
             "#0d0887"
            ],
            [
             0.1111111111111111,
             "#46039f"
            ],
            [
             0.2222222222222222,
             "#7201a8"
            ],
            [
             0.3333333333333333,
             "#9c179e"
            ],
            [
             0.4444444444444444,
             "#bd3786"
            ],
            [
             0.5555555555555556,
             "#d8576b"
            ],
            [
             0.6666666666666666,
             "#ed7953"
            ],
            [
             0.7777777777777778,
             "#fb9f3a"
            ],
            [
             0.8888888888888888,
             "#fdca26"
            ],
            [
             1,
             "#f0f921"
            ]
           ],
           "sequentialminus": [
            [
             0,
             "#0d0887"
            ],
            [
             0.1111111111111111,
             "#46039f"
            ],
            [
             0.2222222222222222,
             "#7201a8"
            ],
            [
             0.3333333333333333,
             "#9c179e"
            ],
            [
             0.4444444444444444,
             "#bd3786"
            ],
            [
             0.5555555555555556,
             "#d8576b"
            ],
            [
             0.6666666666666666,
             "#ed7953"
            ],
            [
             0.7777777777777778,
             "#fb9f3a"
            ],
            [
             0.8888888888888888,
             "#fdca26"
            ],
            [
             1,
             "#f0f921"
            ]
           ]
          },
          "colorway": [
           "#636efa",
           "#EF553B",
           "#00cc96",
           "#ab63fa",
           "#FFA15A",
           "#19d3f3",
           "#FF6692",
           "#B6E880",
           "#FF97FF",
           "#FECB52"
          ],
          "font": {
           "color": "#2a3f5f"
          },
          "geo": {
           "bgcolor": "white",
           "lakecolor": "white",
           "landcolor": "#E5ECF6",
           "showlakes": true,
           "showland": true,
           "subunitcolor": "white"
          },
          "hoverlabel": {
           "align": "left"
          },
          "hovermode": "closest",
          "mapbox": {
           "style": "light"
          },
          "paper_bgcolor": "white",
          "plot_bgcolor": "#E5ECF6",
          "polar": {
           "angularaxis": {
            "gridcolor": "white",
            "linecolor": "white",
            "ticks": ""
           },
           "bgcolor": "#E5ECF6",
           "radialaxis": {
            "gridcolor": "white",
            "linecolor": "white",
            "ticks": ""
           }
          },
          "scene": {
           "xaxis": {
            "backgroundcolor": "#E5ECF6",
            "gridcolor": "white",
            "gridwidth": 2,
            "linecolor": "white",
            "showbackground": true,
            "ticks": "",
            "zerolinecolor": "white"
           },
           "yaxis": {
            "backgroundcolor": "#E5ECF6",
            "gridcolor": "white",
            "gridwidth": 2,
            "linecolor": "white",
            "showbackground": true,
            "ticks": "",
            "zerolinecolor": "white"
           },
           "zaxis": {
            "backgroundcolor": "#E5ECF6",
            "gridcolor": "white",
            "gridwidth": 2,
            "linecolor": "white",
            "showbackground": true,
            "ticks": "",
            "zerolinecolor": "white"
           }
          },
          "shapedefaults": {
           "line": {
            "color": "#2a3f5f"
           }
          },
          "ternary": {
           "aaxis": {
            "gridcolor": "white",
            "linecolor": "white",
            "ticks": ""
           },
           "baxis": {
            "gridcolor": "white",
            "linecolor": "white",
            "ticks": ""
           },
           "bgcolor": "#E5ECF6",
           "caxis": {
            "gridcolor": "white",
            "linecolor": "white",
            "ticks": ""
           }
          },
          "title": {
           "x": 0.05
          },
          "xaxis": {
           "automargin": true,
           "gridcolor": "white",
           "linecolor": "white",
           "ticks": "",
           "title": {
            "standoff": 15
           },
           "zerolinecolor": "white",
           "zerolinewidth": 2
          },
          "yaxis": {
           "automargin": true,
           "gridcolor": "white",
           "linecolor": "white",
           "ticks": "",
           "title": {
            "standoff": 15
           },
           "zerolinecolor": "white",
           "zerolinewidth": 2
          }
         }
        },
        "title": {
         "text": "GRU Training History"
        },
        "xaxis": {
         "anchor": "y",
         "autorange": true,
         "domain": [
          0,
          1
         ],
         "range": [
          0,
          74
         ],
         "title": {
          "text": "epoch"
         },
         "type": "linear"
        },
        "yaxis": {
         "anchor": "x",
         "autorange": true,
         "domain": [
          0,
          1
         ],
         "range": [
          0.41779941276267724,
          0.6376585713139287
         ],
         "title": {
          "text": "MCRMSE"
         },
         "type": "linear"
        }
       }
      },
      "image/png": "[encoded data removed]",
      "text/html": [
       "<div>                            <div id=\"81c14530-6b60-423d-a3db-82b3ca80daba\" class=\"plotly-graph-div\" style=\"height:525px; width:100%;\"></div>            <script type=\"text/javascript\">                require([\"plotly\"], function(Plotly) {                    window.PLOTLYENV=window.PLOTLYENV || {};                                    if (document.getElementById(\"81c14530-6b60-423d-a3db-82b3ca80daba\")) {                    Plotly.newPlot(                        \"81c14530-6b60-423d-a3db-82b3ca80daba\",                        [{\"hovertemplate\": \"variable=loss<br>epoch=%{x}<br>MCRMSE=%{y}<extra></extra>\", \"legendgroup\": \"loss\", \"line\": {\"color\": \"#636efa\", \"dash\": \"solid\"}, \"mode\": \"lines\", \"name\": \"loss\", \"orientation\": \"v\", \"showlegend\": true, \"type\": \"scatter\", \"x\": [0, 1, 2, 3, 4, 5, 6, 7, 8, 9, 10, 11, 12, 13, 14, 15, 16, 17, 18, 19, 20, 21, 22, 23, 24, 25, 26, 27, 28, 29, 30, 31, 32, 33, 34, 35, 36, 37, 38, 39, 40, 41, 42, 43, 44, 45, 46, 47, 48, 49, 50, 51, 52, 53, 54, 55, 56, 57, 58, 59, 60, 61, 62, 63, 64, 65, 66, 67, 68, 69, 70, 71, 72, 73, 74], \"xaxis\": \"x\", \"y\": [0.6266656133863661, 0.5627255400021871, 0.5243103663126628, 0.5439604745970832, 0.5393402404255337, 0.5124810457229614, 0.501636262734731, 0.5015423072708978, 0.4905468781789144, 0.48669954140981037, 0.4815567413965861, 0.4768480016125573, 0.4696356084611681, 0.4668262130684323, 0.46474599838256836, 0.45890550348493786, 0.4595838732189602, 0.4597645315859053, 0.45646146734555565, 0.45471597843699985, 0.45066299769613477, 0.451195713546541, 0.45082605944739446, 0.4481042570537991, 0.4479792402850257, 0.44851168990135193, 0.4462038854757945, 0.4466272241539425, 0.4458874682585398, 0.4442552838060591, 0.4445486022366418, 0.44515760739644367, 0.44397637579176163, 0.44193966388702394, 0.4397853818204668, 0.4429879665374756, 0.44005760153134665, 0.441651764843199, 0.43882553047604034, 0.4393292897277408, 0.4406492120689816, 0.4390898989306556, 0.43743922180599637, 0.43783611191643607, 0.43675840430789525, 0.4359410232967801, 0.43542822268274095, 0.4343433565563626, 0.43404920564757454, 0.4334070516957177, 0.4337677220503489, 0.4338975105020735, 0.43342340456114875, 0.432936903503206, 0.43313246766726177, 0.4342412213484446, 0.43305069274372526, 0.43153979513380264, 0.43222377498944603, 0.4316337691413032, 0.430990113152398, 0.4317658245563507, 0.43143722150060865, 0.4306318011548784, 0.4323034445444743, 0.4304073068830702, 0.4325011922253503, 0.43006478879186844, 0.4301085286670261, 0.43304632835918, 0.42885291112793816, 0.4301377435525258, 0.4308141569296519, 0.4309164603551229, 0.4287923706902398], \"yaxis\": \"y\"}, {\"hovertemplate\": \"variable=val_loss<br>epoch=%{x}<br>MCRMSE=%{y}<extra></extra>\", \"legendgroup\": \"val_loss\", \"line\": {\"color\": \"#EF553B\", \"dash\": \"solid\"}, \"mode\": \"lines\", \"name\": \"val_loss\", \"orientation\": \"v\", \"showlegend\": true, \"type\": \"scatter\", \"x\": [0, 1, 2, 3, 4, 5, 6, 7, 8, 9, 10, 11, 12, 13, 14, 15, 16, 17, 18, 19, 20, 21, 22, 23, 24, 25, 26, 27, 28, 29, 30, 31, 32, 33, 34, 35, 36, 37, 38, 39, 40, 41, 42, 43, 44, 45, 46, 47, 48, 49, 50, 51, 52, 53, 54, 55, 56, 57, 58, 59, 60, 61, 62, 63, 64, 65, 66, 67, 68, 69, 70, 71, 72, 73, 74], \"xaxis\": \"x\", \"y\": [0.582249104976654, 0.5729928612709045, 0.6040611863136292, 0.6035202145576477, 0.5746387839317322, 0.5555012226104736, 0.5640354156494141, 0.5503268241882324, 0.545588493347168, 0.5447508692741394, 0.5453335642814636, 0.5447688102722168, 0.5428374409675598, 0.538635790348053, 0.5331503748893738, 0.537073016166687, 0.5375989079475403, 0.530060350894928, 0.5287908315658569, 0.5256229043006897, 0.5244587063789368, 0.5231030583381653, 0.5201635360717773, 0.5183496475219727, 0.5173240303993225, 0.5158618688583374, 0.514347493648529, 0.5143317580223083, 0.511617124080658, 0.5110586881637573, 0.5103181004524231, 0.5088281631469727, 0.5086165070533752, 0.5079882740974426, 0.5069587230682373, 0.5051965117454529, 0.5122670531272888, 0.5017595291137695, 0.5009879469871521, 0.5042800903320312, 0.5036048293113708, 0.49752652645111084, 0.5016583800315857, 0.5026981830596924, 0.4967879354953766, 0.4958520233631134, 0.49637818336486816, 0.4945037364959717, 0.495878130197525, 0.4948023855686188, 0.49220010638237, 0.49424219131469727, 0.49654582142829895, 0.49614667892456055, 0.4935425817966461, 0.49474677443504333, 0.4965989887714386, 0.49168315529823303, 0.48860159516334534, 0.49150606989860535, 0.49290919303894043, 0.49022674560546875, 0.4911612272262573, 0.4936520755290985, 0.49081340432167053, 0.4904884099960327, 0.4944499731063843, 0.48860272765159607, 0.4876058101654053, 0.4907531440258026, 0.4917011559009552, 0.4891885817050934, 0.48957014083862305, 0.4922628700733185, 0.49196484684944153], \"yaxis\": \"y\"}],                        {\"legend\": {\"title\": {\"text\": \"variable\"}, \"tracegroupgap\": 0}, \"template\": {\"data\": {\"bar\": [{\"error_x\": {\"color\": \"#2a3f5f\"}, \"error_y\": {\"color\": \"#2a3f5f\"}, \"marker\": {\"line\": {\"color\": \"#E5ECF6\", \"width\": 0.5}}, \"type\": \"bar\"}], \"barpolar\": [{\"marker\": {\"line\": {\"color\": \"#E5ECF6\", \"width\": 0.5}}, \"type\": \"barpolar\"}], \"carpet\": [{\"aaxis\": {\"endlinecolor\": \"#2a3f5f\", \"gridcolor\": \"white\", \"linecolor\": \"white\", \"minorgridcolor\": \"white\", \"startlinecolor\": \"#2a3f5f\"}, \"baxis\": {\"endlinecolor\": \"#2a3f5f\", \"gridcolor\": \"white\", \"linecolor\": \"white\", \"minorgridcolor\": \"white\", \"startlinecolor\": \"#2a3f5f\"}, \"type\": \"carpet\"}], \"choropleth\": [{\"colorbar\": {\"outlinewidth\": 0, \"ticks\": \"\"}, \"type\": \"choropleth\"}], \"contour\": [{\"colorbar\": {\"outlinewidth\": 0, \"ticks\": \"\"}, \"colorscale\": [[0.0, \"#0d0887\"], [0.1111111111111111, \"#46039f\"], [0.2222222222222222, \"#7201a8\"], [0.3333333333333333, \"#9c179e\"], [0.4444444444444444, \"#bd3786\"], [0.5555555555555556, \"#d8576b\"], [0.6666666666666666, \"#ed7953\"], [0.7777777777777778, \"#fb9f3a\"], [0.8888888888888888, \"#fdca26\"], [1.0, \"#f0f921\"]], \"type\": \"contour\"}], \"contourcarpet\": [{\"colorbar\": {\"outlinewidth\": 0, \"ticks\": \"\"}, \"type\": \"contourcarpet\"}], \"heatmap\": [{\"colorbar\": {\"outlinewidth\": 0, \"ticks\": \"\"}, \"colorscale\": [[0.0, \"#0d0887\"], [0.1111111111111111, \"#46039f\"], [0.2222222222222222, \"#7201a8\"], [0.3333333333333333, \"#9c179e\"], [0.4444444444444444, \"#bd3786\"], [0.5555555555555556, \"#d8576b\"], [0.6666666666666666, \"#ed7953\"], [0.7777777777777778, \"#fb9f3a\"], [0.8888888888888888, \"#fdca26\"], [1.0, \"#f0f921\"]], \"type\": \"heatmap\"}], \"heatmapgl\": [{\"colorbar\": {\"outlinewidth\": 0, \"ticks\": \"\"}, \"colorscale\": [[0.0, \"#0d0887\"], [0.1111111111111111, \"#46039f\"], [0.2222222222222222, \"#7201a8\"], [0.3333333333333333, \"#9c179e\"], [0.4444444444444444, \"#bd3786\"], [0.5555555555555556, \"#d8576b\"], [0.6666666666666666, \"#ed7953\"], [0.7777777777777778, \"#fb9f3a\"], [0.8888888888888888, \"#fdca26\"], [1.0, \"#f0f921\"]], \"type\": \"heatmapgl\"}], \"histogram\": [{\"marker\": {\"colorbar\": {\"outlinewidth\": 0, \"ticks\": \"\"}}, \"type\": \"histogram\"}], \"histogram2d\": [{\"colorbar\": {\"outlinewidth\": 0, \"ticks\": \"\"}, \"colorscale\": [[0.0, \"#0d0887\"], [0.1111111111111111, \"#46039f\"], [0.2222222222222222, \"#7201a8\"], [0.3333333333333333, \"#9c179e\"], [0.4444444444444444, \"#bd3786\"], [0.5555555555555556, \"#d8576b\"], [0.6666666666666666, \"#ed7953\"], [0.7777777777777778, \"#fb9f3a\"], [0.8888888888888888, \"#fdca26\"], [1.0, \"#f0f921\"]], \"type\": \"histogram2d\"}], \"histogram2dcontour\": [{\"colorbar\": {\"outlinewidth\": 0, \"ticks\": \"\"}, \"colorscale\": [[0.0, \"#0d0887\"], [0.1111111111111111, \"#46039f\"], [0.2222222222222222, \"#7201a8\"], [0.3333333333333333, \"#9c179e\"], [0.4444444444444444, \"#bd3786\"], [0.5555555555555556, \"#d8576b\"], [0.6666666666666666, \"#ed7953\"], [0.7777777777777778, \"#fb9f3a\"], [0.8888888888888888, \"#fdca26\"], [1.0, \"#f0f921\"]], \"type\": \"histogram2dcontour\"}], \"mesh3d\": [{\"colorbar\": {\"outlinewidth\": 0, \"ticks\": \"\"}, \"type\": \"mesh3d\"}], \"parcoords\": [{\"line\": {\"colorbar\": {\"outlinewidth\": 0, \"ticks\": \"\"}}, \"type\": \"parcoords\"}], \"pie\": [{\"automargin\": true, \"type\": \"pie\"}], \"scatter\": [{\"marker\": {\"colorbar\": {\"outlinewidth\": 0, \"ticks\": \"\"}}, \"type\": \"scatter\"}], \"scatter3d\": [{\"line\": {\"colorbar\": {\"outlinewidth\": 0, \"ticks\": \"\"}}, \"marker\": {\"colorbar\": {\"outlinewidth\": 0, \"ticks\": \"\"}}, \"type\": \"scatter3d\"}], \"scattercarpet\": [{\"marker\": {\"colorbar\": {\"outlinewidth\": 0, \"ticks\": \"\"}}, \"type\": \"scattercarpet\"}], \"scattergeo\": [{\"marker\": {\"colorbar\": {\"outlinewidth\": 0, \"ticks\": \"\"}}, \"type\": \"scattergeo\"}], \"scattergl\": [{\"marker\": {\"colorbar\": {\"outlinewidth\": 0, \"ticks\": \"\"}}, \"type\": \"scattergl\"}], \"scattermapbox\": [{\"marker\": {\"colorbar\": {\"outlinewidth\": 0, \"ticks\": \"\"}}, \"type\": \"scattermapbox\"}], \"scatterpolar\": [{\"marker\": {\"colorbar\": {\"outlinewidth\": 0, \"ticks\": \"\"}}, \"type\": \"scatterpolar\"}], \"scatterpolargl\": [{\"marker\": {\"colorbar\": {\"outlinewidth\": 0, \"ticks\": \"\"}}, \"type\": \"scatterpolargl\"}], \"scatterternary\": [{\"marker\": {\"colorbar\": {\"outlinewidth\": 0, \"ticks\": \"\"}}, \"type\": \"scatterternary\"}], \"surface\": [{\"colorbar\": {\"outlinewidth\": 0, \"ticks\": \"\"}, \"colorscale\": [[0.0, \"#0d0887\"], [0.1111111111111111, \"#46039f\"], [0.2222222222222222, \"#7201a8\"], [0.3333333333333333, \"#9c179e\"], [0.4444444444444444, \"#bd3786\"], [0.5555555555555556, \"#d8576b\"], [0.6666666666666666, \"#ed7953\"], [0.7777777777777778, \"#fb9f3a\"], [0.8888888888888888, \"#fdca26\"], [1.0, \"#f0f921\"]], \"type\": \"surface\"}], \"table\": [{\"cells\": {\"fill\": {\"color\": \"#EBF0F8\"}, \"line\": {\"color\": \"white\"}}, \"header\": {\"fill\": {\"color\": \"#C8D4E3\"}, \"line\": {\"color\": \"white\"}}, \"type\": \"table\"}]}, \"layout\": {\"annotationdefaults\": {\"arrowcolor\": \"#2a3f5f\", \"arrowhead\": 0, \"arrowwidth\": 1}, \"coloraxis\": {\"colorbar\": {\"outlinewidth\": 0, \"ticks\": \"\"}}, \"colorscale\": {\"diverging\": [[0, \"#8e0152\"], [0.1, \"#c51b7d\"], [0.2, \"#de77ae\"], [0.3, \"#f1b6da\"], [0.4, \"#fde0ef\"], [0.5, \"#f7f7f7\"], [0.6, \"#e6f5d0\"], [0.7, \"#b8e186\"], [0.8, \"#7fbc41\"], [0.9, \"#4d9221\"], [1, \"#276419\"]], \"sequential\": [[0.0, \"#0d0887\"], [0.1111111111111111, \"#46039f\"], [0.2222222222222222, \"#7201a8\"], [0.3333333333333333, \"#9c179e\"], [0.4444444444444444, \"#bd3786\"], [0.5555555555555556, \"#d8576b\"], [0.6666666666666666, \"#ed7953\"], [0.7777777777777778, \"#fb9f3a\"], [0.8888888888888888, \"#fdca26\"], [1.0, \"#f0f921\"]], \"sequentialminus\": [[0.0, \"#0d0887\"], [0.1111111111111111, \"#46039f\"], [0.2222222222222222, \"#7201a8\"], [0.3333333333333333, \"#9c179e\"], [0.4444444444444444, \"#bd3786\"], [0.5555555555555556, \"#d8576b\"], [0.6666666666666666, \"#ed7953\"], [0.7777777777777778, \"#fb9f3a\"], [0.8888888888888888, \"#fdca26\"], [1.0, \"#f0f921\"]]}, \"colorway\": [\"#636efa\", \"#EF553B\", \"#00cc96\", \"#ab63fa\", \"#FFA15A\", \"#19d3f3\", \"#FF6692\", \"#B6E880\", \"#FF97FF\", \"#FECB52\"], \"font\": {\"color\": \"#2a3f5f\"}, \"geo\": {\"bgcolor\": \"white\", \"lakecolor\": \"white\", \"landcolor\": \"#E5ECF6\", \"showlakes\": true, \"showland\": true, \"subunitcolor\": \"white\"}, \"hoverlabel\": {\"align\": \"left\"}, \"hovermode\": \"closest\", \"mapbox\": {\"style\": \"light\"}, \"paper_bgcolor\": \"white\", \"plot_bgcolor\": \"#E5ECF6\", \"polar\": {\"angularaxis\": {\"gridcolor\": \"white\", \"linecolor\": \"white\", \"ticks\": \"\"}, \"bgcolor\": \"#E5ECF6\", \"radialaxis\": {\"gridcolor\": \"white\", \"linecolor\": \"white\", \"ticks\": \"\"}}, \"scene\": {\"xaxis\": {\"backgroundcolor\": \"#E5ECF6\", \"gridcolor\": \"white\", \"gridwidth\": 2, \"linecolor\": \"white\", \"showbackground\": true, \"ticks\": \"\", \"zerolinecolor\": \"white\"}, \"yaxis\": {\"backgroundcolor\": \"#E5ECF6\", \"gridcolor\": \"white\", \"gridwidth\": 2, \"linecolor\": \"white\", \"showbackground\": true, \"ticks\": \"\", \"zerolinecolor\": \"white\"}, \"zaxis\": {\"backgroundcolor\": \"#E5ECF6\", \"gridcolor\": \"white\", \"gridwidth\": 2, \"linecolor\": \"white\", \"showbackground\": true, \"ticks\": \"\", \"zerolinecolor\": \"white\"}}, \"shapedefaults\": {\"line\": {\"color\": \"#2a3f5f\"}}, \"ternary\": {\"aaxis\": {\"gridcolor\": \"white\", \"linecolor\": \"white\", \"ticks\": \"\"}, \"baxis\": {\"gridcolor\": \"white\", \"linecolor\": \"white\", \"ticks\": \"\"}, \"bgcolor\": \"#E5ECF6\", \"caxis\": {\"gridcolor\": \"white\", \"linecolor\": \"white\", \"ticks\": \"\"}}, \"title\": {\"x\": 0.05}, \"xaxis\": {\"automargin\": true, \"gridcolor\": \"white\", \"linecolor\": \"white\", \"ticks\": \"\", \"title\": {\"standoff\": 15}, \"zerolinecolor\": \"white\", \"zerolinewidth\": 2}, \"yaxis\": {\"automargin\": true, \"gridcolor\": \"white\", \"linecolor\": \"white\", \"ticks\": \"\", \"title\": {\"standoff\": 15}, \"zerolinecolor\": \"white\", \"zerolinewidth\": 2}}}, \"title\": {\"text\": \"GRU Training History\"}, \"xaxis\": {\"anchor\": \"y\", \"domain\": [0.0, 1.0], \"title\": {\"text\": \"epoch\"}}, \"yaxis\": {\"anchor\": \"x\", \"domain\": [0.0, 1.0], \"title\": {\"text\": \"MCRMSE\"}}},                        {\"responsive\": true}                    ).then(function(){\n",
       "                            \n",
       "var gd = document.getElementById('81c14530-6b60-423d-a3db-82b3ca80daba');\n",
       "var x = new MutationObserver(function (mutations, observer) {{\n",
       "        var display = window.getComputedStyle(gd).display;\n",
       "        if (!display || display === 'none') {{\n",
       "            console.log([gd, 'removed!']);\n",
       "            Plotly.purge(gd);\n",
       "            observer.disconnect();\n",
       "        }}\n",
       "}});\n",
       "\n",
       "// Listen for the removal of the full notebook cells\n",
       "var notebookContainer = gd.closest('#notebook-container');\n",
       "if (notebookContainer) {{\n",
       "    x.observe(notebookContainer, {childList: true});\n",
       "}}\n",
       "\n",
       "// Listen for the clearing of the current output cell\n",
       "var outputEl = gd.closest('.output');\n",
       "if (outputEl) {{\n",
       "    x.observe(outputEl, {childList: true});\n",
       "}}\n",
       "\n",
       "                        })                };                });            </script>        </div>"
      ]
     },
     "metadata": {},
     "output_type": "display_data"
    }
   ],
   "source": [
    "import plotly.express as px\n",
    "\n",
    "fig_gru = px.line(\n",
    "    history_gru.history, \n",
    "    y=['loss', 'val_loss'],\n",
    "    labels={'index': 'epoch', 'value': 'MCRMSE'}, \n",
    "    title='GRU Training History'\n",
    ")\n",
    "fig_gru.show()\n"
   ]
  },
  {
   "cell_type": "code",
   "execution_count": 51,
   "metadata": {},
   "outputs": [
    {
     "data": {
      "application/vnd.plotly.v1+json": {
       "config": {
        "plotlyServerURL": "https://plot.ly"
       },
       "data": [
        {
         "hovertemplate": "variable=loss<br>epoch=%{x}<br>MCRMSE=%{y}<extra></extra>",
         "legendgroup": "loss",
         "line": {
          "color": "#636efa",
          "dash": "solid"
         },
         "mode": "lines",
         "name": "loss",
         "orientation": "v",
         "showlegend": true,
         "type": "scatter",
         "x": [
          0,
          1,
          2,
          3,
          4,
          5,
          6,
          7,
          8,
          9,
          10,
          11,
          12,
          13,
          14,
          15,
          16,
          17,
          18,
          19,
          20,
          21,
          22,
          23,
          24,
          25,
          26,
          27,
          28,
          29,
          30,
          31,
          32,
          33,
          34,
          35,
          36,
          37,
          38,
          39,
          40,
          41,
          42,
          43,
          44,
          45,
          46,
          47,
          48,
          49,
          50,
          51,
          52,
          53,
          54,
          55,
          56,
          57,
          58,
          59,
          60,
          61,
          62,
          63,
          64,
          65,
          66,
          67,
          68,
          69,
          70,
          71,
          72,
          73,
          74
         ],
         "xaxis": "x",
         "y": [
          0.6066738989618089,
          0.5440557956695556,
          0.5259788784715864,
          0.4818056384722392,
          0.4791036387284597,
          0.4787054869863722,
          0.4740974830256568,
          0.462860518693924,
          0.46286661823590597,
          0.4570749527878232,
          0.4563325266043345,
          0.45353209243880377,
          0.455216869380739,
          0.44915750821431477,
          0.4504475275675456,
          0.44847555425431995,
          0.4508906523386637,
          0.44565220872561134,
          0.44753816591368784,
          0.44547372857729595,
          0.44291203485594854,
          0.44744529260529414,
          0.44371910426351757,
          0.4437608473830753,
          0.4444446192847358,
          0.44374194741249084,
          0.4439296450879839,
          0.443955299589369,
          0.44325016339619955,
          0.44196457862854005,
          0.44124033649762473,
          0.4396496401892768,
          0.43961692055066426,
          0.4393499301539527,
          0.4382084442509545,
          0.4385636329650879,
          0.4389142996735043,
          0.4376338647471534,
          0.43809273574087354,
          0.435817336373859,
          0.4347989426718818,
          0.43566897445254854,
          0.43643816378381517,
          0.43259830011261835,
          0.4343112256791857,
          0.43101857437027824,
          0.4330262025197347,
          0.43541676733228896,
          0.430233844783571,
          0.4307088322109646,
          0.43043761849403384,
          0.43061067859331764,
          0.42939043508635627,
          0.42751348747147455,
          0.43083943525950114,
          0.426865773068534,
          0.4278016785780589,
          0.42729406158129374,
          0.42756092349688213,
          0.4266237715880076,
          0.4277253680759006,
          0.42804512977600095,
          0.4259904252158271,
          0.42764347460534835,
          0.42735472785101997,
          0.4285486784246233,
          0.42683685620625816,
          0.4285177237457699,
          0.4288041909535726,
          0.42841048704253304,
          0.42741982142130536,
          0.42627254923184715,
          0.4245654821395874,
          0.4253358436955346,
          0.42379727098676895
         ],
         "yaxis": "y"
        },
        {
         "hovertemplate": "variable=val_loss<br>epoch=%{x}<br>MCRMSE=%{y}<extra></extra>",
         "legendgroup": "val_loss",
         "line": {
          "color": "#EF553B",
          "dash": "solid"
         },
         "mode": "lines",
         "name": "val_loss",
         "orientation": "v",
         "showlegend": true,
         "type": "scatter",
         "x": [
          0,
          1,
          2,
          3,
          4,
          5,
          6,
          7,
          8,
          9,
          10,
          11,
          12,
          13,
          14,
          15,
          16,
          17,
          18,
          19,
          20,
          21,
          22,
          23,
          24,
          25,
          26,
          27,
          28,
          29,
          30,
          31,
          32,
          33,
          34,
          35,
          36,
          37,
          38,
          39,
          40,
          41,
          42,
          43,
          44,
          45,
          46,
          47,
          48,
          49,
          50,
          51,
          52,
          53,
          54,
          55,
          56,
          57,
          58,
          59,
          60,
          61,
          62,
          63,
          64,
          65,
          66,
          67,
          68,
          69,
          70,
          71,
          72,
          73,
          74
         ],
         "xaxis": "x",
         "y": [
          0.6087438464164734,
          0.5963343381881714,
          0.5425629019737244,
          0.5570929646492004,
          0.5435051321983337,
          0.544970691204071,
          0.5458486676216125,
          0.5535253286361694,
          0.5346648097038269,
          0.5344641208648682,
          0.5350220799446106,
          0.5436551570892334,
          0.5317471623420715,
          0.5305778980255127,
          0.5257402062416077,
          0.5236615538597107,
          0.522774875164032,
          0.52616947889328,
          0.518502950668335,
          0.5156999230384827,
          0.5270388126373291,
          0.523826003074646,
          0.5148630738258362,
          0.5201342701911926,
          0.5173977017402649,
          0.5112629532814026,
          0.5160267949104309,
          0.5233557820320129,
          0.5195080637931824,
          0.5153576731681824,
          0.5113081336021423,
          0.5110867619514465,
          0.5137778520584106,
          0.5106818675994873,
          0.5192471146583557,
          0.5168901085853577,
          0.5041132569313049,
          0.5036337971687317,
          0.503477156162262,
          0.5075721740722656,
          0.5183067917823792,
          0.5086671710014343,
          0.4938894808292389,
          0.5082899332046509,
          0.4990478456020355,
          0.4965156614780426,
          0.5238173007965088,
          0.4947028160095215,
          0.4956575334072113,
          0.49797043204307556,
          0.49441638588905334,
          0.49526241421699524,
          0.4947986304759979,
          0.500359833240509,
          0.4930921792984009,
          0.49206748604774475,
          0.49249687790870667,
          0.5029818415641785,
          0.49884042143821716,
          0.4901656210422516,
          0.49009206891059875,
          0.4911152422428131,
          0.49769067764282227,
          0.4969671666622162,
          0.49118027091026306,
          0.4955257475376129,
          0.497931569814682,
          0.4907861649990082,
          0.4900111258029938,
          0.4959728717803955,
          0.49129199981689453,
          0.4918955862522125,
          0.49569281935691833,
          0.4925367534160614,
          0.49399134516716003
         ],
         "yaxis": "y"
        }
       ],
       "layout": {
        "autosize": true,
        "legend": {
         "title": {
          "text": "variable"
         },
         "tracegroupgap": 0
        },
        "template": {
         "data": {
          "bar": [
           {
            "error_x": {
             "color": "#2a3f5f"
            },
            "error_y": {
             "color": "#2a3f5f"
            },
            "marker": {
             "line": {
              "color": "#E5ECF6",
              "width": 0.5
             }
            },
            "type": "bar"
           }
          ],
          "barpolar": [
           {
            "marker": {
             "line": {
              "color": "#E5ECF6",
              "width": 0.5
             }
            },
            "type": "barpolar"
           }
          ],
          "carpet": [
           {
            "aaxis": {
             "endlinecolor": "#2a3f5f",
             "gridcolor": "white",
             "linecolor": "white",
             "minorgridcolor": "white",
             "startlinecolor": "#2a3f5f"
            },
            "baxis": {
             "endlinecolor": "#2a3f5f",
             "gridcolor": "white",
             "linecolor": "white",
             "minorgridcolor": "white",
             "startlinecolor": "#2a3f5f"
            },
            "type": "carpet"
           }
          ],
          "choropleth": [
           {
            "colorbar": {
             "outlinewidth": 0,
             "ticks": ""
            },
            "type": "choropleth"
           }
          ],
          "contour": [
           {
            "colorbar": {
             "outlinewidth": 0,
             "ticks": ""
            },
            "colorscale": [
             [
              0,
              "#0d0887"
             ],
             [
              0.1111111111111111,
              "#46039f"
             ],
             [
              0.2222222222222222,
              "#7201a8"
             ],
             [
              0.3333333333333333,
              "#9c179e"
             ],
             [
              0.4444444444444444,
              "#bd3786"
             ],
             [
              0.5555555555555556,
              "#d8576b"
             ],
             [
              0.6666666666666666,
              "#ed7953"
             ],
             [
              0.7777777777777778,
              "#fb9f3a"
             ],
             [
              0.8888888888888888,
              "#fdca26"
             ],
             [
              1,
              "#f0f921"
             ]
            ],
            "type": "contour"
           }
          ],
          "contourcarpet": [
           {
            "colorbar": {
             "outlinewidth": 0,
             "ticks": ""
            },
            "type": "contourcarpet"
           }
          ],
          "heatmap": [
           {
            "colorbar": {
             "outlinewidth": 0,
             "ticks": ""
            },
            "colorscale": [
             [
              0,
              "#0d0887"
             ],
             [
              0.1111111111111111,
              "#46039f"
             ],
             [
              0.2222222222222222,
              "#7201a8"
             ],
             [
              0.3333333333333333,
              "#9c179e"
             ],
             [
              0.4444444444444444,
              "#bd3786"
             ],
             [
              0.5555555555555556,
              "#d8576b"
             ],
             [
              0.6666666666666666,
              "#ed7953"
             ],
             [
              0.7777777777777778,
              "#fb9f3a"
             ],
             [
              0.8888888888888888,
              "#fdca26"
             ],
             [
              1,
              "#f0f921"
             ]
            ],
            "type": "heatmap"
           }
          ],
          "heatmapgl": [
           {
            "colorbar": {
             "outlinewidth": 0,
             "ticks": ""
            },
            "colorscale": [
             [
              0,
              "#0d0887"
             ],
             [
              0.1111111111111111,
              "#46039f"
             ],
             [
              0.2222222222222222,
              "#7201a8"
             ],
             [
              0.3333333333333333,
              "#9c179e"
             ],
             [
              0.4444444444444444,
              "#bd3786"
             ],
             [
              0.5555555555555556,
              "#d8576b"
             ],
             [
              0.6666666666666666,
              "#ed7953"
             ],
             [
              0.7777777777777778,
              "#fb9f3a"
             ],
             [
              0.8888888888888888,
              "#fdca26"
             ],
             [
              1,
              "#f0f921"
             ]
            ],
            "type": "heatmapgl"
           }
          ],
          "histogram": [
           {
            "marker": {
             "colorbar": {
              "outlinewidth": 0,
              "ticks": ""
             }
            },
            "type": "histogram"
           }
          ],
          "histogram2d": [
           {
            "colorbar": {
             "outlinewidth": 0,
             "ticks": ""
            },
            "colorscale": [
             [
              0,
              "#0d0887"
             ],
             [
              0.1111111111111111,
              "#46039f"
             ],
             [
              0.2222222222222222,
              "#7201a8"
             ],
             [
              0.3333333333333333,
              "#9c179e"
             ],
             [
              0.4444444444444444,
              "#bd3786"
             ],
             [
              0.5555555555555556,
              "#d8576b"
             ],
             [
              0.6666666666666666,
              "#ed7953"
             ],
             [
              0.7777777777777778,
              "#fb9f3a"
             ],
             [
              0.8888888888888888,
              "#fdca26"
             ],
             [
              1,
              "#f0f921"
             ]
            ],
            "type": "histogram2d"
           }
          ],
          "histogram2dcontour": [
           {
            "colorbar": {
             "outlinewidth": 0,
             "ticks": ""
            },
            "colorscale": [
             [
              0,
              "#0d0887"
             ],
             [
              0.1111111111111111,
              "#46039f"
             ],
             [
              0.2222222222222222,
              "#7201a8"
             ],
             [
              0.3333333333333333,
              "#9c179e"
             ],
             [
              0.4444444444444444,
              "#bd3786"
             ],
             [
              0.5555555555555556,
              "#d8576b"
             ],
             [
              0.6666666666666666,
              "#ed7953"
             ],
             [
              0.7777777777777778,
              "#fb9f3a"
             ],
             [
              0.8888888888888888,
              "#fdca26"
             ],
             [
              1,
              "#f0f921"
             ]
            ],
            "type": "histogram2dcontour"
           }
          ],
          "mesh3d": [
           {
            "colorbar": {
             "outlinewidth": 0,
             "ticks": ""
            },
            "type": "mesh3d"
           }
          ],
          "parcoords": [
           {
            "line": {
             "colorbar": {
              "outlinewidth": 0,
              "ticks": ""
             }
            },
            "type": "parcoords"
           }
          ],
          "pie": [
           {
            "automargin": true,
            "type": "pie"
           }
          ],
          "scatter": [
           {
            "marker": {
             "colorbar": {
              "outlinewidth": 0,
              "ticks": ""
             }
            },
            "type": "scatter"
           }
          ],
          "scatter3d": [
           {
            "line": {
             "colorbar": {
              "outlinewidth": 0,
              "ticks": ""
             }
            },
            "marker": {
             "colorbar": {
              "outlinewidth": 0,
              "ticks": ""
             }
            },
            "type": "scatter3d"
           }
          ],
          "scattercarpet": [
           {
            "marker": {
             "colorbar": {
              "outlinewidth": 0,
              "ticks": ""
             }
            },
            "type": "scattercarpet"
           }
          ],
          "scattergeo": [
           {
            "marker": {
             "colorbar": {
              "outlinewidth": 0,
              "ticks": ""
             }
            },
            "type": "scattergeo"
           }
          ],
          "scattergl": [
           {
            "marker": {
             "colorbar": {
              "outlinewidth": 0,
              "ticks": ""
             }
            },
            "type": "scattergl"
           }
          ],
          "scattermapbox": [
           {
            "marker": {
             "colorbar": {
              "outlinewidth": 0,
              "ticks": ""
             }
            },
            "type": "scattermapbox"
           }
          ],
          "scatterpolar": [
           {
            "marker": {
             "colorbar": {
              "outlinewidth": 0,
              "ticks": ""
             }
            },
            "type": "scatterpolar"
           }
          ],
          "scatterpolargl": [
           {
            "marker": {
             "colorbar": {
              "outlinewidth": 0,
              "ticks": ""
             }
            },
            "type": "scatterpolargl"
           }
          ],
          "scatterternary": [
           {
            "marker": {
             "colorbar": {
              "outlinewidth": 0,
              "ticks": ""
             }
            },
            "type": "scatterternary"
           }
          ],
          "surface": [
           {
            "colorbar": {
             "outlinewidth": 0,
             "ticks": ""
            },
            "colorscale": [
             [
              0,
              "#0d0887"
             ],
             [
              0.1111111111111111,
              "#46039f"
             ],
             [
              0.2222222222222222,
              "#7201a8"
             ],
             [
              0.3333333333333333,
              "#9c179e"
             ],
             [
              0.4444444444444444,
              "#bd3786"
             ],
             [
              0.5555555555555556,
              "#d8576b"
             ],
             [
              0.6666666666666666,
              "#ed7953"
             ],
             [
              0.7777777777777778,
              "#fb9f3a"
             ],
             [
              0.8888888888888888,
              "#fdca26"
             ],
             [
              1,
              "#f0f921"
             ]
            ],
            "type": "surface"
           }
          ],
          "table": [
           {
            "cells": {
             "fill": {
              "color": "#EBF0F8"
             },
             "line": {
              "color": "white"
             }
            },
            "header": {
             "fill": {
              "color": "#C8D4E3"
             },
             "line": {
              "color": "white"
             }
            },
            "type": "table"
           }
          ]
         },
         "layout": {
          "annotationdefaults": {
           "arrowcolor": "#2a3f5f",
           "arrowhead": 0,
           "arrowwidth": 1
          },
          "coloraxis": {
           "colorbar": {
            "outlinewidth": 0,
            "ticks": ""
           }
          },
          "colorscale": {
           "diverging": [
            [
             0,
             "#8e0152"
            ],
            [
             0.1,
             "#c51b7d"
            ],
            [
             0.2,
             "#de77ae"
            ],
            [
             0.3,
             "#f1b6da"
            ],
            [
             0.4,
             "#fde0ef"
            ],
            [
             0.5,
             "#f7f7f7"
            ],
            [
             0.6,
             "#e6f5d0"
            ],
            [
             0.7,
             "#b8e186"
            ],
            [
             0.8,
             "#7fbc41"
            ],
            [
             0.9,
             "#4d9221"
            ],
            [
             1,
             "#276419"
            ]
           ],
           "sequential": [
            [
             0,
             "#0d0887"
            ],
            [
             0.1111111111111111,
             "#46039f"
            ],
            [
             0.2222222222222222,
             "#7201a8"
            ],
            [
             0.3333333333333333,
             "#9c179e"
            ],
            [
             0.4444444444444444,
             "#bd3786"
            ],
            [
             0.5555555555555556,
             "#d8576b"
            ],
            [
             0.6666666666666666,
             "#ed7953"
            ],
            [
             0.7777777777777778,
             "#fb9f3a"
            ],
            [
             0.8888888888888888,
             "#fdca26"
            ],
            [
             1,
             "#f0f921"
            ]
           ],
           "sequentialminus": [
            [
             0,
             "#0d0887"
            ],
            [
             0.1111111111111111,
             "#46039f"
            ],
            [
             0.2222222222222222,
             "#7201a8"
            ],
            [
             0.3333333333333333,
             "#9c179e"
            ],
            [
             0.4444444444444444,
             "#bd3786"
            ],
            [
             0.5555555555555556,
             "#d8576b"
            ],
            [
             0.6666666666666666,
             "#ed7953"
            ],
            [
             0.7777777777777778,
             "#fb9f3a"
            ],
            [
             0.8888888888888888,
             "#fdca26"
            ],
            [
             1,
             "#f0f921"
            ]
           ]
          },
          "colorway": [
           "#636efa",
           "#EF553B",
           "#00cc96",
           "#ab63fa",
           "#FFA15A",
           "#19d3f3",
           "#FF6692",
           "#B6E880",
           "#FF97FF",
           "#FECB52"
          ],
          "font": {
           "color": "#2a3f5f"
          },
          "geo": {
           "bgcolor": "white",
           "lakecolor": "white",
           "landcolor": "#E5ECF6",
           "showlakes": true,
           "showland": true,
           "subunitcolor": "white"
          },
          "hoverlabel": {
           "align": "left"
          },
          "hovermode": "closest",
          "mapbox": {
           "style": "light"
          },
          "paper_bgcolor": "white",
          "plot_bgcolor": "#E5ECF6",
          "polar": {
           "angularaxis": {
            "gridcolor": "white",
            "linecolor": "white",
            "ticks": ""
           },
           "bgcolor": "#E5ECF6",
           "radialaxis": {
            "gridcolor": "white",
            "linecolor": "white",
            "ticks": ""
           }
          },
          "scene": {
           "xaxis": {
            "backgroundcolor": "#E5ECF6",
            "gridcolor": "white",
            "gridwidth": 2,
            "linecolor": "white",
            "showbackground": true,
            "ticks": "",
            "zerolinecolor": "white"
           },
           "yaxis": {
            "backgroundcolor": "#E5ECF6",
            "gridcolor": "white",
            "gridwidth": 2,
            "linecolor": "white",
            "showbackground": true,
            "ticks": "",
            "zerolinecolor": "white"
           },
           "zaxis": {
            "backgroundcolor": "#E5ECF6",
            "gridcolor": "white",
            "gridwidth": 2,
            "linecolor": "white",
            "showbackground": true,
            "ticks": "",
            "zerolinecolor": "white"
           }
          },
          "shapedefaults": {
           "line": {
            "color": "#2a3f5f"
           }
          },
          "ternary": {
           "aaxis": {
            "gridcolor": "white",
            "linecolor": "white",
            "ticks": ""
           },
           "baxis": {
            "gridcolor": "white",
            "linecolor": "white",
            "ticks": ""
           },
           "bgcolor": "#E5ECF6",
           "caxis": {
            "gridcolor": "white",
            "linecolor": "white",
            "ticks": ""
           }
          },
          "title": {
           "x": 0.05
          },
          "xaxis": {
           "automargin": true,
           "gridcolor": "white",
           "linecolor": "white",
           "ticks": "",
           "title": {
            "standoff": 15
           },
           "zerolinecolor": "white",
           "zerolinewidth": 2
          },
          "yaxis": {
           "automargin": true,
           "gridcolor": "white",
           "linecolor": "white",
           "ticks": "",
           "title": {
            "standoff": 15
           },
           "zerolinecolor": "white",
           "zerolinewidth": 2
          }
         }
        },
        "title": {
         "text": "BiGRU Training History"
        },
        "xaxis": {
         "anchor": "y",
         "autorange": true,
         "domain": [
          0,
          1
         ],
         "range": [
          0,
          74
         ],
         "title": {
          "text": "epoch"
         },
         "type": "linear"
        },
        "yaxis": {
         "anchor": "x",
         "autorange": true,
         "domain": [
          0,
          1
         ],
         "range": [
          0.41352246124067427,
          0.6190186561625681
         ],
         "title": {
          "text": "MCRMSE"
         },
         "type": "linear"
        }
       }
      },
      "image/png": "[encoded data removed]",
      "text/html": [
       "<div>                            <div id=\"be1715ba-4d90-4fb7-9cb2-b3484ba4c193\" class=\"plotly-graph-div\" style=\"height:525px; width:100%;\"></div>            <script type=\"text/javascript\">                require([\"plotly\"], function(Plotly) {                    window.PLOTLYENV=window.PLOTLYENV || {};                                    if (document.getElementById(\"be1715ba-4d90-4fb7-9cb2-b3484ba4c193\")) {                    Plotly.newPlot(                        \"be1715ba-4d90-4fb7-9cb2-b3484ba4c193\",                        [{\"hovertemplate\": \"variable=loss<br>epoch=%{x}<br>MCRMSE=%{y}<extra></extra>\", \"legendgroup\": \"loss\", \"line\": {\"color\": \"#636efa\", \"dash\": \"solid\"}, \"mode\": \"lines\", \"name\": \"loss\", \"orientation\": \"v\", \"showlegend\": true, \"type\": \"scatter\", \"x\": [0, 1, 2, 3, 4, 5, 6, 7, 8, 9, 10, 11, 12, 13, 14, 15, 16, 17, 18, 19, 20, 21, 22, 23, 24, 25, 26, 27, 28, 29, 30, 31, 32, 33, 34, 35, 36, 37, 38, 39, 40, 41, 42, 43, 44, 45, 46, 47, 48, 49, 50, 51, 52, 53, 54, 55, 56, 57, 58, 59, 60, 61, 62, 63, 64, 65, 66, 67, 68, 69, 70, 71, 72, 73, 74], \"xaxis\": \"x\", \"y\": [0.6066738989618089, 0.5440557956695556, 0.5259788784715864, 0.4818056384722392, 0.4791036387284597, 0.4787054869863722, 0.4740974830256568, 0.462860518693924, 0.46286661823590597, 0.4570749527878232, 0.4563325266043345, 0.45353209243880377, 0.455216869380739, 0.44915750821431477, 0.4504475275675456, 0.44847555425431995, 0.4508906523386637, 0.44565220872561134, 0.44753816591368784, 0.44547372857729595, 0.44291203485594854, 0.44744529260529414, 0.44371910426351757, 0.4437608473830753, 0.4444446192847358, 0.44374194741249084, 0.4439296450879839, 0.443955299589369, 0.44325016339619955, 0.44196457862854005, 0.44124033649762473, 0.4396496401892768, 0.43961692055066426, 0.4393499301539527, 0.4382084442509545, 0.4385636329650879, 0.4389142996735043, 0.4376338647471534, 0.43809273574087354, 0.435817336373859, 0.4347989426718818, 0.43566897445254854, 0.43643816378381517, 0.43259830011261835, 0.4343112256791857, 0.43101857437027824, 0.4330262025197347, 0.43541676733228896, 0.430233844783571, 0.4307088322109646, 0.43043761849403384, 0.43061067859331764, 0.42939043508635627, 0.42751348747147455, 0.43083943525950114, 0.426865773068534, 0.4278016785780589, 0.42729406158129374, 0.42756092349688213, 0.4266237715880076, 0.4277253680759006, 0.42804512977600095, 0.4259904252158271, 0.42764347460534835, 0.42735472785101997, 0.4285486784246233, 0.42683685620625816, 0.4285177237457699, 0.4288041909535726, 0.42841048704253304, 0.42741982142130536, 0.42627254923184715, 0.4245654821395874, 0.4253358436955346, 0.42379727098676895], \"yaxis\": \"y\"}, {\"hovertemplate\": \"variable=val_loss<br>epoch=%{x}<br>MCRMSE=%{y}<extra></extra>\", \"legendgroup\": \"val_loss\", \"line\": {\"color\": \"#EF553B\", \"dash\": \"solid\"}, \"mode\": \"lines\", \"name\": \"val_loss\", \"orientation\": \"v\", \"showlegend\": true, \"type\": \"scatter\", \"x\": [0, 1, 2, 3, 4, 5, 6, 7, 8, 9, 10, 11, 12, 13, 14, 15, 16, 17, 18, 19, 20, 21, 22, 23, 24, 25, 26, 27, 28, 29, 30, 31, 32, 33, 34, 35, 36, 37, 38, 39, 40, 41, 42, 43, 44, 45, 46, 47, 48, 49, 50, 51, 52, 53, 54, 55, 56, 57, 58, 59, 60, 61, 62, 63, 64, 65, 66, 67, 68, 69, 70, 71, 72, 73, 74], \"xaxis\": \"x\", \"y\": [0.6087438464164734, 0.5963343381881714, 0.5425629019737244, 0.5570929646492004, 0.5435051321983337, 0.544970691204071, 0.5458486676216125, 0.5535253286361694, 0.5346648097038269, 0.5344641208648682, 0.5350220799446106, 0.5436551570892334, 0.5317471623420715, 0.5305778980255127, 0.5257402062416077, 0.5236615538597107, 0.522774875164032, 0.52616947889328, 0.518502950668335, 0.5156999230384827, 0.5270388126373291, 0.523826003074646, 0.5148630738258362, 0.5201342701911926, 0.5173977017402649, 0.5112629532814026, 0.5160267949104309, 0.5233557820320129, 0.5195080637931824, 0.5153576731681824, 0.5113081336021423, 0.5110867619514465, 0.5137778520584106, 0.5106818675994873, 0.5192471146583557, 0.5168901085853577, 0.5041132569313049, 0.5036337971687317, 0.503477156162262, 0.5075721740722656, 0.5183067917823792, 0.5086671710014343, 0.4938894808292389, 0.5082899332046509, 0.4990478456020355, 0.4965156614780426, 0.5238173007965088, 0.4947028160095215, 0.4956575334072113, 0.49797043204307556, 0.49441638588905334, 0.49526241421699524, 0.4947986304759979, 0.500359833240509, 0.4930921792984009, 0.49206748604774475, 0.49249687790870667, 0.5029818415641785, 0.49884042143821716, 0.4901656210422516, 0.49009206891059875, 0.4911152422428131, 0.49769067764282227, 0.4969671666622162, 0.49118027091026306, 0.4955257475376129, 0.497931569814682, 0.4907861649990082, 0.4900111258029938, 0.4959728717803955, 0.49129199981689453, 0.4918955862522125, 0.49569281935691833, 0.4925367534160614, 0.49399134516716003], \"yaxis\": \"y\"}],                        {\"legend\": {\"title\": {\"text\": \"variable\"}, \"tracegroupgap\": 0}, \"template\": {\"data\": {\"bar\": [{\"error_x\": {\"color\": \"#2a3f5f\"}, \"error_y\": {\"color\": \"#2a3f5f\"}, \"marker\": {\"line\": {\"color\": \"#E5ECF6\", \"width\": 0.5}}, \"type\": \"bar\"}], \"barpolar\": [{\"marker\": {\"line\": {\"color\": \"#E5ECF6\", \"width\": 0.5}}, \"type\": \"barpolar\"}], \"carpet\": [{\"aaxis\": {\"endlinecolor\": \"#2a3f5f\", \"gridcolor\": \"white\", \"linecolor\": \"white\", \"minorgridcolor\": \"white\", \"startlinecolor\": \"#2a3f5f\"}, \"baxis\": {\"endlinecolor\": \"#2a3f5f\", \"gridcolor\": \"white\", \"linecolor\": \"white\", \"minorgridcolor\": \"white\", \"startlinecolor\": \"#2a3f5f\"}, \"type\": \"carpet\"}], \"choropleth\": [{\"colorbar\": {\"outlinewidth\": 0, \"ticks\": \"\"}, \"type\": \"choropleth\"}], \"contour\": [{\"colorbar\": {\"outlinewidth\": 0, \"ticks\": \"\"}, \"colorscale\": [[0.0, \"#0d0887\"], [0.1111111111111111, \"#46039f\"], [0.2222222222222222, \"#7201a8\"], [0.3333333333333333, \"#9c179e\"], [0.4444444444444444, \"#bd3786\"], [0.5555555555555556, \"#d8576b\"], [0.6666666666666666, \"#ed7953\"], [0.7777777777777778, \"#fb9f3a\"], [0.8888888888888888, \"#fdca26\"], [1.0, \"#f0f921\"]], \"type\": \"contour\"}], \"contourcarpet\": [{\"colorbar\": {\"outlinewidth\": 0, \"ticks\": \"\"}, \"type\": \"contourcarpet\"}], \"heatmap\": [{\"colorbar\": {\"outlinewidth\": 0, \"ticks\": \"\"}, \"colorscale\": [[0.0, \"#0d0887\"], [0.1111111111111111, \"#46039f\"], [0.2222222222222222, \"#7201a8\"], [0.3333333333333333, \"#9c179e\"], [0.4444444444444444, \"#bd3786\"], [0.5555555555555556, \"#d8576b\"], [0.6666666666666666, \"#ed7953\"], [0.7777777777777778, \"#fb9f3a\"], [0.8888888888888888, \"#fdca26\"], [1.0, \"#f0f921\"]], \"type\": \"heatmap\"}], \"heatmapgl\": [{\"colorbar\": {\"outlinewidth\": 0, \"ticks\": \"\"}, \"colorscale\": [[0.0, \"#0d0887\"], [0.1111111111111111, \"#46039f\"], [0.2222222222222222, \"#7201a8\"], [0.3333333333333333, \"#9c179e\"], [0.4444444444444444, \"#bd3786\"], [0.5555555555555556, \"#d8576b\"], [0.6666666666666666, \"#ed7953\"], [0.7777777777777778, \"#fb9f3a\"], [0.8888888888888888, \"#fdca26\"], [1.0, \"#f0f921\"]], \"type\": \"heatmapgl\"}], \"histogram\": [{\"marker\": {\"colorbar\": {\"outlinewidth\": 0, \"ticks\": \"\"}}, \"type\": \"histogram\"}], \"histogram2d\": [{\"colorbar\": {\"outlinewidth\": 0, \"ticks\": \"\"}, \"colorscale\": [[0.0, \"#0d0887\"], [0.1111111111111111, \"#46039f\"], [0.2222222222222222, \"#7201a8\"], [0.3333333333333333, \"#9c179e\"], [0.4444444444444444, \"#bd3786\"], [0.5555555555555556, \"#d8576b\"], [0.6666666666666666, \"#ed7953\"], [0.7777777777777778, \"#fb9f3a\"], [0.8888888888888888, \"#fdca26\"], [1.0, \"#f0f921\"]], \"type\": \"histogram2d\"}], \"histogram2dcontour\": [{\"colorbar\": {\"outlinewidth\": 0, \"ticks\": \"\"}, \"colorscale\": [[0.0, \"#0d0887\"], [0.1111111111111111, \"#46039f\"], [0.2222222222222222, \"#7201a8\"], [0.3333333333333333, \"#9c179e\"], [0.4444444444444444, \"#bd3786\"], [0.5555555555555556, \"#d8576b\"], [0.6666666666666666, \"#ed7953\"], [0.7777777777777778, \"#fb9f3a\"], [0.8888888888888888, \"#fdca26\"], [1.0, \"#f0f921\"]], \"type\": \"histogram2dcontour\"}], \"mesh3d\": [{\"colorbar\": {\"outlinewidth\": 0, \"ticks\": \"\"}, \"type\": \"mesh3d\"}], \"parcoords\": [{\"line\": {\"colorbar\": {\"outlinewidth\": 0, \"ticks\": \"\"}}, \"type\": \"parcoords\"}], \"pie\": [{\"automargin\": true, \"type\": \"pie\"}], \"scatter\": [{\"marker\": {\"colorbar\": {\"outlinewidth\": 0, \"ticks\": \"\"}}, \"type\": \"scatter\"}], \"scatter3d\": [{\"line\": {\"colorbar\": {\"outlinewidth\": 0, \"ticks\": \"\"}}, \"marker\": {\"colorbar\": {\"outlinewidth\": 0, \"ticks\": \"\"}}, \"type\": \"scatter3d\"}], \"scattercarpet\": [{\"marker\": {\"colorbar\": {\"outlinewidth\": 0, \"ticks\": \"\"}}, \"type\": \"scattercarpet\"}], \"scattergeo\": [{\"marker\": {\"colorbar\": {\"outlinewidth\": 0, \"ticks\": \"\"}}, \"type\": \"scattergeo\"}], \"scattergl\": [{\"marker\": {\"colorbar\": {\"outlinewidth\": 0, \"ticks\": \"\"}}, \"type\": \"scattergl\"}], \"scattermapbox\": [{\"marker\": {\"colorbar\": {\"outlinewidth\": 0, \"ticks\": \"\"}}, \"type\": \"scattermapbox\"}], \"scatterpolar\": [{\"marker\": {\"colorbar\": {\"outlinewidth\": 0, \"ticks\": \"\"}}, \"type\": \"scatterpolar\"}], \"scatterpolargl\": [{\"marker\": {\"colorbar\": {\"outlinewidth\": 0, \"ticks\": \"\"}}, \"type\": \"scatterpolargl\"}], \"scatterternary\": [{\"marker\": {\"colorbar\": {\"outlinewidth\": 0, \"ticks\": \"\"}}, \"type\": \"scatterternary\"}], \"surface\": [{\"colorbar\": {\"outlinewidth\": 0, \"ticks\": \"\"}, \"colorscale\": [[0.0, \"#0d0887\"], [0.1111111111111111, \"#46039f\"], [0.2222222222222222, \"#7201a8\"], [0.3333333333333333, \"#9c179e\"], [0.4444444444444444, \"#bd3786\"], [0.5555555555555556, \"#d8576b\"], [0.6666666666666666, \"#ed7953\"], [0.7777777777777778, \"#fb9f3a\"], [0.8888888888888888, \"#fdca26\"], [1.0, \"#f0f921\"]], \"type\": \"surface\"}], \"table\": [{\"cells\": {\"fill\": {\"color\": \"#EBF0F8\"}, \"line\": {\"color\": \"white\"}}, \"header\": {\"fill\": {\"color\": \"#C8D4E3\"}, \"line\": {\"color\": \"white\"}}, \"type\": \"table\"}]}, \"layout\": {\"annotationdefaults\": {\"arrowcolor\": \"#2a3f5f\", \"arrowhead\": 0, \"arrowwidth\": 1}, \"coloraxis\": {\"colorbar\": {\"outlinewidth\": 0, \"ticks\": \"\"}}, \"colorscale\": {\"diverging\": [[0, \"#8e0152\"], [0.1, \"#c51b7d\"], [0.2, \"#de77ae\"], [0.3, \"#f1b6da\"], [0.4, \"#fde0ef\"], [0.5, \"#f7f7f7\"], [0.6, \"#e6f5d0\"], [0.7, \"#b8e186\"], [0.8, \"#7fbc41\"], [0.9, \"#4d9221\"], [1, \"#276419\"]], \"sequential\": [[0.0, \"#0d0887\"], [0.1111111111111111, \"#46039f\"], [0.2222222222222222, \"#7201a8\"], [0.3333333333333333, \"#9c179e\"], [0.4444444444444444, \"#bd3786\"], [0.5555555555555556, \"#d8576b\"], [0.6666666666666666, \"#ed7953\"], [0.7777777777777778, \"#fb9f3a\"], [0.8888888888888888, \"#fdca26\"], [1.0, \"#f0f921\"]], \"sequentialminus\": [[0.0, \"#0d0887\"], [0.1111111111111111, \"#46039f\"], [0.2222222222222222, \"#7201a8\"], [0.3333333333333333, \"#9c179e\"], [0.4444444444444444, \"#bd3786\"], [0.5555555555555556, \"#d8576b\"], [0.6666666666666666, \"#ed7953\"], [0.7777777777777778, \"#fb9f3a\"], [0.8888888888888888, \"#fdca26\"], [1.0, \"#f0f921\"]]}, \"colorway\": [\"#636efa\", \"#EF553B\", \"#00cc96\", \"#ab63fa\", \"#FFA15A\", \"#19d3f3\", \"#FF6692\", \"#B6E880\", \"#FF97FF\", \"#FECB52\"], \"font\": {\"color\": \"#2a3f5f\"}, \"geo\": {\"bgcolor\": \"white\", \"lakecolor\": \"white\", \"landcolor\": \"#E5ECF6\", \"showlakes\": true, \"showland\": true, \"subunitcolor\": \"white\"}, \"hoverlabel\": {\"align\": \"left\"}, \"hovermode\": \"closest\", \"mapbox\": {\"style\": \"light\"}, \"paper_bgcolor\": \"white\", \"plot_bgcolor\": \"#E5ECF6\", \"polar\": {\"angularaxis\": {\"gridcolor\": \"white\", \"linecolor\": \"white\", \"ticks\": \"\"}, \"bgcolor\": \"#E5ECF6\", \"radialaxis\": {\"gridcolor\": \"white\", \"linecolor\": \"white\", \"ticks\": \"\"}}, \"scene\": {\"xaxis\": {\"backgroundcolor\": \"#E5ECF6\", \"gridcolor\": \"white\", \"gridwidth\": 2, \"linecolor\": \"white\", \"showbackground\": true, \"ticks\": \"\", \"zerolinecolor\": \"white\"}, \"yaxis\": {\"backgroundcolor\": \"#E5ECF6\", \"gridcolor\": \"white\", \"gridwidth\": 2, \"linecolor\": \"white\", \"showbackground\": true, \"ticks\": \"\", \"zerolinecolor\": \"white\"}, \"zaxis\": {\"backgroundcolor\": \"#E5ECF6\", \"gridcolor\": \"white\", \"gridwidth\": 2, \"linecolor\": \"white\", \"showbackground\": true, \"ticks\": \"\", \"zerolinecolor\": \"white\"}}, \"shapedefaults\": {\"line\": {\"color\": \"#2a3f5f\"}}, \"ternary\": {\"aaxis\": {\"gridcolor\": \"white\", \"linecolor\": \"white\", \"ticks\": \"\"}, \"baxis\": {\"gridcolor\": \"white\", \"linecolor\": \"white\", \"ticks\": \"\"}, \"bgcolor\": \"#E5ECF6\", \"caxis\": {\"gridcolor\": \"white\", \"linecolor\": \"white\", \"ticks\": \"\"}}, \"title\": {\"x\": 0.05}, \"xaxis\": {\"automargin\": true, \"gridcolor\": \"white\", \"linecolor\": \"white\", \"ticks\": \"\", \"title\": {\"standoff\": 15}, \"zerolinecolor\": \"white\", \"zerolinewidth\": 2}, \"yaxis\": {\"automargin\": true, \"gridcolor\": \"white\", \"linecolor\": \"white\", \"ticks\": \"\", \"title\": {\"standoff\": 15}, \"zerolinecolor\": \"white\", \"zerolinewidth\": 2}}}, \"title\": {\"text\": \"BiGRU Training History\"}, \"xaxis\": {\"anchor\": \"y\", \"domain\": [0.0, 1.0], \"title\": {\"text\": \"epoch\"}}, \"yaxis\": {\"anchor\": \"x\", \"domain\": [0.0, 1.0], \"title\": {\"text\": \"MCRMSE\"}}},                        {\"responsive\": true}                    ).then(function(){\n",
       "                            \n",
       "var gd = document.getElementById('be1715ba-4d90-4fb7-9cb2-b3484ba4c193');\n",
       "var x = new MutationObserver(function (mutations, observer) {{\n",
       "        var display = window.getComputedStyle(gd).display;\n",
       "        if (!display || display === 'none') {{\n",
       "            console.log([gd, 'removed!']);\n",
       "            Plotly.purge(gd);\n",
       "            observer.disconnect();\n",
       "        }}\n",
       "}});\n",
       "\n",
       "// Listen for the removal of the full notebook cells\n",
       "var notebookContainer = gd.closest('#notebook-container');\n",
       "if (notebookContainer) {{\n",
       "    x.observe(notebookContainer, {childList: true});\n",
       "}}\n",
       "\n",
       "// Listen for the clearing of the current output cell\n",
       "var outputEl = gd.closest('.output');\n",
       "if (outputEl) {{\n",
       "    x.observe(outputEl, {childList: true});\n",
       "}}\n",
       "\n",
       "                        })                };                });            </script>        </div>"
      ]
     },
     "metadata": {},
     "output_type": "display_data"
    }
   ],
   "source": [
    "fig_bi_gru = px.line(\n",
    "    history_bi_gru.history, \n",
    "    y=['loss', 'val_loss'],\n",
    "    labels={'index': 'epoch', 'value': 'MCRMSE'}, \n",
    "    title='BiGRU Training History'\n",
    ")\n",
    "fig_bi_gru.show()"
   ]
  },
  {
   "cell_type": "code",
   "execution_count": 52,
   "metadata": {},
   "outputs": [
    {
     "data": {
      "application/vnd.plotly.v1+json": {
       "config": {
        "plotlyServerURL": "https://plot.ly"
       },
       "data": [
        {
         "hovertemplate": "variable=loss<br>epoch=%{x}<br>MCRMSE=%{y}<extra></extra>",
         "legendgroup": "loss",
         "line": {
          "color": "#636efa",
          "dash": "solid"
         },
         "mode": "lines",
         "name": "loss",
         "orientation": "v",
         "showlegend": true,
         "type": "scatter",
         "x": [
          0,
          1,
          2,
          3,
          4,
          5,
          6,
          7,
          8,
          9,
          10,
          11,
          12,
          13,
          14,
          15,
          16,
          17,
          18,
          19,
          20,
          21,
          22,
          23,
          24,
          25,
          26,
          27,
          28,
          29,
          30,
          31,
          32,
          33,
          34,
          35,
          36,
          37,
          38,
          39,
          40,
          41,
          42,
          43,
          44,
          45,
          46,
          47,
          48,
          49,
          50,
          51,
          52,
          53,
          54,
          55,
          56,
          57,
          58,
          59,
          60,
          61,
          62,
          63,
          64,
          65,
          66,
          67,
          68,
          69,
          70,
          71,
          72,
          73,
          74
         ],
         "xaxis": "x",
         "y": [
          0.6305676725175645,
          0.5465714441405403,
          0.5445284406344096,
          0.5325295819176568,
          0.5237914072142706,
          0.5275720768504673,
          0.5182103951772054,
          0.5150275124443902,
          0.5091757867071364,
          0.5067607349819607,
          0.5004334847132365,
          0.49826276964611477,
          0.49004756543371414,
          0.4858316030767229,
          0.4797875410980649,
          0.47371438278092276,
          0.46819743514060974,
          0.4626615345478058,
          0.4591483063167996,
          0.452079184850057,
          0.4503363291422526,
          0.44649051560295955,
          0.44134012791845534,
          0.4405566612879435,
          0.4396668056646983,
          0.4408528407414754,
          0.4384876549243927,
          0.4370232469505734,
          0.43792937133047316,
          0.4373533666133881,
          0.43669866389698453,
          0.43507821294996474,
          0.4364222897423638,
          0.4350522882408566,
          0.4358455174499088,
          0.4355129447248247,
          0.4348865290482839,
          0.43368594646453856,
          0.4342755787902408,
          0.43489112125502694,
          0.4323355350229475,
          0.432741955253813,
          0.43305231796370613,
          0.43354935712284515,
          0.4308637453450097,
          0.43279369605912105,
          0.42992076012823316,
          0.4316574513912201,
          0.4303003953562842,
          0.43082522551218666,
          0.43070124520195857,
          0.43100421759817337,
          0.43100008368492126,
          0.4327677203549279,
          0.4310720867580838,
          0.4296867589155833,
          0.43015103803740606,
          0.432277199294832,
          0.42935260468059117,
          0.4290896991888682,
          0.4304949382940928,
          0.4293694972991943,
          0.4296439535088009,
          0.42906155652470057,
          0.4301104340288374,
          0.43039980000919764,
          0.430804083082411,
          0.431242870622211,
          0.4291106535328759,
          0.42832822998364767,
          0.4291900561915504,
          0.42764908009105257,
          0.4285648034678565,
          0.42903173300955033,
          0.428057740132014
         ],
         "yaxis": "y"
        },
        {
         "hovertemplate": "variable=val_loss<br>epoch=%{x}<br>MCRMSE=%{y}<extra></extra>",
         "legendgroup": "val_loss",
         "line": {
          "color": "#EF553B",
          "dash": "solid"
         },
         "mode": "lines",
         "name": "val_loss",
         "orientation": "v",
         "showlegend": true,
         "type": "scatter",
         "x": [
          0,
          1,
          2,
          3,
          4,
          5,
          6,
          7,
          8,
          9,
          10,
          11,
          12,
          13,
          14,
          15,
          16,
          17,
          18,
          19,
          20,
          21,
          22,
          23,
          24,
          25,
          26,
          27,
          28,
          29,
          30,
          31,
          32,
          33,
          34,
          35,
          36,
          37,
          38,
          39,
          40,
          41,
          42,
          43,
          44,
          45,
          46,
          47,
          48,
          49,
          50,
          51,
          52,
          53,
          54,
          55,
          56,
          57,
          58,
          59,
          60,
          61,
          62,
          63,
          64,
          65,
          66,
          67,
          68,
          69,
          70,
          71,
          72,
          73,
          74
         ],
         "xaxis": "x",
         "y": [
          0.6166439652442932,
          0.6138468384742737,
          0.5916555523872375,
          0.5854522585868835,
          0.5875381827354431,
          0.5755539536476135,
          0.5723999738693237,
          0.564859926700592,
          0.5624460577964783,
          0.5551899075508118,
          0.551040530204773,
          0.5441302061080933,
          0.5413127541542053,
          0.5364485383033752,
          0.5343096256256104,
          0.5328530669212341,
          0.5328051447868347,
          0.5312032103538513,
          0.5279983282089233,
          0.5235913395881653,
          0.5164698958396912,
          0.5088441967964172,
          0.503679096698761,
          0.4991273880004883,
          0.4952715337276459,
          0.49439358711242676,
          0.4955572187900543,
          0.5008307099342346,
          0.4936792850494385,
          0.49871811270713806,
          0.4947221577167511,
          0.495187908411026,
          0.4973900020122528,
          0.49279212951660156,
          0.4946143329143524,
          0.49732813239097595,
          0.4943941533565521,
          0.4916168451309204,
          0.4906477928161621,
          0.4914286136627197,
          0.4933757781982422,
          0.49202942848205566,
          0.4929177761077881,
          0.49053728580474854,
          0.4905301630496979,
          0.4928836524486542,
          0.49162983894348145,
          0.49178043007850647,
          0.4929158687591553,
          0.4898969829082489,
          0.4896934926509857,
          0.4912515878677368,
          0.48909667134284973,
          0.4914798438549042,
          0.4915754497051239,
          0.49060365557670593,
          0.48995304107666016,
          0.4901350438594818,
          0.48906782269477844,
          0.490927129983902,
          0.49024882912635803,
          0.48835429549217224,
          0.4905531406402588,
          0.492064505815506,
          0.4909021854400635,
          0.4923415184020996,
          0.4889889657497406,
          0.48849353194236755,
          0.4915057122707367,
          0.48887383937835693,
          0.48928019404411316,
          0.4941157400608063,
          0.4884243309497833,
          0.4895307123661041,
          0.49578848481178284
         ],
         "yaxis": "y"
        }
       ],
       "layout": {
        "autosize": true,
        "legend": {
         "title": {
          "text": "variable"
         },
         "tracegroupgap": 0
        },
        "template": {
         "data": {
          "bar": [
           {
            "error_x": {
             "color": "#2a3f5f"
            },
            "error_y": {
             "color": "#2a3f5f"
            },
            "marker": {
             "line": {
              "color": "#E5ECF6",
              "width": 0.5
             }
            },
            "type": "bar"
           }
          ],
          "barpolar": [
           {
            "marker": {
             "line": {
              "color": "#E5ECF6",
              "width": 0.5
             }
            },
            "type": "barpolar"
           }
          ],
          "carpet": [
           {
            "aaxis": {
             "endlinecolor": "#2a3f5f",
             "gridcolor": "white",
             "linecolor": "white",
             "minorgridcolor": "white",
             "startlinecolor": "#2a3f5f"
            },
            "baxis": {
             "endlinecolor": "#2a3f5f",
             "gridcolor": "white",
             "linecolor": "white",
             "minorgridcolor": "white",
             "startlinecolor": "#2a3f5f"
            },
            "type": "carpet"
           }
          ],
          "choropleth": [
           {
            "colorbar": {
             "outlinewidth": 0,
             "ticks": ""
            },
            "type": "choropleth"
           }
          ],
          "contour": [
           {
            "colorbar": {
             "outlinewidth": 0,
             "ticks": ""
            },
            "colorscale": [
             [
              0,
              "#0d0887"
             ],
             [
              0.1111111111111111,
              "#46039f"
             ],
             [
              0.2222222222222222,
              "#7201a8"
             ],
             [
              0.3333333333333333,
              "#9c179e"
             ],
             [
              0.4444444444444444,
              "#bd3786"
             ],
             [
              0.5555555555555556,
              "#d8576b"
             ],
             [
              0.6666666666666666,
              "#ed7953"
             ],
             [
              0.7777777777777778,
              "#fb9f3a"
             ],
             [
              0.8888888888888888,
              "#fdca26"
             ],
             [
              1,
              "#f0f921"
             ]
            ],
            "type": "contour"
           }
          ],
          "contourcarpet": [
           {
            "colorbar": {
             "outlinewidth": 0,
             "ticks": ""
            },
            "type": "contourcarpet"
           }
          ],
          "heatmap": [
           {
            "colorbar": {
             "outlinewidth": 0,
             "ticks": ""
            },
            "colorscale": [
             [
              0,
              "#0d0887"
             ],
             [
              0.1111111111111111,
              "#46039f"
             ],
             [
              0.2222222222222222,
              "#7201a8"
             ],
             [
              0.3333333333333333,
              "#9c179e"
             ],
             [
              0.4444444444444444,
              "#bd3786"
             ],
             [
              0.5555555555555556,
              "#d8576b"
             ],
             [
              0.6666666666666666,
              "#ed7953"
             ],
             [
              0.7777777777777778,
              "#fb9f3a"
             ],
             [
              0.8888888888888888,
              "#fdca26"
             ],
             [
              1,
              "#f0f921"
             ]
            ],
            "type": "heatmap"
           }
          ],
          "heatmapgl": [
           {
            "colorbar": {
             "outlinewidth": 0,
             "ticks": ""
            },
            "colorscale": [
             [
              0,
              "#0d0887"
             ],
             [
              0.1111111111111111,
              "#46039f"
             ],
             [
              0.2222222222222222,
              "#7201a8"
             ],
             [
              0.3333333333333333,
              "#9c179e"
             ],
             [
              0.4444444444444444,
              "#bd3786"
             ],
             [
              0.5555555555555556,
              "#d8576b"
             ],
             [
              0.6666666666666666,
              "#ed7953"
             ],
             [
              0.7777777777777778,
              "#fb9f3a"
             ],
             [
              0.8888888888888888,
              "#fdca26"
             ],
             [
              1,
              "#f0f921"
             ]
            ],
            "type": "heatmapgl"
           }
          ],
          "histogram": [
           {
            "marker": {
             "colorbar": {
              "outlinewidth": 0,
              "ticks": ""
             }
            },
            "type": "histogram"
           }
          ],
          "histogram2d": [
           {
            "colorbar": {
             "outlinewidth": 0,
             "ticks": ""
            },
            "colorscale": [
             [
              0,
              "#0d0887"
             ],
             [
              0.1111111111111111,
              "#46039f"
             ],
             [
              0.2222222222222222,
              "#7201a8"
             ],
             [
              0.3333333333333333,
              "#9c179e"
             ],
             [
              0.4444444444444444,
              "#bd3786"
             ],
             [
              0.5555555555555556,
              "#d8576b"
             ],
             [
              0.6666666666666666,
              "#ed7953"
             ],
             [
              0.7777777777777778,
              "#fb9f3a"
             ],
             [
              0.8888888888888888,
              "#fdca26"
             ],
             [
              1,
              "#f0f921"
             ]
            ],
            "type": "histogram2d"
           }
          ],
          "histogram2dcontour": [
           {
            "colorbar": {
             "outlinewidth": 0,
             "ticks": ""
            },
            "colorscale": [
             [
              0,
              "#0d0887"
             ],
             [
              0.1111111111111111,
              "#46039f"
             ],
             [
              0.2222222222222222,
              "#7201a8"
             ],
             [
              0.3333333333333333,
              "#9c179e"
             ],
             [
              0.4444444444444444,
              "#bd3786"
             ],
             [
              0.5555555555555556,
              "#d8576b"
             ],
             [
              0.6666666666666666,
              "#ed7953"
             ],
             [
              0.7777777777777778,
              "#fb9f3a"
             ],
             [
              0.8888888888888888,
              "#fdca26"
             ],
             [
              1,
              "#f0f921"
             ]
            ],
            "type": "histogram2dcontour"
           }
          ],
          "mesh3d": [
           {
            "colorbar": {
             "outlinewidth": 0,
             "ticks": ""
            },
            "type": "mesh3d"
           }
          ],
          "parcoords": [
           {
            "line": {
             "colorbar": {
              "outlinewidth": 0,
              "ticks": ""
             }
            },
            "type": "parcoords"
           }
          ],
          "pie": [
           {
            "automargin": true,
            "type": "pie"
           }
          ],
          "scatter": [
           {
            "marker": {
             "colorbar": {
              "outlinewidth": 0,
              "ticks": ""
             }
            },
            "type": "scatter"
           }
          ],
          "scatter3d": [
           {
            "line": {
             "colorbar": {
              "outlinewidth": 0,
              "ticks": ""
             }
            },
            "marker": {
             "colorbar": {
              "outlinewidth": 0,
              "ticks": ""
             }
            },
            "type": "scatter3d"
           }
          ],
          "scattercarpet": [
           {
            "marker": {
             "colorbar": {
              "outlinewidth": 0,
              "ticks": ""
             }
            },
            "type": "scattercarpet"
           }
          ],
          "scattergeo": [
           {
            "marker": {
             "colorbar": {
              "outlinewidth": 0,
              "ticks": ""
             }
            },
            "type": "scattergeo"
           }
          ],
          "scattergl": [
           {
            "marker": {
             "colorbar": {
              "outlinewidth": 0,
              "ticks": ""
             }
            },
            "type": "scattergl"
           }
          ],
          "scattermapbox": [
           {
            "marker": {
             "colorbar": {
              "outlinewidth": 0,
              "ticks": ""
             }
            },
            "type": "scattermapbox"
           }
          ],
          "scatterpolar": [
           {
            "marker": {
             "colorbar": {
              "outlinewidth": 0,
              "ticks": ""
             }
            },
            "type": "scatterpolar"
           }
          ],
          "scatterpolargl": [
           {
            "marker": {
             "colorbar": {
              "outlinewidth": 0,
              "ticks": ""
             }
            },
            "type": "scatterpolargl"
           }
          ],
          "scatterternary": [
           {
            "marker": {
             "colorbar": {
              "outlinewidth": 0,
              "ticks": ""
             }
            },
            "type": "scatterternary"
           }
          ],
          "surface": [
           {
            "colorbar": {
             "outlinewidth": 0,
             "ticks": ""
            },
            "colorscale": [
             [
              0,
              "#0d0887"
             ],
             [
              0.1111111111111111,
              "#46039f"
             ],
             [
              0.2222222222222222,
              "#7201a8"
             ],
             [
              0.3333333333333333,
              "#9c179e"
             ],
             [
              0.4444444444444444,
              "#bd3786"
             ],
             [
              0.5555555555555556,
              "#d8576b"
             ],
             [
              0.6666666666666666,
              "#ed7953"
             ],
             [
              0.7777777777777778,
              "#fb9f3a"
             ],
             [
              0.8888888888888888,
              "#fdca26"
             ],
             [
              1,
              "#f0f921"
             ]
            ],
            "type": "surface"
           }
          ],
          "table": [
           {
            "cells": {
             "fill": {
              "color": "#EBF0F8"
             },
             "line": {
              "color": "white"
             }
            },
            "header": {
             "fill": {
              "color": "#C8D4E3"
             },
             "line": {
              "color": "white"
             }
            },
            "type": "table"
           }
          ]
         },
         "layout": {
          "annotationdefaults": {
           "arrowcolor": "#2a3f5f",
           "arrowhead": 0,
           "arrowwidth": 1
          },
          "coloraxis": {
           "colorbar": {
            "outlinewidth": 0,
            "ticks": ""
           }
          },
          "colorscale": {
           "diverging": [
            [
             0,
             "#8e0152"
            ],
            [
             0.1,
             "#c51b7d"
            ],
            [
             0.2,
             "#de77ae"
            ],
            [
             0.3,
             "#f1b6da"
            ],
            [
             0.4,
             "#fde0ef"
            ],
            [
             0.5,
             "#f7f7f7"
            ],
            [
             0.6,
             "#e6f5d0"
            ],
            [
             0.7,
             "#b8e186"
            ],
            [
             0.8,
             "#7fbc41"
            ],
            [
             0.9,
             "#4d9221"
            ],
            [
             1,
             "#276419"
            ]
           ],
           "sequential": [
            [
             0,
             "#0d0887"
            ],
            [
             0.1111111111111111,
             "#46039f"
            ],
            [
             0.2222222222222222,
             "#7201a8"
            ],
            [
             0.3333333333333333,
             "#9c179e"
            ],
            [
             0.4444444444444444,
             "#bd3786"
            ],
            [
             0.5555555555555556,
             "#d8576b"
            ],
            [
             0.6666666666666666,
             "#ed7953"
            ],
            [
             0.7777777777777778,
             "#fb9f3a"
            ],
            [
             0.8888888888888888,
             "#fdca26"
            ],
            [
             1,
             "#f0f921"
            ]
           ],
           "sequentialminus": [
            [
             0,
             "#0d0887"
            ],
            [
             0.1111111111111111,
             "#46039f"
            ],
            [
             0.2222222222222222,
             "#7201a8"
            ],
            [
             0.3333333333333333,
             "#9c179e"
            ],
            [
             0.4444444444444444,
             "#bd3786"
            ],
            [
             0.5555555555555556,
             "#d8576b"
            ],
            [
             0.6666666666666666,
             "#ed7953"
            ],
            [
             0.7777777777777778,
             "#fb9f3a"
            ],
            [
             0.8888888888888888,
             "#fdca26"
            ],
            [
             1,
             "#f0f921"
            ]
           ]
          },
          "colorway": [
           "#636efa",
           "#EF553B",
           "#00cc96",
           "#ab63fa",
           "#FFA15A",
           "#19d3f3",
           "#FF6692",
           "#B6E880",
           "#FF97FF",
           "#FECB52"
          ],
          "font": {
           "color": "#2a3f5f"
          },
          "geo": {
           "bgcolor": "white",
           "lakecolor": "white",
           "landcolor": "#E5ECF6",
           "showlakes": true,
           "showland": true,
           "subunitcolor": "white"
          },
          "hoverlabel": {
           "align": "left"
          },
          "hovermode": "closest",
          "mapbox": {
           "style": "light"
          },
          "paper_bgcolor": "white",
          "plot_bgcolor": "#E5ECF6",
          "polar": {
           "angularaxis": {
            "gridcolor": "white",
            "linecolor": "white",
            "ticks": ""
           },
           "bgcolor": "#E5ECF6",
           "radialaxis": {
            "gridcolor": "white",
            "linecolor": "white",
            "ticks": ""
           }
          },
          "scene": {
           "xaxis": {
            "backgroundcolor": "#E5ECF6",
            "gridcolor": "white",
            "gridwidth": 2,
            "linecolor": "white",
            "showbackground": true,
            "ticks": "",
            "zerolinecolor": "white"
           },
           "yaxis": {
            "backgroundcolor": "#E5ECF6",
            "gridcolor": "white",
            "gridwidth": 2,
            "linecolor": "white",
            "showbackground": true,
            "ticks": "",
            "zerolinecolor": "white"
           },
           "zaxis": {
            "backgroundcolor": "#E5ECF6",
            "gridcolor": "white",
            "gridwidth": 2,
            "linecolor": "white",
            "showbackground": true,
            "ticks": "",
            "zerolinecolor": "white"
           }
          },
          "shapedefaults": {
           "line": {
            "color": "#2a3f5f"
           }
          },
          "ternary": {
           "aaxis": {
            "gridcolor": "white",
            "linecolor": "white",
            "ticks": ""
           },
           "baxis": {
            "gridcolor": "white",
            "linecolor": "white",
            "ticks": ""
           },
           "bgcolor": "#E5ECF6",
           "caxis": {
            "gridcolor": "white",
            "linecolor": "white",
            "ticks": ""
           }
          },
          "title": {
           "x": 0.05
          },
          "xaxis": {
           "automargin": true,
           "gridcolor": "white",
           "linecolor": "white",
           "ticks": "",
           "title": {
            "standoff": 15
           },
           "zerolinecolor": "white",
           "zerolinewidth": 2
          },
          "yaxis": {
           "automargin": true,
           "gridcolor": "white",
           "linecolor": "white",
           "ticks": "",
           "title": {
            "standoff": 15
           },
           "zerolinecolor": "white",
           "zerolinewidth": 2
          }
         }
        },
        "title": {
         "text": "LSTM Training History"
        },
        "xaxis": {
         "anchor": "y",
         "autorange": true,
         "domain": [
          0,
          1
         ],
         "range": [
          0,
          74
         ],
         "title": {
          "text": "epoch"
         },
         "type": "linear"
        },
        "yaxis": {
         "anchor": "x",
         "autorange": true,
         "domain": [
          0,
          1
         ],
         "range": [
          0.41637582495624637,
          0.6418409276523708
         ],
         "title": {
          "text": "MCRMSE"
         },
         "type": "linear"
        }
       }
      },
      "image/png": "[encoded data removed]",
      "text/html": [
       "<div>                            <div id=\"1a95c3b0-846d-4a89-bc95-6a0646aef859\" class=\"plotly-graph-div\" style=\"height:525px; width:100%;\"></div>            <script type=\"text/javascript\">                require([\"plotly\"], function(Plotly) {                    window.PLOTLYENV=window.PLOTLYENV || {};                                    if (document.getElementById(\"1a95c3b0-846d-4a89-bc95-6a0646aef859\")) {                    Plotly.newPlot(                        \"1a95c3b0-846d-4a89-bc95-6a0646aef859\",                        [{\"hovertemplate\": \"variable=loss<br>epoch=%{x}<br>MCRMSE=%{y}<extra></extra>\", \"legendgroup\": \"loss\", \"line\": {\"color\": \"#636efa\", \"dash\": \"solid\"}, \"mode\": \"lines\", \"name\": \"loss\", \"orientation\": \"v\", \"showlegend\": true, \"type\": \"scatter\", \"x\": [0, 1, 2, 3, 4, 5, 6, 7, 8, 9, 10, 11, 12, 13, 14, 15, 16, 17, 18, 19, 20, 21, 22, 23, 24, 25, 26, 27, 28, 29, 30, 31, 32, 33, 34, 35, 36, 37, 38, 39, 40, 41, 42, 43, 44, 45, 46, 47, 48, 49, 50, 51, 52, 53, 54, 55, 56, 57, 58, 59, 60, 61, 62, 63, 64, 65, 66, 67, 68, 69, 70, 71, 72, 73, 74], \"xaxis\": \"x\", \"y\": [0.6305676725175645, 0.5465714441405403, 0.5445284406344096, 0.5325295819176568, 0.5237914072142706, 0.5275720768504673, 0.5182103951772054, 0.5150275124443902, 0.5091757867071364, 0.5067607349819607, 0.5004334847132365, 0.49826276964611477, 0.49004756543371414, 0.4858316030767229, 0.4797875410980649, 0.47371438278092276, 0.46819743514060974, 0.4626615345478058, 0.4591483063167996, 0.452079184850057, 0.4503363291422526, 0.44649051560295955, 0.44134012791845534, 0.4405566612879435, 0.4396668056646983, 0.4408528407414754, 0.4384876549243927, 0.4370232469505734, 0.43792937133047316, 0.4373533666133881, 0.43669866389698453, 0.43507821294996474, 0.4364222897423638, 0.4350522882408566, 0.4358455174499088, 0.4355129447248247, 0.4348865290482839, 0.43368594646453856, 0.4342755787902408, 0.43489112125502694, 0.4323355350229475, 0.432741955253813, 0.43305231796370613, 0.43354935712284515, 0.4308637453450097, 0.43279369605912105, 0.42992076012823316, 0.4316574513912201, 0.4303003953562842, 0.43082522551218666, 0.43070124520195857, 0.43100421759817337, 0.43100008368492126, 0.4327677203549279, 0.4310720867580838, 0.4296867589155833, 0.43015103803740606, 0.432277199294832, 0.42935260468059117, 0.4290896991888682, 0.4304949382940928, 0.4293694972991943, 0.4296439535088009, 0.42906155652470057, 0.4301104340288374, 0.43039980000919764, 0.430804083082411, 0.431242870622211, 0.4291106535328759, 0.42832822998364767, 0.4291900561915504, 0.42764908009105257, 0.4285648034678565, 0.42903173300955033, 0.428057740132014], \"yaxis\": \"y\"}, {\"hovertemplate\": \"variable=val_loss<br>epoch=%{x}<br>MCRMSE=%{y}<extra></extra>\", \"legendgroup\": \"val_loss\", \"line\": {\"color\": \"#EF553B\", \"dash\": \"solid\"}, \"mode\": \"lines\", \"name\": \"val_loss\", \"orientation\": \"v\", \"showlegend\": true, \"type\": \"scatter\", \"x\": [0, 1, 2, 3, 4, 5, 6, 7, 8, 9, 10, 11, 12, 13, 14, 15, 16, 17, 18, 19, 20, 21, 22, 23, 24, 25, 26, 27, 28, 29, 30, 31, 32, 33, 34, 35, 36, 37, 38, 39, 40, 41, 42, 43, 44, 45, 46, 47, 48, 49, 50, 51, 52, 53, 54, 55, 56, 57, 58, 59, 60, 61, 62, 63, 64, 65, 66, 67, 68, 69, 70, 71, 72, 73, 74], \"xaxis\": \"x\", \"y\": [0.6166439652442932, 0.6138468384742737, 0.5916555523872375, 0.5854522585868835, 0.5875381827354431, 0.5755539536476135, 0.5723999738693237, 0.564859926700592, 0.5624460577964783, 0.5551899075508118, 0.551040530204773, 0.5441302061080933, 0.5413127541542053, 0.5364485383033752, 0.5343096256256104, 0.5328530669212341, 0.5328051447868347, 0.5312032103538513, 0.5279983282089233, 0.5235913395881653, 0.5164698958396912, 0.5088441967964172, 0.503679096698761, 0.4991273880004883, 0.4952715337276459, 0.49439358711242676, 0.4955572187900543, 0.5008307099342346, 0.4936792850494385, 0.49871811270713806, 0.4947221577167511, 0.495187908411026, 0.4973900020122528, 0.49279212951660156, 0.4946143329143524, 0.49732813239097595, 0.4943941533565521, 0.4916168451309204, 0.4906477928161621, 0.4914286136627197, 0.4933757781982422, 0.49202942848205566, 0.4929177761077881, 0.49053728580474854, 0.4905301630496979, 0.4928836524486542, 0.49162983894348145, 0.49178043007850647, 0.4929158687591553, 0.4898969829082489, 0.4896934926509857, 0.4912515878677368, 0.48909667134284973, 0.4914798438549042, 0.4915754497051239, 0.49060365557670593, 0.48995304107666016, 0.4901350438594818, 0.48906782269477844, 0.490927129983902, 0.49024882912635803, 0.48835429549217224, 0.4905531406402588, 0.492064505815506, 0.4909021854400635, 0.4923415184020996, 0.4889889657497406, 0.48849353194236755, 0.4915057122707367, 0.48887383937835693, 0.48928019404411316, 0.4941157400608063, 0.4884243309497833, 0.4895307123661041, 0.49578848481178284], \"yaxis\": \"y\"}],                        {\"legend\": {\"title\": {\"text\": \"variable\"}, \"tracegroupgap\": 0}, \"template\": {\"data\": {\"bar\": [{\"error_x\": {\"color\": \"#2a3f5f\"}, \"error_y\": {\"color\": \"#2a3f5f\"}, \"marker\": {\"line\": {\"color\": \"#E5ECF6\", \"width\": 0.5}}, \"type\": \"bar\"}], \"barpolar\": [{\"marker\": {\"line\": {\"color\": \"#E5ECF6\", \"width\": 0.5}}, \"type\": \"barpolar\"}], \"carpet\": [{\"aaxis\": {\"endlinecolor\": \"#2a3f5f\", \"gridcolor\": \"white\", \"linecolor\": \"white\", \"minorgridcolor\": \"white\", \"startlinecolor\": \"#2a3f5f\"}, \"baxis\": {\"endlinecolor\": \"#2a3f5f\", \"gridcolor\": \"white\", \"linecolor\": \"white\", \"minorgridcolor\": \"white\", \"startlinecolor\": \"#2a3f5f\"}, \"type\": \"carpet\"}], \"choropleth\": [{\"colorbar\": {\"outlinewidth\": 0, \"ticks\": \"\"}, \"type\": \"choropleth\"}], \"contour\": [{\"colorbar\": {\"outlinewidth\": 0, \"ticks\": \"\"}, \"colorscale\": [[0.0, \"#0d0887\"], [0.1111111111111111, \"#46039f\"], [0.2222222222222222, \"#7201a8\"], [0.3333333333333333, \"#9c179e\"], [0.4444444444444444, \"#bd3786\"], [0.5555555555555556, \"#d8576b\"], [0.6666666666666666, \"#ed7953\"], [0.7777777777777778, \"#fb9f3a\"], [0.8888888888888888, \"#fdca26\"], [1.0, \"#f0f921\"]], \"type\": \"contour\"}], \"contourcarpet\": [{\"colorbar\": {\"outlinewidth\": 0, \"ticks\": \"\"}, \"type\": \"contourcarpet\"}], \"heatmap\": [{\"colorbar\": {\"outlinewidth\": 0, \"ticks\": \"\"}, \"colorscale\": [[0.0, \"#0d0887\"], [0.1111111111111111, \"#46039f\"], [0.2222222222222222, \"#7201a8\"], [0.3333333333333333, \"#9c179e\"], [0.4444444444444444, \"#bd3786\"], [0.5555555555555556, \"#d8576b\"], [0.6666666666666666, \"#ed7953\"], [0.7777777777777778, \"#fb9f3a\"], [0.8888888888888888, \"#fdca26\"], [1.0, \"#f0f921\"]], \"type\": \"heatmap\"}], \"heatmapgl\": [{\"colorbar\": {\"outlinewidth\": 0, \"ticks\": \"\"}, \"colorscale\": [[0.0, \"#0d0887\"], [0.1111111111111111, \"#46039f\"], [0.2222222222222222, \"#7201a8\"], [0.3333333333333333, \"#9c179e\"], [0.4444444444444444, \"#bd3786\"], [0.5555555555555556, \"#d8576b\"], [0.6666666666666666, \"#ed7953\"], [0.7777777777777778, \"#fb9f3a\"], [0.8888888888888888, \"#fdca26\"], [1.0, \"#f0f921\"]], \"type\": \"heatmapgl\"}], \"histogram\": [{\"marker\": {\"colorbar\": {\"outlinewidth\": 0, \"ticks\": \"\"}}, \"type\": \"histogram\"}], \"histogram2d\": [{\"colorbar\": {\"outlinewidth\": 0, \"ticks\": \"\"}, \"colorscale\": [[0.0, \"#0d0887\"], [0.1111111111111111, \"#46039f\"], [0.2222222222222222, \"#7201a8\"], [0.3333333333333333, \"#9c179e\"], [0.4444444444444444, \"#bd3786\"], [0.5555555555555556, \"#d8576b\"], [0.6666666666666666, \"#ed7953\"], [0.7777777777777778, \"#fb9f3a\"], [0.8888888888888888, \"#fdca26\"], [1.0, \"#f0f921\"]], \"type\": \"histogram2d\"}], \"histogram2dcontour\": [{\"colorbar\": {\"outlinewidth\": 0, \"ticks\": \"\"}, \"colorscale\": [[0.0, \"#0d0887\"], [0.1111111111111111, \"#46039f\"], [0.2222222222222222, \"#7201a8\"], [0.3333333333333333, \"#9c179e\"], [0.4444444444444444, \"#bd3786\"], [0.5555555555555556, \"#d8576b\"], [0.6666666666666666, \"#ed7953\"], [0.7777777777777778, \"#fb9f3a\"], [0.8888888888888888, \"#fdca26\"], [1.0, \"#f0f921\"]], \"type\": \"histogram2dcontour\"}], \"mesh3d\": [{\"colorbar\": {\"outlinewidth\": 0, \"ticks\": \"\"}, \"type\": \"mesh3d\"}], \"parcoords\": [{\"line\": {\"colorbar\": {\"outlinewidth\": 0, \"ticks\": \"\"}}, \"type\": \"parcoords\"}], \"pie\": [{\"automargin\": true, \"type\": \"pie\"}], \"scatter\": [{\"marker\": {\"colorbar\": {\"outlinewidth\": 0, \"ticks\": \"\"}}, \"type\": \"scatter\"}], \"scatter3d\": [{\"line\": {\"colorbar\": {\"outlinewidth\": 0, \"ticks\": \"\"}}, \"marker\": {\"colorbar\": {\"outlinewidth\": 0, \"ticks\": \"\"}}, \"type\": \"scatter3d\"}], \"scattercarpet\": [{\"marker\": {\"colorbar\": {\"outlinewidth\": 0, \"ticks\": \"\"}}, \"type\": \"scattercarpet\"}], \"scattergeo\": [{\"marker\": {\"colorbar\": {\"outlinewidth\": 0, \"ticks\": \"\"}}, \"type\": \"scattergeo\"}], \"scattergl\": [{\"marker\": {\"colorbar\": {\"outlinewidth\": 0, \"ticks\": \"\"}}, \"type\": \"scattergl\"}], \"scattermapbox\": [{\"marker\": {\"colorbar\": {\"outlinewidth\": 0, \"ticks\": \"\"}}, \"type\": \"scattermapbox\"}], \"scatterpolar\": [{\"marker\": {\"colorbar\": {\"outlinewidth\": 0, \"ticks\": \"\"}}, \"type\": \"scatterpolar\"}], \"scatterpolargl\": [{\"marker\": {\"colorbar\": {\"outlinewidth\": 0, \"ticks\": \"\"}}, \"type\": \"scatterpolargl\"}], \"scatterternary\": [{\"marker\": {\"colorbar\": {\"outlinewidth\": 0, \"ticks\": \"\"}}, \"type\": \"scatterternary\"}], \"surface\": [{\"colorbar\": {\"outlinewidth\": 0, \"ticks\": \"\"}, \"colorscale\": [[0.0, \"#0d0887\"], [0.1111111111111111, \"#46039f\"], [0.2222222222222222, \"#7201a8\"], [0.3333333333333333, \"#9c179e\"], [0.4444444444444444, \"#bd3786\"], [0.5555555555555556, \"#d8576b\"], [0.6666666666666666, \"#ed7953\"], [0.7777777777777778, \"#fb9f3a\"], [0.8888888888888888, \"#fdca26\"], [1.0, \"#f0f921\"]], \"type\": \"surface\"}], \"table\": [{\"cells\": {\"fill\": {\"color\": \"#EBF0F8\"}, \"line\": {\"color\": \"white\"}}, \"header\": {\"fill\": {\"color\": \"#C8D4E3\"}, \"line\": {\"color\": \"white\"}}, \"type\": \"table\"}]}, \"layout\": {\"annotationdefaults\": {\"arrowcolor\": \"#2a3f5f\", \"arrowhead\": 0, \"arrowwidth\": 1}, \"coloraxis\": {\"colorbar\": {\"outlinewidth\": 0, \"ticks\": \"\"}}, \"colorscale\": {\"diverging\": [[0, \"#8e0152\"], [0.1, \"#c51b7d\"], [0.2, \"#de77ae\"], [0.3, \"#f1b6da\"], [0.4, \"#fde0ef\"], [0.5, \"#f7f7f7\"], [0.6, \"#e6f5d0\"], [0.7, \"#b8e186\"], [0.8, \"#7fbc41\"], [0.9, \"#4d9221\"], [1, \"#276419\"]], \"sequential\": [[0.0, \"#0d0887\"], [0.1111111111111111, \"#46039f\"], [0.2222222222222222, \"#7201a8\"], [0.3333333333333333, \"#9c179e\"], [0.4444444444444444, \"#bd3786\"], [0.5555555555555556, \"#d8576b\"], [0.6666666666666666, \"#ed7953\"], [0.7777777777777778, \"#fb9f3a\"], [0.8888888888888888, \"#fdca26\"], [1.0, \"#f0f921\"]], \"sequentialminus\": [[0.0, \"#0d0887\"], [0.1111111111111111, \"#46039f\"], [0.2222222222222222, \"#7201a8\"], [0.3333333333333333, \"#9c179e\"], [0.4444444444444444, \"#bd3786\"], [0.5555555555555556, \"#d8576b\"], [0.6666666666666666, \"#ed7953\"], [0.7777777777777778, \"#fb9f3a\"], [0.8888888888888888, \"#fdca26\"], [1.0, \"#f0f921\"]]}, \"colorway\": [\"#636efa\", \"#EF553B\", \"#00cc96\", \"#ab63fa\", \"#FFA15A\", \"#19d3f3\", \"#FF6692\", \"#B6E880\", \"#FF97FF\", \"#FECB52\"], \"font\": {\"color\": \"#2a3f5f\"}, \"geo\": {\"bgcolor\": \"white\", \"lakecolor\": \"white\", \"landcolor\": \"#E5ECF6\", \"showlakes\": true, \"showland\": true, \"subunitcolor\": \"white\"}, \"hoverlabel\": {\"align\": \"left\"}, \"hovermode\": \"closest\", \"mapbox\": {\"style\": \"light\"}, \"paper_bgcolor\": \"white\", \"plot_bgcolor\": \"#E5ECF6\", \"polar\": {\"angularaxis\": {\"gridcolor\": \"white\", \"linecolor\": \"white\", \"ticks\": \"\"}, \"bgcolor\": \"#E5ECF6\", \"radialaxis\": {\"gridcolor\": \"white\", \"linecolor\": \"white\", \"ticks\": \"\"}}, \"scene\": {\"xaxis\": {\"backgroundcolor\": \"#E5ECF6\", \"gridcolor\": \"white\", \"gridwidth\": 2, \"linecolor\": \"white\", \"showbackground\": true, \"ticks\": \"\", \"zerolinecolor\": \"white\"}, \"yaxis\": {\"backgroundcolor\": \"#E5ECF6\", \"gridcolor\": \"white\", \"gridwidth\": 2, \"linecolor\": \"white\", \"showbackground\": true, \"ticks\": \"\", \"zerolinecolor\": \"white\"}, \"zaxis\": {\"backgroundcolor\": \"#E5ECF6\", \"gridcolor\": \"white\", \"gridwidth\": 2, \"linecolor\": \"white\", \"showbackground\": true, \"ticks\": \"\", \"zerolinecolor\": \"white\"}}, \"shapedefaults\": {\"line\": {\"color\": \"#2a3f5f\"}}, \"ternary\": {\"aaxis\": {\"gridcolor\": \"white\", \"linecolor\": \"white\", \"ticks\": \"\"}, \"baxis\": {\"gridcolor\": \"white\", \"linecolor\": \"white\", \"ticks\": \"\"}, \"bgcolor\": \"#E5ECF6\", \"caxis\": {\"gridcolor\": \"white\", \"linecolor\": \"white\", \"ticks\": \"\"}}, \"title\": {\"x\": 0.05}, \"xaxis\": {\"automargin\": true, \"gridcolor\": \"white\", \"linecolor\": \"white\", \"ticks\": \"\", \"title\": {\"standoff\": 15}, \"zerolinecolor\": \"white\", \"zerolinewidth\": 2}, \"yaxis\": {\"automargin\": true, \"gridcolor\": \"white\", \"linecolor\": \"white\", \"ticks\": \"\", \"title\": {\"standoff\": 15}, \"zerolinecolor\": \"white\", \"zerolinewidth\": 2}}}, \"title\": {\"text\": \"LSTM Training History\"}, \"xaxis\": {\"anchor\": \"y\", \"domain\": [0.0, 1.0], \"title\": {\"text\": \"epoch\"}}, \"yaxis\": {\"anchor\": \"x\", \"domain\": [0.0, 1.0], \"title\": {\"text\": \"MCRMSE\"}}},                        {\"responsive\": true}                    ).then(function(){\n",
       "                            \n",
       "var gd = document.getElementById('1a95c3b0-846d-4a89-bc95-6a0646aef859');\n",
       "var x = new MutationObserver(function (mutations, observer) {{\n",
       "        var display = window.getComputedStyle(gd).display;\n",
       "        if (!display || display === 'none') {{\n",
       "            console.log([gd, 'removed!']);\n",
       "            Plotly.purge(gd);\n",
       "            observer.disconnect();\n",
       "        }}\n",
       "}});\n",
       "\n",
       "// Listen for the removal of the full notebook cells\n",
       "var notebookContainer = gd.closest('#notebook-container');\n",
       "if (notebookContainer) {{\n",
       "    x.observe(notebookContainer, {childList: true});\n",
       "}}\n",
       "\n",
       "// Listen for the clearing of the current output cell\n",
       "var outputEl = gd.closest('.output');\n",
       "if (outputEl) {{\n",
       "    x.observe(outputEl, {childList: true});\n",
       "}}\n",
       "\n",
       "                        })                };                });            </script>        </div>"
      ]
     },
     "metadata": {},
     "output_type": "display_data"
    }
   ],
   "source": [
    "fig_lstm = px.line(\n",
    "    history_lstm.history, \n",
    "    y=['loss', 'val_loss'],\n",
    "    labels={'index': 'epoch', 'value': 'MCRMSE'}, \n",
    "    title='LSTM Training History'\n",
    ")\n",
    "fig_lstm.show()"
   ]
  },
  {
   "cell_type": "code",
   "execution_count": 53,
   "metadata": {},
   "outputs": [
    {
     "data": {
      "application/vnd.plotly.v1+json": {
       "config": {
        "plotlyServerURL": "https://plot.ly"
       },
       "data": [
        {
         "hovertemplate": "variable=loss<br>epoch=%{x}<br>MCRMSE=%{y}<extra></extra>",
         "legendgroup": "loss",
         "line": {
          "color": "#636efa",
          "dash": "solid"
         },
         "mode": "lines",
         "name": "loss",
         "orientation": "v",
         "showlegend": true,
         "type": "scatter",
         "x": [
          0,
          1,
          2,
          3,
          4,
          5,
          6,
          7,
          8,
          9,
          10,
          11,
          12,
          13,
          14,
          15,
          16,
          17,
          18,
          19,
          20,
          21,
          22,
          23,
          24,
          25,
          26,
          27,
          28,
          29,
          30,
          31,
          32,
          33,
          34,
          35,
          36,
          37,
          38,
          39,
          40,
          41,
          42,
          43,
          44,
          45,
          46,
          47,
          48,
          49,
          50,
          51,
          52,
          53,
          54,
          55,
          56,
          57,
          58,
          59,
          60,
          61,
          62,
          63,
          64,
          65,
          66,
          67,
          68,
          69,
          70,
          71,
          72,
          73,
          74
         ],
         "xaxis": "x",
         "y": [
          0.6095437513457405,
          0.8468842466672262,
          0.5930490811665853,
          0.5522465507189432,
          0.5118919995095995,
          0.5032579196823967,
          0.5026435693105061,
          0.48605023291375904,
          0.4879160636001163,
          0.4759561114841037,
          0.47669969068633183,
          0.4716289050049252,
          0.4653616805871328,
          0.4637840641869439,
          0.45741397341092427,
          0.458062532875273,
          0.45418672760327655,
          0.453915054930581,
          0.450549974044164,
          0.45344782471656797,
          0.4485207590791914,
          0.45084718532032436,
          0.4480146480931176,
          0.4465275711483426,
          0.447697024875217,
          0.44739338093333775,
          0.4454261574480269,
          0.4452997108300527,
          0.4431842697991265,
          0.4445036470890045,
          0.44347773989041644,
          0.4430954356988271,
          0.4429661108387841,
          0.44255862236022947,
          0.44312003387345206,
          0.4415230691432953,
          0.4414921787050035,
          0.4426799436410268,
          0.4406061225467258,
          0.4417938649654388,
          0.4430741078323788,
          0.44199963675604925,
          0.4406698783238729,
          0.44230427477094864,
          0.4414136436250475,
          0.4402719312243991,
          0.43941024078263174,
          0.4395470956961314,
          0.4393616245852576,
          0.43856339785787796,
          0.4398345424069299,
          0.4394723892211914,
          0.43782579633924695,
          0.4370383083820343,
          0.4369879616631402,
          0.4369470430745019,
          0.43535497784614563,
          0.43564333385891385,
          0.4362458421124352,
          0.4350966480043199,
          0.43506645692719353,
          0.43486113482051425,
          0.43356248007880316,
          0.4346330887741513,
          0.4345186160670386,
          0.4328291952610016,
          0.43244716789987353,
          0.4328962140613132,
          0.43067850470542907,
          0.4303164614571465,
          0.428898165623347,
          0.4275903814368778,
          0.42951449751853943,
          0.42551705837249754,
          0.42606966164377
         ],
         "yaxis": "y"
        },
        {
         "hovertemplate": "variable=val_loss<br>epoch=%{x}<br>MCRMSE=%{y}<extra></extra>",
         "legendgroup": "val_loss",
         "line": {
          "color": "#EF553B",
          "dash": "solid"
         },
         "mode": "lines",
         "name": "val_loss",
         "orientation": "v",
         "showlegend": true,
         "type": "scatter",
         "x": [
          0,
          1,
          2,
          3,
          4,
          5,
          6,
          7,
          8,
          9,
          10,
          11,
          12,
          13,
          14,
          15,
          16,
          17,
          18,
          19,
          20,
          21,
          22,
          23,
          24,
          25,
          26,
          27,
          28,
          29,
          30,
          31,
          32,
          33,
          34,
          35,
          36,
          37,
          38,
          39,
          40,
          41,
          42,
          43,
          44,
          45,
          46,
          47,
          48,
          49,
          50,
          51,
          52,
          53,
          54,
          55,
          56,
          57,
          58,
          59,
          60,
          61,
          62,
          63,
          64,
          65,
          66,
          67,
          68,
          69,
          70,
          71,
          72,
          73,
          74
         ],
         "xaxis": "x",
         "y": [
          0.9997549653053284,
          0.661128580570221,
          0.6311133503913879,
          0.5685341358184814,
          0.558831512928009,
          0.5652706027030945,
          0.5462037920951843,
          0.5486147403717041,
          0.5367220044136047,
          0.5395955443382263,
          0.536998450756073,
          0.5334254503250122,
          0.5304310917854309,
          0.5257320404052734,
          0.5311731696128845,
          0.5316683650016785,
          0.5308308005332947,
          0.5276276469230652,
          0.5333859324455261,
          0.525428056716919,
          0.5295804142951965,
          0.5227761268615723,
          0.5228539705276489,
          0.529714822769165,
          0.5190942883491516,
          0.5163124203681946,
          0.5163127183914185,
          0.5170443654060364,
          0.5194405913352966,
          0.5189429521560669,
          0.5185972452163696,
          0.5230478048324585,
          0.5198623538017273,
          0.5180265307426453,
          0.5203431248664856,
          0.5189400315284729,
          0.522235631942749,
          0.5173050761222839,
          0.514373242855072,
          0.5184366106987,
          0.5138178467750549,
          0.5189414620399475,
          0.5262380242347717,
          0.516944944858551,
          0.5202317833900452,
          0.519134521484375,
          0.5151854157447815,
          0.5175600051879883,
          0.5178372859954834,
          0.5146344304084778,
          0.5144327282905579,
          0.5151242613792419,
          0.5129711031913757,
          0.5151088833808899,
          0.5142603516578674,
          0.5120216012001038,
          0.5092751383781433,
          0.5106769800186157,
          0.514805257320404,
          0.5148107409477234,
          0.5108479261398315,
          0.5059942603111267,
          0.5063942074775696,
          0.5079203248023987,
          0.5048301815986633,
          0.5087458491325378,
          0.5110868811607361,
          0.5077223777770996,
          0.5031353831291199,
          0.49936699867248535,
          0.4986618757247925,
          0.5036336779594421,
          0.5005488991737366,
          0.5002605319023132,
          0.5067481398582458
         ],
         "yaxis": "y"
        }
       ],
       "layout": {
        "autosize": true,
        "legend": {
         "title": {
          "text": "variable"
         },
         "tracegroupgap": 0
        },
        "template": {
         "data": {
          "bar": [
           {
            "error_x": {
             "color": "#2a3f5f"
            },
            "error_y": {
             "color": "#2a3f5f"
            },
            "marker": {
             "line": {
              "color": "#E5ECF6",
              "width": 0.5
             }
            },
            "type": "bar"
           }
          ],
          "barpolar": [
           {
            "marker": {
             "line": {
              "color": "#E5ECF6",
              "width": 0.5
             }
            },
            "type": "barpolar"
           }
          ],
          "carpet": [
           {
            "aaxis": {
             "endlinecolor": "#2a3f5f",
             "gridcolor": "white",
             "linecolor": "white",
             "minorgridcolor": "white",
             "startlinecolor": "#2a3f5f"
            },
            "baxis": {
             "endlinecolor": "#2a3f5f",
             "gridcolor": "white",
             "linecolor": "white",
             "minorgridcolor": "white",
             "startlinecolor": "#2a3f5f"
            },
            "type": "carpet"
           }
          ],
          "choropleth": [
           {
            "colorbar": {
             "outlinewidth": 0,
             "ticks": ""
            },
            "type": "choropleth"
           }
          ],
          "contour": [
           {
            "colorbar": {
             "outlinewidth": 0,
             "ticks": ""
            },
            "colorscale": [
             [
              0,
              "#0d0887"
             ],
             [
              0.1111111111111111,
              "#46039f"
             ],
             [
              0.2222222222222222,
              "#7201a8"
             ],
             [
              0.3333333333333333,
              "#9c179e"
             ],
             [
              0.4444444444444444,
              "#bd3786"
             ],
             [
              0.5555555555555556,
              "#d8576b"
             ],
             [
              0.6666666666666666,
              "#ed7953"
             ],
             [
              0.7777777777777778,
              "#fb9f3a"
             ],
             [
              0.8888888888888888,
              "#fdca26"
             ],
             [
              1,
              "#f0f921"
             ]
            ],
            "type": "contour"
           }
          ],
          "contourcarpet": [
           {
            "colorbar": {
             "outlinewidth": 0,
             "ticks": ""
            },
            "type": "contourcarpet"
           }
          ],
          "heatmap": [
           {
            "colorbar": {
             "outlinewidth": 0,
             "ticks": ""
            },
            "colorscale": [
             [
              0,
              "#0d0887"
             ],
             [
              0.1111111111111111,
              "#46039f"
             ],
             [
              0.2222222222222222,
              "#7201a8"
             ],
             [
              0.3333333333333333,
              "#9c179e"
             ],
             [
              0.4444444444444444,
              "#bd3786"
             ],
             [
              0.5555555555555556,
              "#d8576b"
             ],
             [
              0.6666666666666666,
              "#ed7953"
             ],
             [
              0.7777777777777778,
              "#fb9f3a"
             ],
             [
              0.8888888888888888,
              "#fdca26"
             ],
             [
              1,
              "#f0f921"
             ]
            ],
            "type": "heatmap"
           }
          ],
          "heatmapgl": [
           {
            "colorbar": {
             "outlinewidth": 0,
             "ticks": ""
            },
            "colorscale": [
             [
              0,
              "#0d0887"
             ],
             [
              0.1111111111111111,
              "#46039f"
             ],
             [
              0.2222222222222222,
              "#7201a8"
             ],
             [
              0.3333333333333333,
              "#9c179e"
             ],
             [
              0.4444444444444444,
              "#bd3786"
             ],
             [
              0.5555555555555556,
              "#d8576b"
             ],
             [
              0.6666666666666666,
              "#ed7953"
             ],
             [
              0.7777777777777778,
              "#fb9f3a"
             ],
             [
              0.8888888888888888,
              "#fdca26"
             ],
             [
              1,
              "#f0f921"
             ]
            ],
            "type": "heatmapgl"
           }
          ],
          "histogram": [
           {
            "marker": {
             "colorbar": {
              "outlinewidth": 0,
              "ticks": ""
             }
            },
            "type": "histogram"
           }
          ],
          "histogram2d": [
           {
            "colorbar": {
             "outlinewidth": 0,
             "ticks": ""
            },
            "colorscale": [
             [
              0,
              "#0d0887"
             ],
             [
              0.1111111111111111,
              "#46039f"
             ],
             [
              0.2222222222222222,
              "#7201a8"
             ],
             [
              0.3333333333333333,
              "#9c179e"
             ],
             [
              0.4444444444444444,
              "#bd3786"
             ],
             [
              0.5555555555555556,
              "#d8576b"
             ],
             [
              0.6666666666666666,
              "#ed7953"
             ],
             [
              0.7777777777777778,
              "#fb9f3a"
             ],
             [
              0.8888888888888888,
              "#fdca26"
             ],
             [
              1,
              "#f0f921"
             ]
            ],
            "type": "histogram2d"
           }
          ],
          "histogram2dcontour": [
           {
            "colorbar": {
             "outlinewidth": 0,
             "ticks": ""
            },
            "colorscale": [
             [
              0,
              "#0d0887"
             ],
             [
              0.1111111111111111,
              "#46039f"
             ],
             [
              0.2222222222222222,
              "#7201a8"
             ],
             [
              0.3333333333333333,
              "#9c179e"
             ],
             [
              0.4444444444444444,
              "#bd3786"
             ],
             [
              0.5555555555555556,
              "#d8576b"
             ],
             [
              0.6666666666666666,
              "#ed7953"
             ],
             [
              0.7777777777777778,
              "#fb9f3a"
             ],
             [
              0.8888888888888888,
              "#fdca26"
             ],
             [
              1,
              "#f0f921"
             ]
            ],
            "type": "histogram2dcontour"
           }
          ],
          "mesh3d": [
           {
            "colorbar": {
             "outlinewidth": 0,
             "ticks": ""
            },
            "type": "mesh3d"
           }
          ],
          "parcoords": [
           {
            "line": {
             "colorbar": {
              "outlinewidth": 0,
              "ticks": ""
             }
            },
            "type": "parcoords"
           }
          ],
          "pie": [
           {
            "automargin": true,
            "type": "pie"
           }
          ],
          "scatter": [
           {
            "marker": {
             "colorbar": {
              "outlinewidth": 0,
              "ticks": ""
             }
            },
            "type": "scatter"
           }
          ],
          "scatter3d": [
           {
            "line": {
             "colorbar": {
              "outlinewidth": 0,
              "ticks": ""
             }
            },
            "marker": {
             "colorbar": {
              "outlinewidth": 0,
              "ticks": ""
             }
            },
            "type": "scatter3d"
           }
          ],
          "scattercarpet": [
           {
            "marker": {
             "colorbar": {
              "outlinewidth": 0,
              "ticks": ""
             }
            },
            "type": "scattercarpet"
           }
          ],
          "scattergeo": [
           {
            "marker": {
             "colorbar": {
              "outlinewidth": 0,
              "ticks": ""
             }
            },
            "type": "scattergeo"
           }
          ],
          "scattergl": [
           {
            "marker": {
             "colorbar": {
              "outlinewidth": 0,
              "ticks": ""
             }
            },
            "type": "scattergl"
           }
          ],
          "scattermapbox": [
           {
            "marker": {
             "colorbar": {
              "outlinewidth": 0,
              "ticks": ""
             }
            },
            "type": "scattermapbox"
           }
          ],
          "scatterpolar": [
           {
            "marker": {
             "colorbar": {
              "outlinewidth": 0,
              "ticks": ""
             }
            },
            "type": "scatterpolar"
           }
          ],
          "scatterpolargl": [
           {
            "marker": {
             "colorbar": {
              "outlinewidth": 0,
              "ticks": ""
             }
            },
            "type": "scatterpolargl"
           }
          ],
          "scatterternary": [
           {
            "marker": {
             "colorbar": {
              "outlinewidth": 0,
              "ticks": ""
             }
            },
            "type": "scatterternary"
           }
          ],
          "surface": [
           {
            "colorbar": {
             "outlinewidth": 0,
             "ticks": ""
            },
            "colorscale": [
             [
              0,
              "#0d0887"
             ],
             [
              0.1111111111111111,
              "#46039f"
             ],
             [
              0.2222222222222222,
              "#7201a8"
             ],
             [
              0.3333333333333333,
              "#9c179e"
             ],
             [
              0.4444444444444444,
              "#bd3786"
             ],
             [
              0.5555555555555556,
              "#d8576b"
             ],
             [
              0.6666666666666666,
              "#ed7953"
             ],
             [
              0.7777777777777778,
              "#fb9f3a"
             ],
             [
              0.8888888888888888,
              "#fdca26"
             ],
             [
              1,
              "#f0f921"
             ]
            ],
            "type": "surface"
           }
          ],
          "table": [
           {
            "cells": {
             "fill": {
              "color": "#EBF0F8"
             },
             "line": {
              "color": "white"
             }
            },
            "header": {
             "fill": {
              "color": "#C8D4E3"
             },
             "line": {
              "color": "white"
             }
            },
            "type": "table"
           }
          ]
         },
         "layout": {
          "annotationdefaults": {
           "arrowcolor": "#2a3f5f",
           "arrowhead": 0,
           "arrowwidth": 1
          },
          "coloraxis": {
           "colorbar": {
            "outlinewidth": 0,
            "ticks": ""
           }
          },
          "colorscale": {
           "diverging": [
            [
             0,
             "#8e0152"
            ],
            [
             0.1,
             "#c51b7d"
            ],
            [
             0.2,
             "#de77ae"
            ],
            [
             0.3,
             "#f1b6da"
            ],
            [
             0.4,
             "#fde0ef"
            ],
            [
             0.5,
             "#f7f7f7"
            ],
            [
             0.6,
             "#e6f5d0"
            ],
            [
             0.7,
             "#b8e186"
            ],
            [
             0.8,
             "#7fbc41"
            ],
            [
             0.9,
             "#4d9221"
            ],
            [
             1,
             "#276419"
            ]
           ],
           "sequential": [
            [
             0,
             "#0d0887"
            ],
            [
             0.1111111111111111,
             "#46039f"
            ],
            [
             0.2222222222222222,
             "#7201a8"
            ],
            [
             0.3333333333333333,
             "#9c179e"
            ],
            [
             0.4444444444444444,
             "#bd3786"
            ],
            [
             0.5555555555555556,
             "#d8576b"
            ],
            [
             0.6666666666666666,
             "#ed7953"
            ],
            [
             0.7777777777777778,
             "#fb9f3a"
            ],
            [
             0.8888888888888888,
             "#fdca26"
            ],
            [
             1,
             "#f0f921"
            ]
           ],
           "sequentialminus": [
            [
             0,
             "#0d0887"
            ],
            [
             0.1111111111111111,
             "#46039f"
            ],
            [
             0.2222222222222222,
             "#7201a8"
            ],
            [
             0.3333333333333333,
             "#9c179e"
            ],
            [
             0.4444444444444444,
             "#bd3786"
            ],
            [
             0.5555555555555556,
             "#d8576b"
            ],
            [
             0.6666666666666666,
             "#ed7953"
            ],
            [
             0.7777777777777778,
             "#fb9f3a"
            ],
            [
             0.8888888888888888,
             "#fdca26"
            ],
            [
             1,
             "#f0f921"
            ]
           ]
          },
          "colorway": [
           "#636efa",
           "#EF553B",
           "#00cc96",
           "#ab63fa",
           "#FFA15A",
           "#19d3f3",
           "#FF6692",
           "#B6E880",
           "#FF97FF",
           "#FECB52"
          ],
          "font": {
           "color": "#2a3f5f"
          },
          "geo": {
           "bgcolor": "white",
           "lakecolor": "white",
           "landcolor": "#E5ECF6",
           "showlakes": true,
           "showland": true,
           "subunitcolor": "white"
          },
          "hoverlabel": {
           "align": "left"
          },
          "hovermode": "closest",
          "mapbox": {
           "style": "light"
          },
          "paper_bgcolor": "white",
          "plot_bgcolor": "#E5ECF6",
          "polar": {
           "angularaxis": {
            "gridcolor": "white",
            "linecolor": "white",
            "ticks": ""
           },
           "bgcolor": "#E5ECF6",
           "radialaxis": {
            "gridcolor": "white",
            "linecolor": "white",
            "ticks": ""
           }
          },
          "scene": {
           "xaxis": {
            "backgroundcolor": "#E5ECF6",
            "gridcolor": "white",
            "gridwidth": 2,
            "linecolor": "white",
            "showbackground": true,
            "ticks": "",
            "zerolinecolor": "white"
           },
           "yaxis": {
            "backgroundcolor": "#E5ECF6",
            "gridcolor": "white",
            "gridwidth": 2,
            "linecolor": "white",
            "showbackground": true,
            "ticks": "",
            "zerolinecolor": "white"
           },
           "zaxis": {
            "backgroundcolor": "#E5ECF6",
            "gridcolor": "white",
            "gridwidth": 2,
            "linecolor": "white",
            "showbackground": true,
            "ticks": "",
            "zerolinecolor": "white"
           }
          },
          "shapedefaults": {
           "line": {
            "color": "#2a3f5f"
           }
          },
          "ternary": {
           "aaxis": {
            "gridcolor": "white",
            "linecolor": "white",
            "ticks": ""
           },
           "baxis": {
            "gridcolor": "white",
            "linecolor": "white",
            "ticks": ""
           },
           "bgcolor": "#E5ECF6",
           "caxis": {
            "gridcolor": "white",
            "linecolor": "white",
            "ticks": ""
           }
          },
          "title": {
           "x": 0.05
          },
          "xaxis": {
           "automargin": true,
           "gridcolor": "white",
           "linecolor": "white",
           "ticks": "",
           "title": {
            "standoff": 15
           },
           "zerolinecolor": "white",
           "zerolinewidth": 2
          },
          "yaxis": {
           "automargin": true,
           "gridcolor": "white",
           "linecolor": "white",
           "ticks": "",
           "title": {
            "standoff": 15
           },
           "zerolinecolor": "white",
           "zerolinewidth": 2
          }
         }
        },
        "title": {
         "text": "BiLSTM Training History"
        },
        "xaxis": {
         "anchor": "y",
         "autorange": true,
         "domain": [
          0,
          1
         ],
         "range": [
          0,
          74
         ],
         "title": {
          "text": "epoch"
         },
         "type": "linear"
        },
        "yaxis": {
         "anchor": "x",
         "autorange": true,
         "domain": [
          0,
          1
         ],
         "range": [
          0.3936149524317847,
          1.0316570712460411
         ],
         "title": {
          "text": "MCRMSE"
         },
         "type": "linear"
        }
       }
      },
      "image/png": "[encoded data removed]",
      "text/html": [
       "<div>                            <div id=\"148ed298-945c-4eca-ba0b-80dcc12b7f72\" class=\"plotly-graph-div\" style=\"height:525px; width:100%;\"></div>            <script type=\"text/javascript\">                require([\"plotly\"], function(Plotly) {                    window.PLOTLYENV=window.PLOTLYENV || {};                                    if (document.getElementById(\"148ed298-945c-4eca-ba0b-80dcc12b7f72\")) {                    Plotly.newPlot(                        \"148ed298-945c-4eca-ba0b-80dcc12b7f72\",                        [{\"hovertemplate\": \"variable=loss<br>epoch=%{x}<br>MCRMSE=%{y}<extra></extra>\", \"legendgroup\": \"loss\", \"line\": {\"color\": \"#636efa\", \"dash\": \"solid\"}, \"mode\": \"lines\", \"name\": \"loss\", \"orientation\": \"v\", \"showlegend\": true, \"type\": \"scatter\", \"x\": [0, 1, 2, 3, 4, 5, 6, 7, 8, 9, 10, 11, 12, 13, 14, 15, 16, 17, 18, 19, 20, 21, 22, 23, 24, 25, 26, 27, 28, 29, 30, 31, 32, 33, 34, 35, 36, 37, 38, 39, 40, 41, 42, 43, 44, 45, 46, 47, 48, 49, 50, 51, 52, 53, 54, 55, 56, 57, 58, 59, 60, 61, 62, 63, 64, 65, 66, 67, 68, 69, 70, 71, 72, 73, 74], \"xaxis\": \"x\", \"y\": [0.6095437513457405, 0.8468842466672262, 0.5930490811665853, 0.5522465507189432, 0.5118919995095995, 0.5032579196823967, 0.5026435693105061, 0.48605023291375904, 0.4879160636001163, 0.4759561114841037, 0.47669969068633183, 0.4716289050049252, 0.4653616805871328, 0.4637840641869439, 0.45741397341092427, 0.458062532875273, 0.45418672760327655, 0.453915054930581, 0.450549974044164, 0.45344782471656797, 0.4485207590791914, 0.45084718532032436, 0.4480146480931176, 0.4465275711483426, 0.447697024875217, 0.44739338093333775, 0.4454261574480269, 0.4452997108300527, 0.4431842697991265, 0.4445036470890045, 0.44347773989041644, 0.4430954356988271, 0.4429661108387841, 0.44255862236022947, 0.44312003387345206, 0.4415230691432953, 0.4414921787050035, 0.4426799436410268, 0.4406061225467258, 0.4417938649654388, 0.4430741078323788, 0.44199963675604925, 0.4406698783238729, 0.44230427477094864, 0.4414136436250475, 0.4402719312243991, 0.43941024078263174, 0.4395470956961314, 0.4393616245852576, 0.43856339785787796, 0.4398345424069299, 0.4394723892211914, 0.43782579633924695, 0.4370383083820343, 0.4369879616631402, 0.4369470430745019, 0.43535497784614563, 0.43564333385891385, 0.4362458421124352, 0.4350966480043199, 0.43506645692719353, 0.43486113482051425, 0.43356248007880316, 0.4346330887741513, 0.4345186160670386, 0.4328291952610016, 0.43244716789987353, 0.4328962140613132, 0.43067850470542907, 0.4303164614571465, 0.428898165623347, 0.4275903814368778, 0.42951449751853943, 0.42551705837249754, 0.42606966164377], \"yaxis\": \"y\"}, {\"hovertemplate\": \"variable=val_loss<br>epoch=%{x}<br>MCRMSE=%{y}<extra></extra>\", \"legendgroup\": \"val_loss\", \"line\": {\"color\": \"#EF553B\", \"dash\": \"solid\"}, \"mode\": \"lines\", \"name\": \"val_loss\", \"orientation\": \"v\", \"showlegend\": true, \"type\": \"scatter\", \"x\": [0, 1, 2, 3, 4, 5, 6, 7, 8, 9, 10, 11, 12, 13, 14, 15, 16, 17, 18, 19, 20, 21, 22, 23, 24, 25, 26, 27, 28, 29, 30, 31, 32, 33, 34, 35, 36, 37, 38, 39, 40, 41, 42, 43, 44, 45, 46, 47, 48, 49, 50, 51, 52, 53, 54, 55, 56, 57, 58, 59, 60, 61, 62, 63, 64, 65, 66, 67, 68, 69, 70, 71, 72, 73, 74], \"xaxis\": \"x\", \"y\": [0.9997549653053284, 0.661128580570221, 0.6311133503913879, 0.5685341358184814, 0.558831512928009, 0.5652706027030945, 0.5462037920951843, 0.5486147403717041, 0.5367220044136047, 0.5395955443382263, 0.536998450756073, 0.5334254503250122, 0.5304310917854309, 0.5257320404052734, 0.5311731696128845, 0.5316683650016785, 0.5308308005332947, 0.5276276469230652, 0.5333859324455261, 0.525428056716919, 0.5295804142951965, 0.5227761268615723, 0.5228539705276489, 0.529714822769165, 0.5190942883491516, 0.5163124203681946, 0.5163127183914185, 0.5170443654060364, 0.5194405913352966, 0.5189429521560669, 0.5185972452163696, 0.5230478048324585, 0.5198623538017273, 0.5180265307426453, 0.5203431248664856, 0.5189400315284729, 0.522235631942749, 0.5173050761222839, 0.514373242855072, 0.5184366106987, 0.5138178467750549, 0.5189414620399475, 0.5262380242347717, 0.516944944858551, 0.5202317833900452, 0.519134521484375, 0.5151854157447815, 0.5175600051879883, 0.5178372859954834, 0.5146344304084778, 0.5144327282905579, 0.5151242613792419, 0.5129711031913757, 0.5151088833808899, 0.5142603516578674, 0.5120216012001038, 0.5092751383781433, 0.5106769800186157, 0.514805257320404, 0.5148107409477234, 0.5108479261398315, 0.5059942603111267, 0.5063942074775696, 0.5079203248023987, 0.5048301815986633, 0.5087458491325378, 0.5110868811607361, 0.5077223777770996, 0.5031353831291199, 0.49936699867248535, 0.4986618757247925, 0.5036336779594421, 0.5005488991737366, 0.5002605319023132, 0.5067481398582458], \"yaxis\": \"y\"}],                        {\"legend\": {\"title\": {\"text\": \"variable\"}, \"tracegroupgap\": 0}, \"template\": {\"data\": {\"bar\": [{\"error_x\": {\"color\": \"#2a3f5f\"}, \"error_y\": {\"color\": \"#2a3f5f\"}, \"marker\": {\"line\": {\"color\": \"#E5ECF6\", \"width\": 0.5}}, \"type\": \"bar\"}], \"barpolar\": [{\"marker\": {\"line\": {\"color\": \"#E5ECF6\", \"width\": 0.5}}, \"type\": \"barpolar\"}], \"carpet\": [{\"aaxis\": {\"endlinecolor\": \"#2a3f5f\", \"gridcolor\": \"white\", \"linecolor\": \"white\", \"minorgridcolor\": \"white\", \"startlinecolor\": \"#2a3f5f\"}, \"baxis\": {\"endlinecolor\": \"#2a3f5f\", \"gridcolor\": \"white\", \"linecolor\": \"white\", \"minorgridcolor\": \"white\", \"startlinecolor\": \"#2a3f5f\"}, \"type\": \"carpet\"}], \"choropleth\": [{\"colorbar\": {\"outlinewidth\": 0, \"ticks\": \"\"}, \"type\": \"choropleth\"}], \"contour\": [{\"colorbar\": {\"outlinewidth\": 0, \"ticks\": \"\"}, \"colorscale\": [[0.0, \"#0d0887\"], [0.1111111111111111, \"#46039f\"], [0.2222222222222222, \"#7201a8\"], [0.3333333333333333, \"#9c179e\"], [0.4444444444444444, \"#bd3786\"], [0.5555555555555556, \"#d8576b\"], [0.6666666666666666, \"#ed7953\"], [0.7777777777777778, \"#fb9f3a\"], [0.8888888888888888, \"#fdca26\"], [1.0, \"#f0f921\"]], \"type\": \"contour\"}], \"contourcarpet\": [{\"colorbar\": {\"outlinewidth\": 0, \"ticks\": \"\"}, \"type\": \"contourcarpet\"}], \"heatmap\": [{\"colorbar\": {\"outlinewidth\": 0, \"ticks\": \"\"}, \"colorscale\": [[0.0, \"#0d0887\"], [0.1111111111111111, \"#46039f\"], [0.2222222222222222, \"#7201a8\"], [0.3333333333333333, \"#9c179e\"], [0.4444444444444444, \"#bd3786\"], [0.5555555555555556, \"#d8576b\"], [0.6666666666666666, \"#ed7953\"], [0.7777777777777778, \"#fb9f3a\"], [0.8888888888888888, \"#fdca26\"], [1.0, \"#f0f921\"]], \"type\": \"heatmap\"}], \"heatmapgl\": [{\"colorbar\": {\"outlinewidth\": 0, \"ticks\": \"\"}, \"colorscale\": [[0.0, \"#0d0887\"], [0.1111111111111111, \"#46039f\"], [0.2222222222222222, \"#7201a8\"], [0.3333333333333333, \"#9c179e\"], [0.4444444444444444, \"#bd3786\"], [0.5555555555555556, \"#d8576b\"], [0.6666666666666666, \"#ed7953\"], [0.7777777777777778, \"#fb9f3a\"], [0.8888888888888888, \"#fdca26\"], [1.0, \"#f0f921\"]], \"type\": \"heatmapgl\"}], \"histogram\": [{\"marker\": {\"colorbar\": {\"outlinewidth\": 0, \"ticks\": \"\"}}, \"type\": \"histogram\"}], \"histogram2d\": [{\"colorbar\": {\"outlinewidth\": 0, \"ticks\": \"\"}, \"colorscale\": [[0.0, \"#0d0887\"], [0.1111111111111111, \"#46039f\"], [0.2222222222222222, \"#7201a8\"], [0.3333333333333333, \"#9c179e\"], [0.4444444444444444, \"#bd3786\"], [0.5555555555555556, \"#d8576b\"], [0.6666666666666666, \"#ed7953\"], [0.7777777777777778, \"#fb9f3a\"], [0.8888888888888888, \"#fdca26\"], [1.0, \"#f0f921\"]], \"type\": \"histogram2d\"}], \"histogram2dcontour\": [{\"colorbar\": {\"outlinewidth\": 0, \"ticks\": \"\"}, \"colorscale\": [[0.0, \"#0d0887\"], [0.1111111111111111, \"#46039f\"], [0.2222222222222222, \"#7201a8\"], [0.3333333333333333, \"#9c179e\"], [0.4444444444444444, \"#bd3786\"], [0.5555555555555556, \"#d8576b\"], [0.6666666666666666, \"#ed7953\"], [0.7777777777777778, \"#fb9f3a\"], [0.8888888888888888, \"#fdca26\"], [1.0, \"#f0f921\"]], \"type\": \"histogram2dcontour\"}], \"mesh3d\": [{\"colorbar\": {\"outlinewidth\": 0, \"ticks\": \"\"}, \"type\": \"mesh3d\"}], \"parcoords\": [{\"line\": {\"colorbar\": {\"outlinewidth\": 0, \"ticks\": \"\"}}, \"type\": \"parcoords\"}], \"pie\": [{\"automargin\": true, \"type\": \"pie\"}], \"scatter\": [{\"marker\": {\"colorbar\": {\"outlinewidth\": 0, \"ticks\": \"\"}}, \"type\": \"scatter\"}], \"scatter3d\": [{\"line\": {\"colorbar\": {\"outlinewidth\": 0, \"ticks\": \"\"}}, \"marker\": {\"colorbar\": {\"outlinewidth\": 0, \"ticks\": \"\"}}, \"type\": \"scatter3d\"}], \"scattercarpet\": [{\"marker\": {\"colorbar\": {\"outlinewidth\": 0, \"ticks\": \"\"}}, \"type\": \"scattercarpet\"}], \"scattergeo\": [{\"marker\": {\"colorbar\": {\"outlinewidth\": 0, \"ticks\": \"\"}}, \"type\": \"scattergeo\"}], \"scattergl\": [{\"marker\": {\"colorbar\": {\"outlinewidth\": 0, \"ticks\": \"\"}}, \"type\": \"scattergl\"}], \"scattermapbox\": [{\"marker\": {\"colorbar\": {\"outlinewidth\": 0, \"ticks\": \"\"}}, \"type\": \"scattermapbox\"}], \"scatterpolar\": [{\"marker\": {\"colorbar\": {\"outlinewidth\": 0, \"ticks\": \"\"}}, \"type\": \"scatterpolar\"}], \"scatterpolargl\": [{\"marker\": {\"colorbar\": {\"outlinewidth\": 0, \"ticks\": \"\"}}, \"type\": \"scatterpolargl\"}], \"scatterternary\": [{\"marker\": {\"colorbar\": {\"outlinewidth\": 0, \"ticks\": \"\"}}, \"type\": \"scatterternary\"}], \"surface\": [{\"colorbar\": {\"outlinewidth\": 0, \"ticks\": \"\"}, \"colorscale\": [[0.0, \"#0d0887\"], [0.1111111111111111, \"#46039f\"], [0.2222222222222222, \"#7201a8\"], [0.3333333333333333, \"#9c179e\"], [0.4444444444444444, \"#bd3786\"], [0.5555555555555556, \"#d8576b\"], [0.6666666666666666, \"#ed7953\"], [0.7777777777777778, \"#fb9f3a\"], [0.8888888888888888, \"#fdca26\"], [1.0, \"#f0f921\"]], \"type\": \"surface\"}], \"table\": [{\"cells\": {\"fill\": {\"color\": \"#EBF0F8\"}, \"line\": {\"color\": \"white\"}}, \"header\": {\"fill\": {\"color\": \"#C8D4E3\"}, \"line\": {\"color\": \"white\"}}, \"type\": \"table\"}]}, \"layout\": {\"annotationdefaults\": {\"arrowcolor\": \"#2a3f5f\", \"arrowhead\": 0, \"arrowwidth\": 1}, \"coloraxis\": {\"colorbar\": {\"outlinewidth\": 0, \"ticks\": \"\"}}, \"colorscale\": {\"diverging\": [[0, \"#8e0152\"], [0.1, \"#c51b7d\"], [0.2, \"#de77ae\"], [0.3, \"#f1b6da\"], [0.4, \"#fde0ef\"], [0.5, \"#f7f7f7\"], [0.6, \"#e6f5d0\"], [0.7, \"#b8e186\"], [0.8, \"#7fbc41\"], [0.9, \"#4d9221\"], [1, \"#276419\"]], \"sequential\": [[0.0, \"#0d0887\"], [0.1111111111111111, \"#46039f\"], [0.2222222222222222, \"#7201a8\"], [0.3333333333333333, \"#9c179e\"], [0.4444444444444444, \"#bd3786\"], [0.5555555555555556, \"#d8576b\"], [0.6666666666666666, \"#ed7953\"], [0.7777777777777778, \"#fb9f3a\"], [0.8888888888888888, \"#fdca26\"], [1.0, \"#f0f921\"]], \"sequentialminus\": [[0.0, \"#0d0887\"], [0.1111111111111111, \"#46039f\"], [0.2222222222222222, \"#7201a8\"], [0.3333333333333333, \"#9c179e\"], [0.4444444444444444, \"#bd3786\"], [0.5555555555555556, \"#d8576b\"], [0.6666666666666666, \"#ed7953\"], [0.7777777777777778, \"#fb9f3a\"], [0.8888888888888888, \"#fdca26\"], [1.0, \"#f0f921\"]]}, \"colorway\": [\"#636efa\", \"#EF553B\", \"#00cc96\", \"#ab63fa\", \"#FFA15A\", \"#19d3f3\", \"#FF6692\", \"#B6E880\", \"#FF97FF\", \"#FECB52\"], \"font\": {\"color\": \"#2a3f5f\"}, \"geo\": {\"bgcolor\": \"white\", \"lakecolor\": \"white\", \"landcolor\": \"#E5ECF6\", \"showlakes\": true, \"showland\": true, \"subunitcolor\": \"white\"}, \"hoverlabel\": {\"align\": \"left\"}, \"hovermode\": \"closest\", \"mapbox\": {\"style\": \"light\"}, \"paper_bgcolor\": \"white\", \"plot_bgcolor\": \"#E5ECF6\", \"polar\": {\"angularaxis\": {\"gridcolor\": \"white\", \"linecolor\": \"white\", \"ticks\": \"\"}, \"bgcolor\": \"#E5ECF6\", \"radialaxis\": {\"gridcolor\": \"white\", \"linecolor\": \"white\", \"ticks\": \"\"}}, \"scene\": {\"xaxis\": {\"backgroundcolor\": \"#E5ECF6\", \"gridcolor\": \"white\", \"gridwidth\": 2, \"linecolor\": \"white\", \"showbackground\": true, \"ticks\": \"\", \"zerolinecolor\": \"white\"}, \"yaxis\": {\"backgroundcolor\": \"#E5ECF6\", \"gridcolor\": \"white\", \"gridwidth\": 2, \"linecolor\": \"white\", \"showbackground\": true, \"ticks\": \"\", \"zerolinecolor\": \"white\"}, \"zaxis\": {\"backgroundcolor\": \"#E5ECF6\", \"gridcolor\": \"white\", \"gridwidth\": 2, \"linecolor\": \"white\", \"showbackground\": true, \"ticks\": \"\", \"zerolinecolor\": \"white\"}}, \"shapedefaults\": {\"line\": {\"color\": \"#2a3f5f\"}}, \"ternary\": {\"aaxis\": {\"gridcolor\": \"white\", \"linecolor\": \"white\", \"ticks\": \"\"}, \"baxis\": {\"gridcolor\": \"white\", \"linecolor\": \"white\", \"ticks\": \"\"}, \"bgcolor\": \"#E5ECF6\", \"caxis\": {\"gridcolor\": \"white\", \"linecolor\": \"white\", \"ticks\": \"\"}}, \"title\": {\"x\": 0.05}, \"xaxis\": {\"automargin\": true, \"gridcolor\": \"white\", \"linecolor\": \"white\", \"ticks\": \"\", \"title\": {\"standoff\": 15}, \"zerolinecolor\": \"white\", \"zerolinewidth\": 2}, \"yaxis\": {\"automargin\": true, \"gridcolor\": \"white\", \"linecolor\": \"white\", \"ticks\": \"\", \"title\": {\"standoff\": 15}, \"zerolinecolor\": \"white\", \"zerolinewidth\": 2}}}, \"title\": {\"text\": \"BiLSTM Training History\"}, \"xaxis\": {\"anchor\": \"y\", \"domain\": [0.0, 1.0], \"title\": {\"text\": \"epoch\"}}, \"yaxis\": {\"anchor\": \"x\", \"domain\": [0.0, 1.0], \"title\": {\"text\": \"MCRMSE\"}}},                        {\"responsive\": true}                    ).then(function(){\n",
       "                            \n",
       "var gd = document.getElementById('148ed298-945c-4eca-ba0b-80dcc12b7f72');\n",
       "var x = new MutationObserver(function (mutations, observer) {{\n",
       "        var display = window.getComputedStyle(gd).display;\n",
       "        if (!display || display === 'none') {{\n",
       "            console.log([gd, 'removed!']);\n",
       "            Plotly.purge(gd);\n",
       "            observer.disconnect();\n",
       "        }}\n",
       "}});\n",
       "\n",
       "// Listen for the removal of the full notebook cells\n",
       "var notebookContainer = gd.closest('#notebook-container');\n",
       "if (notebookContainer) {{\n",
       "    x.observe(notebookContainer, {childList: true});\n",
       "}}\n",
       "\n",
       "// Listen for the clearing of the current output cell\n",
       "var outputEl = gd.closest('.output');\n",
       "if (outputEl) {{\n",
       "    x.observe(outputEl, {childList: true});\n",
       "}}\n",
       "\n",
       "                        })                };                });            </script>        </div>"
      ]
     },
     "metadata": {},
     "output_type": "display_data"
    }
   ],
   "source": [
    "fig_bi_lstm = px.line(\n",
    "    history_bi_lstm.history, \n",
    "    y=['loss', 'val_loss'],\n",
    "    labels={'index': 'epoch', 'value': 'MCRMSE'}, \n",
    "    title='BiLSTM Training History'\n",
    ")\n",
    "fig_bi_lstm.show()"
   ]
  }
 ],
 "metadata": {
  "kernelspec": {
   "display_name": "Python 3",
   "language": "python",
   "name": "python3"
  },
  "language_info": {
   "codemirror_mode": {
    "name": "ipython",
    "version": 3
   },
   "file_extension": ".py",
   "mimetype": "text/x-python",
   "name": "python",
   "nbconvert_exporter": "python",
   "pygments_lexer": "ipython3",
   "version": "3.7.4"
  }
 },
 "nbformat": 4,
 "nbformat_minor": 4
}
